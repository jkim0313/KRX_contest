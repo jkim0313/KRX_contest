{
 "cells": [
  {
   "cell_type": "code",
   "execution_count": 85,
   "id": "9d95ba2c",
   "metadata": {
    "ExecuteTime": {
     "end_time": "2022-07-11T10:09:28.959395Z",
     "start_time": "2022-07-11T10:09:28.911522Z"
    }
   },
   "outputs": [
    {
     "data": {
      "text/html": [
       "<div>\n",
       "<style scoped>\n",
       "    .dataframe tbody tr th:only-of-type {\n",
       "        vertical-align: middle;\n",
       "    }\n",
       "\n",
       "    .dataframe tbody tr th {\n",
       "        vertical-align: top;\n",
       "    }\n",
       "\n",
       "    .dataframe thead th {\n",
       "        text-align: right;\n",
       "    }\n",
       "</style>\n",
       "<table border=\"1\" class=\"dataframe\">\n",
       "  <thead>\n",
       "    <tr style=\"text-align: right;\">\n",
       "      <th></th>\n",
       "      <th>일자 및 요일</th>\n",
       "      <th>요일구분</th>\n",
       "      <th>비고</th>\n",
       "    </tr>\n",
       "  </thead>\n",
       "  <tbody>\n",
       "    <tr>\n",
       "      <th>0</th>\n",
       "      <td>2022-01-31</td>\n",
       "      <td>월요일</td>\n",
       "      <td>설날</td>\n",
       "    </tr>\n",
       "    <tr>\n",
       "      <th>1</th>\n",
       "      <td>2022-02-01</td>\n",
       "      <td>화요일</td>\n",
       "      <td>설날</td>\n",
       "    </tr>\n",
       "    <tr>\n",
       "      <th>2</th>\n",
       "      <td>2022-02-02</td>\n",
       "      <td>수요일</td>\n",
       "      <td>설날</td>\n",
       "    </tr>\n",
       "    <tr>\n",
       "      <th>3</th>\n",
       "      <td>2022-03-01</td>\n",
       "      <td>화요일</td>\n",
       "      <td>삼일절</td>\n",
       "    </tr>\n",
       "    <tr>\n",
       "      <th>4</th>\n",
       "      <td>2022-03-09</td>\n",
       "      <td>수요일</td>\n",
       "      <td>20대 대통령 선거</td>\n",
       "    </tr>\n",
       "  </tbody>\n",
       "</table>\n",
       "</div>"
      ],
      "text/plain": [
       "      일자 및 요일    요일구분          비고\n",
       "0  2022-01-31  월요일             설날\n",
       "1  2022-02-01  화요일             설날\n",
       "2  2022-02-02  수요일             설날\n",
       "3  2022-03-01  화요일            삼일절\n",
       "4  2022-03-09  수요일     20대 대통령 선거"
      ]
     },
     "execution_count": 85,
     "metadata": {},
     "output_type": "execute_result"
    }
   ],
   "source": [
    "import pandas as pd\n",
    "\n",
    "# 휴장일 엑셀 파일 로드\n",
    "hdays_2022= pd.read_excel('./excel/2022_hdays.xls')\n",
    "\n",
    "hdays_2022.head()"
   ]
  },
  {
   "cell_type": "code",
   "execution_count": 86,
   "id": "45b8c978",
   "metadata": {
    "ExecuteTime": {
     "end_time": "2022-07-11T10:09:35.408111Z",
     "start_time": "2022-07-11T10:09:35.389162Z"
    }
   },
   "outputs": [
    {
     "data": {
      "text/html": [
       "<div>\n",
       "<style scoped>\n",
       "    .dataframe tbody tr th:only-of-type {\n",
       "        vertical-align: middle;\n",
       "    }\n",
       "\n",
       "    .dataframe tbody tr th {\n",
       "        vertical-align: top;\n",
       "    }\n",
       "\n",
       "    .dataframe thead th {\n",
       "        text-align: right;\n",
       "    }\n",
       "</style>\n",
       "<table border=\"1\" class=\"dataframe\">\n",
       "  <thead>\n",
       "    <tr style=\"text-align: right;\">\n",
       "      <th></th>\n",
       "      <th>일자 및 요일</th>\n",
       "    </tr>\n",
       "  </thead>\n",
       "  <tbody>\n",
       "    <tr>\n",
       "      <th>0</th>\n",
       "      <td>2022-01-31</td>\n",
       "    </tr>\n",
       "    <tr>\n",
       "      <th>1</th>\n",
       "      <td>2022-02-01</td>\n",
       "    </tr>\n",
       "    <tr>\n",
       "      <th>2</th>\n",
       "      <td>2022-02-02</td>\n",
       "    </tr>\n",
       "    <tr>\n",
       "      <th>3</th>\n",
       "      <td>2022-03-01</td>\n",
       "    </tr>\n",
       "    <tr>\n",
       "      <th>4</th>\n",
       "      <td>2022-03-09</td>\n",
       "    </tr>\n",
       "  </tbody>\n",
       "</table>\n",
       "</div>"
      ],
      "text/plain": [
       "      일자 및 요일\n",
       "0  2022-01-31\n",
       "1  2022-02-01\n",
       "2  2022-02-02\n",
       "3  2022-03-01\n",
       "4  2022-03-09"
      ]
     },
     "execution_count": 86,
     "metadata": {},
     "output_type": "execute_result"
    }
   ],
   "source": [
    "# 불필요 컬럼 제거\n",
    "hdays_2022.drop(columns=[\"요일구분\", \"비고\"], inplace=True)\n",
    "\n",
    "hdays_2022.head()"
   ]
  },
  {
   "cell_type": "code",
   "execution_count": 87,
   "id": "f210afd1",
   "metadata": {
    "ExecuteTime": {
     "end_time": "2022-07-11T10:09:46.661882Z",
     "start_time": "2022-07-11T10:09:46.644928Z"
    }
   },
   "outputs": [],
   "source": [
    "# 불필요 문자 제거\n",
    "hdays_2022[\"일자 및 요일\"] = hdays_2022[\"일자 및 요일\"].str.replace(\"-\",\"\")\n",
    "# int로 데이터타입 변환\n",
    "hdays_2022[\"일자 및 요일\"] = hdays_2022[\"일자 및 요일\"].astype(int)"
   ]
  },
  {
   "cell_type": "code",
   "execution_count": 88,
   "id": "67a8dc97",
   "metadata": {
    "ExecuteTime": {
     "end_time": "2022-07-11T10:09:48.711415Z",
     "start_time": "2022-07-11T10:09:48.687483Z"
    }
   },
   "outputs": [
    {
     "data": {
      "text/plain": [
       "[20220131,\n",
       " 20220201,\n",
       " 20220202,\n",
       " 20220301,\n",
       " 20220309,\n",
       " 20220505,\n",
       " 20220601,\n",
       " 20220606,\n",
       " 20220815,\n",
       " 20220909,\n",
       " 20220912,\n",
       " 20221003,\n",
       " 20221010,\n",
       " 20221230]"
      ]
     },
     "execution_count": 88,
     "metadata": {},
     "output_type": "execute_result"
    }
   ],
   "source": [
    "# 휴장일 리스트 생성\n",
    "hdays_list = hdays_2022[\"일자 및 요일\"].values.tolist()\n",
    "\n",
    "hdays_list"
   ]
  },
  {
   "cell_type": "code",
   "execution_count": 89,
   "id": "6a4ea0fa",
   "metadata": {
    "ExecuteTime": {
     "end_time": "2022-07-11T10:10:01.389416Z",
     "start_time": "2022-07-11T10:10:01.358499Z"
    }
   },
   "outputs": [
    {
     "data": {
      "text/plain": [
       "[20220103, 20220104, 20220105, 20220106, 20220107]"
      ]
     },
     "execution_count": 89,
     "metadata": {},
     "output_type": "execute_result"
    }
   ],
   "source": [
    "# 2019-01-01부터 2019-12-31 까지 영업일 리스트 생성\n",
    "bdays = pd.date_range('2022-01-01', '2022-07-08', freq='B')\n",
    "df = pd.DataFrame()\n",
    "df['bdays'] = bdays\n",
    "df['bdays'] = df['bdays'].dt.strftime('%Y%m%d') \n",
    "df['bdays'] = df['bdays'].astype(int)\n",
    "\n",
    "bdays_list = df['bdays'].tolist()\n",
    "bdays_list[:5]"
   ]
  },
  {
   "cell_type": "code",
   "execution_count": 90,
   "id": "32dca460",
   "metadata": {
    "ExecuteTime": {
     "end_time": "2022-07-11T10:10:02.023723Z",
     "start_time": "2022-07-11T10:10:02.004776Z"
    }
   },
   "outputs": [
    {
     "data": {
      "text/plain": [
       "127"
      ]
     },
     "execution_count": 90,
     "metadata": {},
     "output_type": "execute_result"
    }
   ],
   "source": [
    "odays = [x for x in bdays_list if x not in hdays_list]\n",
    "len(odays)"
   ]
  },
  {
   "cell_type": "code",
   "execution_count": 91,
   "id": "dc7b30d7",
   "metadata": {
    "ExecuteTime": {
     "end_time": "2022-07-11T10:10:09.939283Z",
     "start_time": "2022-07-11T10:10:07.476805Z"
    }
   },
   "outputs": [],
   "source": [
    "import os\n",
    "\n",
    "path = \"./csv/2022_foreigner/\"\n",
    "\n",
    "file_list = []\n",
    "\n",
    "for filename in os.listdir(path):\n",
    "    if filename.endswith('.csv'):\n",
    "        file_list.append(filename)\n",
    "\n",
    "file_list.sort()\n",
    "full_df = pd.DataFrame()\n",
    "for file in file_list:\n",
    "    temp_df = pd.read_csv(path+file, encoding='CP949')\n",
    "    temp_df = temp_df.drop(['종목코드', '종가', '대비', '상장주식수'], axis=1)\n",
    "    temp_df = temp_df[temp_df['종목명']=='동양생명']\n",
    "    full_df = pd.concat([full_df, temp_df])\n",
    "    full_df.reset_index(drop=True, inplace=True)\n",
    "full_df.to_csv('./csv/2022_동양생명_외국인.csv', encoding='CP949')"
   ]
  },
  {
   "cell_type": "code",
   "execution_count": null,
   "id": "da996c24",
   "metadata": {},
   "outputs": [],
   "source": []
  }
 ],
 "metadata": {
  "kernelspec": {
   "display_name": "Python 3 (ipykernel)",
   "language": "python",
   "name": "python3"
  },
  "language_info": {
   "codemirror_mode": {
    "name": "ipython",
    "version": 3
   },
   "file_extension": ".py",
   "mimetype": "text/x-python",
   "name": "python",
   "nbconvert_exporter": "python",
   "pygments_lexer": "ipython3",
   "version": "3.10.1"
  },
  "toc": {
   "base_numbering": 1,
   "nav_menu": {},
   "number_sections": true,
   "sideBar": true,
   "skip_h1_title": false,
   "title_cell": "Table of Contents",
   "title_sidebar": "Contents",
   "toc_cell": false,
   "toc_position": {},
   "toc_section_display": true,
   "toc_window_display": false
  }
 },
 "nbformat": 4,
 "nbformat_minor": 5
}
