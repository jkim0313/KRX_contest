{
 "cells": [
  {
   "cell_type": "code",
   "execution_count": 9,
   "id": "9d95ba2c",
   "metadata": {
    "ExecuteTime": {
     "end_time": "2022-07-10T14:52:36.263600Z",
     "start_time": "2022-07-10T14:52:36.200767Z"
    }
   },
   "outputs": [
    {
     "data": {
      "text/html": [
       "<div>\n",
       "<style scoped>\n",
       "    .dataframe tbody tr th:only-of-type {\n",
       "        vertical-align: middle;\n",
       "    }\n",
       "\n",
       "    .dataframe tbody tr th {\n",
       "        vertical-align: top;\n",
       "    }\n",
       "\n",
       "    .dataframe thead th {\n",
       "        text-align: right;\n",
       "    }\n",
       "</style>\n",
       "<table border=\"1\" class=\"dataframe\">\n",
       "  <thead>\n",
       "    <tr style=\"text-align: right;\">\n",
       "      <th></th>\n",
       "      <th>일자 및 요일</th>\n",
       "      <th>요일구분</th>\n",
       "      <th>비고</th>\n",
       "    </tr>\n",
       "  </thead>\n",
       "  <tbody>\n",
       "    <tr>\n",
       "      <th>0</th>\n",
       "      <td>2020-01-01</td>\n",
       "      <td>수요일</td>\n",
       "      <td>신정</td>\n",
       "    </tr>\n",
       "    <tr>\n",
       "      <th>1</th>\n",
       "      <td>2020-01-24</td>\n",
       "      <td>금요일</td>\n",
       "      <td>설날</td>\n",
       "    </tr>\n",
       "    <tr>\n",
       "      <th>2</th>\n",
       "      <td>2020-01-27</td>\n",
       "      <td>월요일</td>\n",
       "      <td>설날(대체휴일)</td>\n",
       "    </tr>\n",
       "    <tr>\n",
       "      <th>3</th>\n",
       "      <td>2020-04-15</td>\n",
       "      <td>수요일</td>\n",
       "      <td>21대 국회의원선거</td>\n",
       "    </tr>\n",
       "    <tr>\n",
       "      <th>4</th>\n",
       "      <td>2020-04-30</td>\n",
       "      <td>목요일</td>\n",
       "      <td>석가탄신일</td>\n",
       "    </tr>\n",
       "  </tbody>\n",
       "</table>\n",
       "</div>"
      ],
      "text/plain": [
       "      일자 및 요일    요일구분          비고\n",
       "0  2020-01-01  수요일             신정\n",
       "1  2020-01-24  금요일             설날\n",
       "2  2020-01-27  월요일       설날(대체휴일)\n",
       "3  2020-04-15  수요일     21대 국회의원선거\n",
       "4  2020-04-30  목요일          석가탄신일"
      ]
     },
     "execution_count": 9,
     "metadata": {},
     "output_type": "execute_result"
    }
   ],
   "source": [
    "import pandas as pd\n",
    "\n",
    "# 휴장일 엑셀 파일 로드\n",
    "hdays_2020 = pd.read_excel('./excel/2020_hdays.xls')\n",
    "\n",
    "hdays_2020.head()"
   ]
  },
  {
   "cell_type": "code",
   "execution_count": 10,
   "id": "45b8c978",
   "metadata": {
    "ExecuteTime": {
     "end_time": "2022-07-10T14:52:36.578747Z",
     "start_time": "2022-07-10T14:52:36.548830Z"
    }
   },
   "outputs": [
    {
     "data": {
      "text/html": [
       "<div>\n",
       "<style scoped>\n",
       "    .dataframe tbody tr th:only-of-type {\n",
       "        vertical-align: middle;\n",
       "    }\n",
       "\n",
       "    .dataframe tbody tr th {\n",
       "        vertical-align: top;\n",
       "    }\n",
       "\n",
       "    .dataframe thead th {\n",
       "        text-align: right;\n",
       "    }\n",
       "</style>\n",
       "<table border=\"1\" class=\"dataframe\">\n",
       "  <thead>\n",
       "    <tr style=\"text-align: right;\">\n",
       "      <th></th>\n",
       "      <th>일자 및 요일</th>\n",
       "    </tr>\n",
       "  </thead>\n",
       "  <tbody>\n",
       "    <tr>\n",
       "      <th>0</th>\n",
       "      <td>2020-01-01</td>\n",
       "    </tr>\n",
       "    <tr>\n",
       "      <th>1</th>\n",
       "      <td>2020-01-24</td>\n",
       "    </tr>\n",
       "    <tr>\n",
       "      <th>2</th>\n",
       "      <td>2020-01-27</td>\n",
       "    </tr>\n",
       "    <tr>\n",
       "      <th>3</th>\n",
       "      <td>2020-04-15</td>\n",
       "    </tr>\n",
       "    <tr>\n",
       "      <th>4</th>\n",
       "      <td>2020-04-30</td>\n",
       "    </tr>\n",
       "  </tbody>\n",
       "</table>\n",
       "</div>"
      ],
      "text/plain": [
       "      일자 및 요일\n",
       "0  2020-01-01\n",
       "1  2020-01-24\n",
       "2  2020-01-27\n",
       "3  2020-04-15\n",
       "4  2020-04-30"
      ]
     },
     "execution_count": 10,
     "metadata": {},
     "output_type": "execute_result"
    }
   ],
   "source": [
    "# 불필요 컬럼 제거\n",
    "hdays_2020.drop(columns=[\"요일구분\", \"비고\"], inplace=True)\n",
    "\n",
    "hdays_2020.head()"
   ]
  },
  {
   "cell_type": "code",
   "execution_count": 11,
   "id": "f210afd1",
   "metadata": {
    "ExecuteTime": {
     "end_time": "2022-07-10T14:52:36.815114Z",
     "start_time": "2022-07-10T14:52:36.798157Z"
    }
   },
   "outputs": [],
   "source": [
    "# 불필요 문자 제거\n",
    "hdays_2020[\"일자 및 요일\"] = hdays_2020[\"일자 및 요일\"].str.replace(\"-\",\"\")\n",
    "# int로 데이터타입 변환\n",
    "hdays_2020[\"일자 및 요일\"] = hdays_2020[\"일자 및 요일\"].astype(int)"
   ]
  },
  {
   "cell_type": "code",
   "execution_count": 12,
   "id": "67a8dc97",
   "metadata": {
    "ExecuteTime": {
     "end_time": "2022-07-10T14:52:37.179134Z",
     "start_time": "2022-07-10T14:52:37.159183Z"
    }
   },
   "outputs": [
    {
     "data": {
      "text/plain": [
       "[20200101,\n",
       " 20200124,\n",
       " 20200127,\n",
       " 20200415,\n",
       " 20200430,\n",
       " 20200501,\n",
       " 20200505,\n",
       " 20200817,\n",
       " 20200930,\n",
       " 20201001,\n",
       " 20201002,\n",
       " 20201009,\n",
       " 20201225,\n",
       " 20201231]"
      ]
     },
     "execution_count": 12,
     "metadata": {},
     "output_type": "execute_result"
    }
   ],
   "source": [
    "# 휴장일 리스트 생성\n",
    "hdays_list = hdays_2020[\"일자 및 요일\"].values.tolist()\n",
    "\n",
    "hdays_list"
   ]
  },
  {
   "cell_type": "code",
   "execution_count": 13,
   "id": "6a4ea0fa",
   "metadata": {
    "ExecuteTime": {
     "end_time": "2022-07-10T14:52:37.781406Z",
     "start_time": "2022-07-10T14:52:37.740516Z"
    }
   },
   "outputs": [
    {
     "data": {
      "text/plain": [
       "[20200101, 20200102, 20200103, 20200106, 20200107]"
      ]
     },
     "execution_count": 13,
     "metadata": {},
     "output_type": "execute_result"
    }
   ],
   "source": [
    "# 2020-01-01부터 2020-12-31 까지 영업일 리스트 생성\n",
    "bdays = pd.date_range('2020-01-01', '2020-12-31', freq='B')\n",
    "df = pd.DataFrame()\n",
    "df['bdays'] = bdays\n",
    "df['bdays'] = df['bdays'].dt.strftime('%Y%m%d') \n",
    "df['bdays'] = df['bdays'].astype(int)\n",
    "\n",
    "bdays_list = df['bdays'].tolist()\n",
    "bdays_list[:5]"
   ]
  },
  {
   "cell_type": "code",
   "execution_count": 14,
   "id": "32dca460",
   "metadata": {
    "ExecuteTime": {
     "end_time": "2022-07-10T14:52:38.399737Z",
     "start_time": "2022-07-10T14:52:38.378794Z"
    }
   },
   "outputs": [
    {
     "data": {
      "text/plain": [
       "248"
      ]
     },
     "execution_count": 14,
     "metadata": {},
     "output_type": "execute_result"
    }
   ],
   "source": [
    "odays = [x for x in bdays_list if x not in hdays_list]\n",
    "len(odays)"
   ]
  },
  {
   "cell_type": "code",
   "execution_count": 16,
   "id": "dc7b30d7",
   "metadata": {
    "ExecuteTime": {
     "end_time": "2022-07-10T14:53:22.523292Z",
     "start_time": "2022-07-10T14:53:19.835544Z"
    }
   },
   "outputs": [],
   "source": [
    "import os\n",
    "\n",
    "path = \"./csv/2020_foreigner/\"\n",
    "\n",
    "file_list = []\n",
    "\n",
    "for filename in os.listdir(path):\n",
    "    if filename.endswith('.csv'):\n",
    "        file_list.append(filename)\n",
    "\n",
    "file_list.sort()\n",
    "full_df = pd.DataFrame()\n",
    "for file in file_list:\n",
    "    temp_df = pd.read_csv(path+file, encoding='CP949')\n",
    "    temp_df = temp_df.drop(['종목코드', '종가', '대비', '상장주식수'], axis=1)\n",
    "    temp_df = temp_df[temp_df['종목명']=='SK텔레콤']\n",
    "    full_df = pd.concat([full_df, temp_df])\n",
    "    full_df.reset_index(drop=True, inplace=True)\n",
    "full_df.to_csv('./csv/2020_SK텔레콤_외국인.csv', encoding='CP949')"
   ]
  },
  {
   "cell_type": "code",
   "execution_count": null,
   "id": "da996c24",
   "metadata": {},
   "outputs": [],
   "source": []
  }
 ],
 "metadata": {
  "kernelspec": {
   "display_name": "Python 3 (ipykernel)",
   "language": "python",
   "name": "python3"
  },
  "language_info": {
   "codemirror_mode": {
    "name": "ipython",
    "version": 3
   },
   "file_extension": ".py",
   "mimetype": "text/x-python",
   "name": "python",
   "nbconvert_exporter": "python",
   "pygments_lexer": "ipython3",
   "version": "3.10.1"
  },
  "toc": {
   "base_numbering": 1,
   "nav_menu": {},
   "number_sections": true,
   "sideBar": true,
   "skip_h1_title": false,
   "title_cell": "Table of Contents",
   "title_sidebar": "Contents",
   "toc_cell": false,
   "toc_position": {},
   "toc_section_display": true,
   "toc_window_display": false
  }
 },
 "nbformat": 4,
 "nbformat_minor": 5
}
