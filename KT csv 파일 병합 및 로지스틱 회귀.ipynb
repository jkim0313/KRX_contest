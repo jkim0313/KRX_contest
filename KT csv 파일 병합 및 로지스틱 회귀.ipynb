{
 "cells": [
  {
   "cell_type": "code",
   "execution_count": 72,
   "id": "4581def9",
   "metadata": {
    "ExecuteTime": {
     "end_time": "2022-07-11T08:22:30.107944Z",
     "start_time": "2022-07-11T08:22:29.959337Z"
    }
   },
   "outputs": [
    {
     "data": {
      "text/html": [
       "<div>\n",
       "<style scoped>\n",
       "    .dataframe tbody tr th:only-of-type {\n",
       "        vertical-align: middle;\n",
       "    }\n",
       "\n",
       "    .dataframe tbody tr th {\n",
       "        vertical-align: top;\n",
       "    }\n",
       "\n",
       "    .dataframe thead th {\n",
       "        text-align: right;\n",
       "    }\n",
       "</style>\n",
       "<table border=\"1\" class=\"dataframe\">\n",
       "  <thead>\n",
       "    <tr style=\"text-align: right;\">\n",
       "      <th></th>\n",
       "      <th>날짜</th>\n",
       "      <th>외국인 보유수량</th>\n",
       "      <th>외국인 지분율</th>\n",
       "      <th>외국인 한도수량</th>\n",
       "      <th>외국인 한도소진율</th>\n",
       "      <th>등락률</th>\n",
       "      <th>코스피 등락률</th>\n",
       "      <th>변동성</th>\n",
       "    </tr>\n",
       "  </thead>\n",
       "  <tbody>\n",
       "    <tr>\n",
       "      <th>241</th>\n",
       "      <td>2019/12/23</td>\n",
       "      <td>124025765</td>\n",
       "      <td>47.50</td>\n",
       "      <td>127944786</td>\n",
       "      <td>96.94</td>\n",
       "      <td>0.37</td>\n",
       "      <td>-0.02</td>\n",
       "      <td>0</td>\n",
       "    </tr>\n",
       "    <tr>\n",
       "      <th>242</th>\n",
       "      <td>2019/12/24</td>\n",
       "      <td>123690189</td>\n",
       "      <td>47.37</td>\n",
       "      <td>127944786</td>\n",
       "      <td>96.67</td>\n",
       "      <td>-0.36</td>\n",
       "      <td>-0.62</td>\n",
       "      <td>1</td>\n",
       "    </tr>\n",
       "    <tr>\n",
       "      <th>243</th>\n",
       "      <td>2019/12/26</td>\n",
       "      <td>123367675</td>\n",
       "      <td>47.25</td>\n",
       "      <td>127944786</td>\n",
       "      <td>96.42</td>\n",
       "      <td>0.37</td>\n",
       "      <td>0.36</td>\n",
       "      <td>1</td>\n",
       "    </tr>\n",
       "    <tr>\n",
       "      <th>244</th>\n",
       "      <td>2019/12/27</td>\n",
       "      <td>123010446</td>\n",
       "      <td>47.11</td>\n",
       "      <td>127944786</td>\n",
       "      <td>96.14</td>\n",
       "      <td>-2.55</td>\n",
       "      <td>0.29</td>\n",
       "      <td>0</td>\n",
       "    </tr>\n",
       "    <tr>\n",
       "      <th>245</th>\n",
       "      <td>2019/12/30</td>\n",
       "      <td>123040534</td>\n",
       "      <td>47.12</td>\n",
       "      <td>127944786</td>\n",
       "      <td>96.17</td>\n",
       "      <td>1.12</td>\n",
       "      <td>-0.30</td>\n",
       "      <td>0</td>\n",
       "    </tr>\n",
       "  </tbody>\n",
       "</table>\n",
       "</div>"
      ],
      "text/plain": [
       "             날짜   외국인 보유수량  외국인 지분율   외국인 한도수량  외국인 한도소진율   등락률  코스피 등락률  변동성\n",
       "241  2019/12/23  124025765    47.50  127944786      96.94  0.37    -0.02    0\n",
       "242  2019/12/24  123690189    47.37  127944786      96.67 -0.36    -0.62    1\n",
       "243  2019/12/26  123367675    47.25  127944786      96.42  0.37     0.36    1\n",
       "244  2019/12/27  123010446    47.11  127944786      96.14 -2.55     0.29    0\n",
       "245  2019/12/30  123040534    47.12  127944786      96.17  1.12    -0.30    0"
      ]
     },
     "execution_count": 72,
     "metadata": {},
     "output_type": "execute_result"
    }
   ],
   "source": [
    "import pandas as pd\n",
    "\n",
    "kt_2019_kospi = pd.read_csv('./csv/2019_KT_코스피등락률.csv', encoding='CP949')\n",
    "kt_2020_kospi = pd.read_csv('./csv/2020_KT_코스피등락률.csv', encoding='CP949')\n",
    "kt_2021_kospi = pd.read_csv('./csv/2021_KT_코스피등락률.csv', encoding='CP949')\n",
    "kt_2022_kospi = pd.read_csv('./csv/2022_KT_코스피등락률.csv', encoding='CP949')\n",
    "kt_2019_kospi.tail()"
   ]
  },
  {
   "cell_type": "code",
   "execution_count": 73,
   "id": "cff56e4d",
   "metadata": {
    "ExecuteTime": {
     "end_time": "2022-07-11T08:22:30.712327Z",
     "start_time": "2022-07-11T08:22:30.679413Z"
    }
   },
   "outputs": [
    {
     "data": {
      "text/html": [
       "<div>\n",
       "<style scoped>\n",
       "    .dataframe tbody tr th:only-of-type {\n",
       "        vertical-align: middle;\n",
       "    }\n",
       "\n",
       "    .dataframe tbody tr th {\n",
       "        vertical-align: top;\n",
       "    }\n",
       "\n",
       "    .dataframe thead th {\n",
       "        text-align: right;\n",
       "    }\n",
       "</style>\n",
       "<table border=\"1\" class=\"dataframe\">\n",
       "  <thead>\n",
       "    <tr style=\"text-align: right;\">\n",
       "      <th></th>\n",
       "      <th>날짜</th>\n",
       "      <th>외국인 보유수량</th>\n",
       "      <th>외국인 지분율</th>\n",
       "      <th>외국인 한도수량</th>\n",
       "      <th>외국인 한도소진율</th>\n",
       "      <th>등락률</th>\n",
       "      <th>코스피 등락률</th>\n",
       "      <th>변동성</th>\n",
       "    </tr>\n",
       "  </thead>\n",
       "  <tbody>\n",
       "    <tr>\n",
       "      <th>243</th>\n",
       "      <td>2021/12/24</td>\n",
       "      <td>113932351</td>\n",
       "      <td>43.63</td>\n",
       "      <td>127944786</td>\n",
       "      <td>89.05</td>\n",
       "      <td>0.77</td>\n",
       "      <td>0.48</td>\n",
       "      <td>1</td>\n",
       "    </tr>\n",
       "    <tr>\n",
       "      <th>244</th>\n",
       "      <td>2021/12/27</td>\n",
       "      <td>114194777</td>\n",
       "      <td>43.73</td>\n",
       "      <td>127944786</td>\n",
       "      <td>89.25</td>\n",
       "      <td>-0.15</td>\n",
       "      <td>-0.43</td>\n",
       "      <td>1</td>\n",
       "    </tr>\n",
       "    <tr>\n",
       "      <th>245</th>\n",
       "      <td>2021/12/28</td>\n",
       "      <td>114259064</td>\n",
       "      <td>43.76</td>\n",
       "      <td>127944786</td>\n",
       "      <td>89.30</td>\n",
       "      <td>0.46</td>\n",
       "      <td>0.69</td>\n",
       "      <td>1</td>\n",
       "    </tr>\n",
       "    <tr>\n",
       "      <th>246</th>\n",
       "      <td>2021/12/29</td>\n",
       "      <td>114481931</td>\n",
       "      <td>43.84</td>\n",
       "      <td>127944786</td>\n",
       "      <td>89.48</td>\n",
       "      <td>-5.63</td>\n",
       "      <td>-0.89</td>\n",
       "      <td>1</td>\n",
       "    </tr>\n",
       "    <tr>\n",
       "      <th>247</th>\n",
       "      <td>2021/12/30</td>\n",
       "      <td>114127437</td>\n",
       "      <td>43.71</td>\n",
       "      <td>127944786</td>\n",
       "      <td>89.20</td>\n",
       "      <td>-1.29</td>\n",
       "      <td>-0.52</td>\n",
       "      <td>1</td>\n",
       "    </tr>\n",
       "  </tbody>\n",
       "</table>\n",
       "</div>"
      ],
      "text/plain": [
       "             날짜   외국인 보유수량  외국인 지분율   외국인 한도수량  외국인 한도소진율   등락률  코스피 등락률  변동성\n",
       "243  2021/12/24  113932351    43.63  127944786      89.05  0.77     0.48    1\n",
       "244  2021/12/27  114194777    43.73  127944786      89.25 -0.15    -0.43    1\n",
       "245  2021/12/28  114259064    43.76  127944786      89.30  0.46     0.69    1\n",
       "246  2021/12/29  114481931    43.84  127944786      89.48 -5.63    -0.89    1\n",
       "247  2021/12/30  114127437    43.71  127944786      89.20 -1.29    -0.52    1"
      ]
     },
     "execution_count": 73,
     "metadata": {},
     "output_type": "execute_result"
    }
   ],
   "source": [
    "kt_2021_kospi.tail()"
   ]
  },
  {
   "cell_type": "code",
   "execution_count": 74,
   "id": "06d0b63c",
   "metadata": {
    "ExecuteTime": {
     "end_time": "2022-07-11T08:22:31.554072Z",
     "start_time": "2022-07-11T08:22:31.470297Z"
    }
   },
   "outputs": [
    {
     "ename": "NameError",
     "evalue": "name 'skt_2022_kospi' is not defined",
     "output_type": "error",
     "traceback": [
      "\u001b[1;31m---------------------------------------------------------------------------\u001b[0m",
      "\u001b[1;31mNameError\u001b[0m                                 Traceback (most recent call last)",
      "Input \u001b[1;32mIn [74]\u001b[0m, in \u001b[0;36m<cell line: 1>\u001b[1;34m()\u001b[0m\n\u001b[1;32m----> 1\u001b[0m \u001b[43mskt_2022_kospi\u001b[49m\u001b[38;5;241m.\u001b[39mhead()\n",
      "\u001b[1;31mNameError\u001b[0m: name 'skt_2022_kospi' is not defined"
     ]
    }
   ],
   "source": [
    "skt_2022_kospi.head()"
   ]
  },
  {
   "cell_type": "code",
   "execution_count": 75,
   "id": "ab75c1d7",
   "metadata": {
    "ExecuteTime": {
     "end_time": "2022-07-11T08:22:32.493561Z",
     "start_time": "2022-07-11T08:22:32.439706Z"
    }
   },
   "outputs": [
    {
     "data": {
      "text/html": [
       "<div>\n",
       "<style scoped>\n",
       "    .dataframe tbody tr th:only-of-type {\n",
       "        vertical-align: middle;\n",
       "    }\n",
       "\n",
       "    .dataframe tbody tr th {\n",
       "        vertical-align: top;\n",
       "    }\n",
       "\n",
       "    .dataframe thead th {\n",
       "        text-align: right;\n",
       "    }\n",
       "</style>\n",
       "<table border=\"1\" class=\"dataframe\">\n",
       "  <thead>\n",
       "    <tr style=\"text-align: right;\">\n",
       "      <th></th>\n",
       "      <th>날짜</th>\n",
       "      <th>외국인 보유수량</th>\n",
       "      <th>외국인 지분율</th>\n",
       "      <th>외국인 한도수량</th>\n",
       "      <th>외국인 한도소진율</th>\n",
       "      <th>등락률</th>\n",
       "      <th>코스피 등락률</th>\n",
       "      <th>변동성</th>\n",
       "    </tr>\n",
       "  </thead>\n",
       "  <tbody>\n",
       "    <tr>\n",
       "      <th>0</th>\n",
       "      <td>2019/01/02</td>\n",
       "      <td>127944786</td>\n",
       "      <td>49.00</td>\n",
       "      <td>127944786</td>\n",
       "      <td>100.00</td>\n",
       "      <td>2.01</td>\n",
       "      <td>-1.52</td>\n",
       "      <td>0</td>\n",
       "    </tr>\n",
       "    <tr>\n",
       "      <th>1</th>\n",
       "      <td>2019/01/03</td>\n",
       "      <td>127944786</td>\n",
       "      <td>49.00</td>\n",
       "      <td>127944786</td>\n",
       "      <td>100.00</td>\n",
       "      <td>0.33</td>\n",
       "      <td>-0.81</td>\n",
       "      <td>0</td>\n",
       "    </tr>\n",
       "    <tr>\n",
       "      <th>2</th>\n",
       "      <td>2019/01/04</td>\n",
       "      <td>127944786</td>\n",
       "      <td>49.00</td>\n",
       "      <td>127944786</td>\n",
       "      <td>100.00</td>\n",
       "      <td>0.33</td>\n",
       "      <td>0.83</td>\n",
       "      <td>1</td>\n",
       "    </tr>\n",
       "    <tr>\n",
       "      <th>3</th>\n",
       "      <td>2019/01/07</td>\n",
       "      <td>127944786</td>\n",
       "      <td>49.00</td>\n",
       "      <td>127944786</td>\n",
       "      <td>100.00</td>\n",
       "      <td>-0.49</td>\n",
       "      <td>1.34</td>\n",
       "      <td>0</td>\n",
       "    </tr>\n",
       "    <tr>\n",
       "      <th>4</th>\n",
       "      <td>2019/01/08</td>\n",
       "      <td>127944786</td>\n",
       "      <td>49.00</td>\n",
       "      <td>127944786</td>\n",
       "      <td>100.00</td>\n",
       "      <td>-0.82</td>\n",
       "      <td>-0.58</td>\n",
       "      <td>1</td>\n",
       "    </tr>\n",
       "    <tr>\n",
       "      <th>...</th>\n",
       "      <td>...</td>\n",
       "      <td>...</td>\n",
       "      <td>...</td>\n",
       "      <td>...</td>\n",
       "      <td>...</td>\n",
       "      <td>...</td>\n",
       "      <td>...</td>\n",
       "      <td>...</td>\n",
       "    </tr>\n",
       "    <tr>\n",
       "      <th>489</th>\n",
       "      <td>2020/12/23</td>\n",
       "      <td>114984306</td>\n",
       "      <td>44.04</td>\n",
       "      <td>127944786</td>\n",
       "      <td>89.87</td>\n",
       "      <td>-0.20</td>\n",
       "      <td>0.96</td>\n",
       "      <td>0</td>\n",
       "    </tr>\n",
       "    <tr>\n",
       "      <th>490</th>\n",
       "      <td>2020/12/24</td>\n",
       "      <td>114954365</td>\n",
       "      <td>44.02</td>\n",
       "      <td>127944786</td>\n",
       "      <td>89.85</td>\n",
       "      <td>1.19</td>\n",
       "      <td>1.70</td>\n",
       "      <td>1</td>\n",
       "    </tr>\n",
       "    <tr>\n",
       "      <th>491</th>\n",
       "      <td>2020/12/28</td>\n",
       "      <td>114954665</td>\n",
       "      <td>44.03</td>\n",
       "      <td>127944786</td>\n",
       "      <td>89.85</td>\n",
       "      <td>0.20</td>\n",
       "      <td>0.06</td>\n",
       "      <td>1</td>\n",
       "    </tr>\n",
       "    <tr>\n",
       "      <th>492</th>\n",
       "      <td>2020/12/29</td>\n",
       "      <td>115123619</td>\n",
       "      <td>44.09</td>\n",
       "      <td>127944786</td>\n",
       "      <td>89.98</td>\n",
       "      <td>-5.10</td>\n",
       "      <td>0.42</td>\n",
       "      <td>0</td>\n",
       "    </tr>\n",
       "    <tr>\n",
       "      <th>493</th>\n",
       "      <td>2020/12/30</td>\n",
       "      <td>114807370</td>\n",
       "      <td>43.97</td>\n",
       "      <td>127944786</td>\n",
       "      <td>89.73</td>\n",
       "      <td>-0.83</td>\n",
       "      <td>1.88</td>\n",
       "      <td>0</td>\n",
       "    </tr>\n",
       "  </tbody>\n",
       "</table>\n",
       "<p>494 rows × 8 columns</p>\n",
       "</div>"
      ],
      "text/plain": [
       "             날짜   외국인 보유수량  외국인 지분율   외국인 한도수량  외국인 한도소진율   등락률  코스피 등락률  변동성\n",
       "0    2019/01/02  127944786    49.00  127944786     100.00  2.01    -1.52    0\n",
       "1    2019/01/03  127944786    49.00  127944786     100.00  0.33    -0.81    0\n",
       "2    2019/01/04  127944786    49.00  127944786     100.00  0.33     0.83    1\n",
       "3    2019/01/07  127944786    49.00  127944786     100.00 -0.49     1.34    0\n",
       "4    2019/01/08  127944786    49.00  127944786     100.00 -0.82    -0.58    1\n",
       "..          ...        ...      ...        ...        ...   ...      ...  ...\n",
       "489  2020/12/23  114984306    44.04  127944786      89.87 -0.20     0.96    0\n",
       "490  2020/12/24  114954365    44.02  127944786      89.85  1.19     1.70    1\n",
       "491  2020/12/28  114954665    44.03  127944786      89.85  0.20     0.06    1\n",
       "492  2020/12/29  115123619    44.09  127944786      89.98 -5.10     0.42    0\n",
       "493  2020/12/30  114807370    43.97  127944786      89.73 -0.83     1.88    0\n",
       "\n",
       "[494 rows x 8 columns]"
      ]
     },
     "execution_count": 75,
     "metadata": {},
     "output_type": "execute_result"
    }
   ],
   "source": [
    "kt_1920_kospi = pd.concat([kt_2019_kospi, kt_2020_kospi])\n",
    "kt_1920_kospi.reset_index(drop=True, inplace=True)\n",
    "\n",
    "kt_1920_kospi"
   ]
  },
  {
   "cell_type": "code",
   "execution_count": 76,
   "id": "79c0d6e3",
   "metadata": {
    "ExecuteTime": {
     "end_time": "2022-07-11T08:22:34.767421Z",
     "start_time": "2022-07-11T08:22:34.726534Z"
    }
   },
   "outputs": [
    {
     "data": {
      "text/html": [
       "<div>\n",
       "<style scoped>\n",
       "    .dataframe tbody tr th:only-of-type {\n",
       "        vertical-align: middle;\n",
       "    }\n",
       "\n",
       "    .dataframe tbody tr th {\n",
       "        vertical-align: top;\n",
       "    }\n",
       "\n",
       "    .dataframe thead th {\n",
       "        text-align: right;\n",
       "    }\n",
       "</style>\n",
       "<table border=\"1\" class=\"dataframe\">\n",
       "  <thead>\n",
       "    <tr style=\"text-align: right;\">\n",
       "      <th></th>\n",
       "      <th>날짜</th>\n",
       "      <th>외국인 보유수량</th>\n",
       "      <th>외국인 지분율</th>\n",
       "      <th>외국인 한도수량</th>\n",
       "      <th>외국인 한도소진율</th>\n",
       "      <th>등락률</th>\n",
       "      <th>코스피 등락률</th>\n",
       "      <th>변동성</th>\n",
       "    </tr>\n",
       "  </thead>\n",
       "  <tbody>\n",
       "    <tr>\n",
       "      <th>0</th>\n",
       "      <td>2019/01/02</td>\n",
       "      <td>127944786</td>\n",
       "      <td>49.00</td>\n",
       "      <td>127944786</td>\n",
       "      <td>100.00</td>\n",
       "      <td>2.01</td>\n",
       "      <td>-1.52</td>\n",
       "      <td>0</td>\n",
       "    </tr>\n",
       "    <tr>\n",
       "      <th>1</th>\n",
       "      <td>2019/01/03</td>\n",
       "      <td>127944786</td>\n",
       "      <td>49.00</td>\n",
       "      <td>127944786</td>\n",
       "      <td>100.00</td>\n",
       "      <td>0.33</td>\n",
       "      <td>-0.81</td>\n",
       "      <td>0</td>\n",
       "    </tr>\n",
       "    <tr>\n",
       "      <th>2</th>\n",
       "      <td>2019/01/04</td>\n",
       "      <td>127944786</td>\n",
       "      <td>49.00</td>\n",
       "      <td>127944786</td>\n",
       "      <td>100.00</td>\n",
       "      <td>0.33</td>\n",
       "      <td>0.83</td>\n",
       "      <td>1</td>\n",
       "    </tr>\n",
       "    <tr>\n",
       "      <th>3</th>\n",
       "      <td>2019/01/07</td>\n",
       "      <td>127944786</td>\n",
       "      <td>49.00</td>\n",
       "      <td>127944786</td>\n",
       "      <td>100.00</td>\n",
       "      <td>-0.49</td>\n",
       "      <td>1.34</td>\n",
       "      <td>0</td>\n",
       "    </tr>\n",
       "    <tr>\n",
       "      <th>4</th>\n",
       "      <td>2019/01/08</td>\n",
       "      <td>127944786</td>\n",
       "      <td>49.00</td>\n",
       "      <td>127944786</td>\n",
       "      <td>100.00</td>\n",
       "      <td>-0.82</td>\n",
       "      <td>-0.58</td>\n",
       "      <td>1</td>\n",
       "    </tr>\n",
       "    <tr>\n",
       "      <th>...</th>\n",
       "      <td>...</td>\n",
       "      <td>...</td>\n",
       "      <td>...</td>\n",
       "      <td>...</td>\n",
       "      <td>...</td>\n",
       "      <td>...</td>\n",
       "      <td>...</td>\n",
       "      <td>...</td>\n",
       "    </tr>\n",
       "    <tr>\n",
       "      <th>737</th>\n",
       "      <td>2021/12/24</td>\n",
       "      <td>113932351</td>\n",
       "      <td>43.63</td>\n",
       "      <td>127944786</td>\n",
       "      <td>89.05</td>\n",
       "      <td>0.77</td>\n",
       "      <td>0.48</td>\n",
       "      <td>1</td>\n",
       "    </tr>\n",
       "    <tr>\n",
       "      <th>738</th>\n",
       "      <td>2021/12/27</td>\n",
       "      <td>114194777</td>\n",
       "      <td>43.73</td>\n",
       "      <td>127944786</td>\n",
       "      <td>89.25</td>\n",
       "      <td>-0.15</td>\n",
       "      <td>-0.43</td>\n",
       "      <td>1</td>\n",
       "    </tr>\n",
       "    <tr>\n",
       "      <th>739</th>\n",
       "      <td>2021/12/28</td>\n",
       "      <td>114259064</td>\n",
       "      <td>43.76</td>\n",
       "      <td>127944786</td>\n",
       "      <td>89.30</td>\n",
       "      <td>0.46</td>\n",
       "      <td>0.69</td>\n",
       "      <td>1</td>\n",
       "    </tr>\n",
       "    <tr>\n",
       "      <th>740</th>\n",
       "      <td>2021/12/29</td>\n",
       "      <td>114481931</td>\n",
       "      <td>43.84</td>\n",
       "      <td>127944786</td>\n",
       "      <td>89.48</td>\n",
       "      <td>-5.63</td>\n",
       "      <td>-0.89</td>\n",
       "      <td>1</td>\n",
       "    </tr>\n",
       "    <tr>\n",
       "      <th>741</th>\n",
       "      <td>2021/12/30</td>\n",
       "      <td>114127437</td>\n",
       "      <td>43.71</td>\n",
       "      <td>127944786</td>\n",
       "      <td>89.20</td>\n",
       "      <td>-1.29</td>\n",
       "      <td>-0.52</td>\n",
       "      <td>1</td>\n",
       "    </tr>\n",
       "  </tbody>\n",
       "</table>\n",
       "<p>742 rows × 8 columns</p>\n",
       "</div>"
      ],
      "text/plain": [
       "             날짜   외국인 보유수량  외국인 지분율   외국인 한도수량  외국인 한도소진율   등락률  코스피 등락률  변동성\n",
       "0    2019/01/02  127944786    49.00  127944786     100.00  2.01    -1.52    0\n",
       "1    2019/01/03  127944786    49.00  127944786     100.00  0.33    -0.81    0\n",
       "2    2019/01/04  127944786    49.00  127944786     100.00  0.33     0.83    1\n",
       "3    2019/01/07  127944786    49.00  127944786     100.00 -0.49     1.34    0\n",
       "4    2019/01/08  127944786    49.00  127944786     100.00 -0.82    -0.58    1\n",
       "..          ...        ...      ...        ...        ...   ...      ...  ...\n",
       "737  2021/12/24  113932351    43.63  127944786      89.05  0.77     0.48    1\n",
       "738  2021/12/27  114194777    43.73  127944786      89.25 -0.15    -0.43    1\n",
       "739  2021/12/28  114259064    43.76  127944786      89.30  0.46     0.69    1\n",
       "740  2021/12/29  114481931    43.84  127944786      89.48 -5.63    -0.89    1\n",
       "741  2021/12/30  114127437    43.71  127944786      89.20 -1.29    -0.52    1\n",
       "\n",
       "[742 rows x 8 columns]"
      ]
     },
     "execution_count": 76,
     "metadata": {},
     "output_type": "execute_result"
    }
   ],
   "source": [
    "kt_192021_kospi = pd.concat([kt_1920_kospi, kt_2021_kospi])\n",
    "kt_192021_kospi.reset_index(drop=True, inplace=True)\n",
    "\n",
    "kt_192021_kospi"
   ]
  },
  {
   "cell_type": "code",
   "execution_count": 77,
   "id": "43d2cfda",
   "metadata": {
    "ExecuteTime": {
     "end_time": "2022-07-11T08:22:36.813950Z",
     "start_time": "2022-07-11T08:22:36.775053Z"
    }
   },
   "outputs": [
    {
     "data": {
      "text/html": [
       "<div>\n",
       "<style scoped>\n",
       "    .dataframe tbody tr th:only-of-type {\n",
       "        vertical-align: middle;\n",
       "    }\n",
       "\n",
       "    .dataframe tbody tr th {\n",
       "        vertical-align: top;\n",
       "    }\n",
       "\n",
       "    .dataframe thead th {\n",
       "        text-align: right;\n",
       "    }\n",
       "</style>\n",
       "<table border=\"1\" class=\"dataframe\">\n",
       "  <thead>\n",
       "    <tr style=\"text-align: right;\">\n",
       "      <th></th>\n",
       "      <th>날짜</th>\n",
       "      <th>외국인 보유수량</th>\n",
       "      <th>외국인 지분율</th>\n",
       "      <th>외국인 한도수량</th>\n",
       "      <th>외국인 한도소진율</th>\n",
       "      <th>등락률</th>\n",
       "      <th>코스피 등락률</th>\n",
       "      <th>변동성</th>\n",
       "    </tr>\n",
       "  </thead>\n",
       "  <tbody>\n",
       "    <tr>\n",
       "      <th>0</th>\n",
       "      <td>2019/01/02</td>\n",
       "      <td>127944786</td>\n",
       "      <td>49.00</td>\n",
       "      <td>127944786</td>\n",
       "      <td>100.00</td>\n",
       "      <td>2.01</td>\n",
       "      <td>-1.52</td>\n",
       "      <td>0</td>\n",
       "    </tr>\n",
       "    <tr>\n",
       "      <th>1</th>\n",
       "      <td>2019/01/03</td>\n",
       "      <td>127944786</td>\n",
       "      <td>49.00</td>\n",
       "      <td>127944786</td>\n",
       "      <td>100.00</td>\n",
       "      <td>0.33</td>\n",
       "      <td>-0.81</td>\n",
       "      <td>0</td>\n",
       "    </tr>\n",
       "    <tr>\n",
       "      <th>2</th>\n",
       "      <td>2019/01/04</td>\n",
       "      <td>127944786</td>\n",
       "      <td>49.00</td>\n",
       "      <td>127944786</td>\n",
       "      <td>100.00</td>\n",
       "      <td>0.33</td>\n",
       "      <td>0.83</td>\n",
       "      <td>1</td>\n",
       "    </tr>\n",
       "    <tr>\n",
       "      <th>3</th>\n",
       "      <td>2019/01/07</td>\n",
       "      <td>127944786</td>\n",
       "      <td>49.00</td>\n",
       "      <td>127944786</td>\n",
       "      <td>100.00</td>\n",
       "      <td>-0.49</td>\n",
       "      <td>1.34</td>\n",
       "      <td>0</td>\n",
       "    </tr>\n",
       "    <tr>\n",
       "      <th>4</th>\n",
       "      <td>2019/01/08</td>\n",
       "      <td>127944786</td>\n",
       "      <td>49.00</td>\n",
       "      <td>127944786</td>\n",
       "      <td>100.00</td>\n",
       "      <td>-0.82</td>\n",
       "      <td>-0.58</td>\n",
       "      <td>1</td>\n",
       "    </tr>\n",
       "    <tr>\n",
       "      <th>...</th>\n",
       "      <td>...</td>\n",
       "      <td>...</td>\n",
       "      <td>...</td>\n",
       "      <td>...</td>\n",
       "      <td>...</td>\n",
       "      <td>...</td>\n",
       "      <td>...</td>\n",
       "      <td>...</td>\n",
       "    </tr>\n",
       "    <tr>\n",
       "      <th>737</th>\n",
       "      <td>2021/12/24</td>\n",
       "      <td>113932351</td>\n",
       "      <td>43.63</td>\n",
       "      <td>127944786</td>\n",
       "      <td>89.05</td>\n",
       "      <td>0.77</td>\n",
       "      <td>0.48</td>\n",
       "      <td>1</td>\n",
       "    </tr>\n",
       "    <tr>\n",
       "      <th>738</th>\n",
       "      <td>2021/12/27</td>\n",
       "      <td>114194777</td>\n",
       "      <td>43.73</td>\n",
       "      <td>127944786</td>\n",
       "      <td>89.25</td>\n",
       "      <td>-0.15</td>\n",
       "      <td>-0.43</td>\n",
       "      <td>1</td>\n",
       "    </tr>\n",
       "    <tr>\n",
       "      <th>739</th>\n",
       "      <td>2021/12/28</td>\n",
       "      <td>114259064</td>\n",
       "      <td>43.76</td>\n",
       "      <td>127944786</td>\n",
       "      <td>89.30</td>\n",
       "      <td>0.46</td>\n",
       "      <td>0.69</td>\n",
       "      <td>1</td>\n",
       "    </tr>\n",
       "    <tr>\n",
       "      <th>740</th>\n",
       "      <td>2021/12/29</td>\n",
       "      <td>114481931</td>\n",
       "      <td>43.84</td>\n",
       "      <td>127944786</td>\n",
       "      <td>89.48</td>\n",
       "      <td>-5.63</td>\n",
       "      <td>-0.89</td>\n",
       "      <td>1</td>\n",
       "    </tr>\n",
       "    <tr>\n",
       "      <th>741</th>\n",
       "      <td>2021/12/30</td>\n",
       "      <td>114127437</td>\n",
       "      <td>43.71</td>\n",
       "      <td>127944786</td>\n",
       "      <td>89.20</td>\n",
       "      <td>-1.29</td>\n",
       "      <td>-0.52</td>\n",
       "      <td>1</td>\n",
       "    </tr>\n",
       "  </tbody>\n",
       "</table>\n",
       "<p>742 rows × 8 columns</p>\n",
       "</div>"
      ],
      "text/plain": [
       "             날짜   외국인 보유수량  외국인 지분율   외국인 한도수량  외국인 한도소진율   등락률  코스피 등락률  변동성\n",
       "0    2019/01/02  127944786    49.00  127944786     100.00  2.01    -1.52    0\n",
       "1    2019/01/03  127944786    49.00  127944786     100.00  0.33    -0.81    0\n",
       "2    2019/01/04  127944786    49.00  127944786     100.00  0.33     0.83    1\n",
       "3    2019/01/07  127944786    49.00  127944786     100.00 -0.49     1.34    0\n",
       "4    2019/01/08  127944786    49.00  127944786     100.00 -0.82    -0.58    1\n",
       "..          ...        ...      ...        ...        ...   ...      ...  ...\n",
       "737  2021/12/24  113932351    43.63  127944786      89.05  0.77     0.48    1\n",
       "738  2021/12/27  114194777    43.73  127944786      89.25 -0.15    -0.43    1\n",
       "739  2021/12/28  114259064    43.76  127944786      89.30  0.46     0.69    1\n",
       "740  2021/12/29  114481931    43.84  127944786      89.48 -5.63    -0.89    1\n",
       "741  2021/12/30  114127437    43.71  127944786      89.20 -1.29    -0.52    1\n",
       "\n",
       "[742 rows x 8 columns]"
      ]
     },
     "execution_count": 77,
     "metadata": {},
     "output_type": "execute_result"
    }
   ],
   "source": [
    "kt_192021_kospi = pd.concat([kt_1920_kospi, kt_2021_kospi])\n",
    "kt_192021_kospi.reset_index(drop=True, inplace=True)\n",
    "\n",
    "kt_192021_kospi"
   ]
  },
  {
   "cell_type": "code",
   "execution_count": 78,
   "id": "671d5f24",
   "metadata": {
    "ExecuteTime": {
     "end_time": "2022-07-11T08:22:39.462037Z",
     "start_time": "2022-07-11T08:22:39.451066Z"
    }
   },
   "outputs": [],
   "source": [
    "from sklearn.linear_model import LogisticRegression"
   ]
  },
  {
   "cell_type": "code",
   "execution_count": 79,
   "id": "4c9ff4e7",
   "metadata": {
    "ExecuteTime": {
     "end_time": "2022-07-11T08:22:40.158177Z",
     "start_time": "2022-07-11T08:22:40.137231Z"
    }
   },
   "outputs": [
    {
     "data": {
      "text/plain": [
       "날짜           0\n",
       "외국인 보유수량     0\n",
       "외국인 지분율      0\n",
       "외국인 한도수량     0\n",
       "외국인 한도소진율    0\n",
       "등락률          0\n",
       "코스피 등락률      0\n",
       "변동성          0\n",
       "dtype: int64"
      ]
     },
     "execution_count": 79,
     "metadata": {},
     "output_type": "execute_result"
    }
   ],
   "source": [
    "kt_192021_kospi.isna().sum()"
   ]
  },
  {
   "cell_type": "code",
   "execution_count": 46,
   "id": "eee2b38d",
   "metadata": {
    "ExecuteTime": {
     "end_time": "2022-07-11T06:18:19.720753Z",
     "start_time": "2022-07-11T06:18:19.703798Z"
    }
   },
   "outputs": [],
   "source": [
    "# features = kt_192021_kospi[[\"등락률\", \"코스피 등락률\"]]\n",
    "# label = kt_192021_kospi[[\"변동성\"]]"
   ]
  },
  {
   "cell_type": "code",
   "execution_count": 80,
   "id": "82f99562",
   "metadata": {
    "ExecuteTime": {
     "end_time": "2022-07-11T08:22:49.799579Z",
     "start_time": "2022-07-11T08:22:49.778638Z"
    }
   },
   "outputs": [],
   "source": [
    "from sklearn.model_selection import train_test_split\n",
    "\n",
    "X_train = kt_192021_kospi[[\"등락률\", \"코스피 등락률\"]]\n",
    "X_test = kt_2022_kospi[[\"등락률\", \"코스피 등락률\"]]\n",
    "y_train = kt_192021_kospi[\"변동성\"]\n",
    "y_test = kt_2022_kospi[\"변동성\"]\n",
    "\n",
    "# X_train, X_test, y_train, y_test = train_test_split(features, label,\n",
    "#                                                    test_size = 0.2, random_state=11)"
   ]
  },
  {
   "cell_type": "code",
   "execution_count": 81,
   "id": "3f5b9b65",
   "metadata": {
    "ExecuteTime": {
     "end_time": "2022-07-11T08:22:50.942524Z",
     "start_time": "2022-07-11T08:22:50.912603Z"
    }
   },
   "outputs": [],
   "source": [
    "from sklearn.preprocessing import StandardScaler\n",
    "\n",
    "# 서로 다른 변수의 값 범위를 일정한 수준으로 맞추기 위해\n",
    "# 평균이 0, 분산 1로 데이터 분포도 변환\n",
    "sscaler = StandardScaler()\n",
    "\n",
    "X_train = sscaler.fit_transform(X_train)\n",
    "X_test = sscaler.fit_transform(X_test)"
   ]
  },
  {
   "cell_type": "code",
   "execution_count": 82,
   "id": "b37ec5da",
   "metadata": {
    "ExecuteTime": {
     "end_time": "2022-07-11T08:22:51.403292Z",
     "start_time": "2022-07-11T08:22:51.344449Z"
    }
   },
   "outputs": [
    {
     "data": {
      "text/html": [
       "<style>#sk-container-id-5 {color: black;background-color: white;}#sk-container-id-5 pre{padding: 0;}#sk-container-id-5 div.sk-toggleable {background-color: white;}#sk-container-id-5 label.sk-toggleable__label {cursor: pointer;display: block;width: 100%;margin-bottom: 0;padding: 0.3em;box-sizing: border-box;text-align: center;}#sk-container-id-5 label.sk-toggleable__label-arrow:before {content: \"▸\";float: left;margin-right: 0.25em;color: #696969;}#sk-container-id-5 label.sk-toggleable__label-arrow:hover:before {color: black;}#sk-container-id-5 div.sk-estimator:hover label.sk-toggleable__label-arrow:before {color: black;}#sk-container-id-5 div.sk-toggleable__content {max-height: 0;max-width: 0;overflow: hidden;text-align: left;background-color: #f0f8ff;}#sk-container-id-5 div.sk-toggleable__content pre {margin: 0.2em;color: black;border-radius: 0.25em;background-color: #f0f8ff;}#sk-container-id-5 input.sk-toggleable__control:checked~div.sk-toggleable__content {max-height: 200px;max-width: 100%;overflow: auto;}#sk-container-id-5 input.sk-toggleable__control:checked~label.sk-toggleable__label-arrow:before {content: \"▾\";}#sk-container-id-5 div.sk-estimator input.sk-toggleable__control:checked~label.sk-toggleable__label {background-color: #d4ebff;}#sk-container-id-5 div.sk-label input.sk-toggleable__control:checked~label.sk-toggleable__label {background-color: #d4ebff;}#sk-container-id-5 input.sk-hidden--visually {border: 0;clip: rect(1px 1px 1px 1px);clip: rect(1px, 1px, 1px, 1px);height: 1px;margin: -1px;overflow: hidden;padding: 0;position: absolute;width: 1px;}#sk-container-id-5 div.sk-estimator {font-family: monospace;background-color: #f0f8ff;border: 1px dotted black;border-radius: 0.25em;box-sizing: border-box;margin-bottom: 0.5em;}#sk-container-id-5 div.sk-estimator:hover {background-color: #d4ebff;}#sk-container-id-5 div.sk-parallel-item::after {content: \"\";width: 100%;border-bottom: 1px solid gray;flex-grow: 1;}#sk-container-id-5 div.sk-label:hover label.sk-toggleable__label {background-color: #d4ebff;}#sk-container-id-5 div.sk-serial::before {content: \"\";position: absolute;border-left: 1px solid gray;box-sizing: border-box;top: 0;bottom: 0;left: 50%;z-index: 0;}#sk-container-id-5 div.sk-serial {display: flex;flex-direction: column;align-items: center;background-color: white;padding-right: 0.2em;padding-left: 0.2em;position: relative;}#sk-container-id-5 div.sk-item {position: relative;z-index: 1;}#sk-container-id-5 div.sk-parallel {display: flex;align-items: stretch;justify-content: center;background-color: white;position: relative;}#sk-container-id-5 div.sk-item::before, #sk-container-id-5 div.sk-parallel-item::before {content: \"\";position: absolute;border-left: 1px solid gray;box-sizing: border-box;top: 0;bottom: 0;left: 50%;z-index: -1;}#sk-container-id-5 div.sk-parallel-item {display: flex;flex-direction: column;z-index: 1;position: relative;background-color: white;}#sk-container-id-5 div.sk-parallel-item:first-child::after {align-self: flex-end;width: 50%;}#sk-container-id-5 div.sk-parallel-item:last-child::after {align-self: flex-start;width: 50%;}#sk-container-id-5 div.sk-parallel-item:only-child::after {width: 0;}#sk-container-id-5 div.sk-dashed-wrapped {border: 1px dashed gray;margin: 0 0.4em 0.5em 0.4em;box-sizing: border-box;padding-bottom: 0.4em;background-color: white;}#sk-container-id-5 div.sk-label label {font-family: monospace;font-weight: bold;display: inline-block;line-height: 1.2em;}#sk-container-id-5 div.sk-label-container {text-align: center;}#sk-container-id-5 div.sk-container {/* jupyter's `normalize.less` sets `[hidden] { display: none; }` but bootstrap.min.css set `[hidden] { display: none !important; }` so we also need the `!important` here to be able to override the default hidden behavior on the sphinx rendered scikit-learn.org. See: https://github.com/scikit-learn/scikit-learn/issues/21755 */display: inline-block !important;position: relative;}#sk-container-id-5 div.sk-text-repr-fallback {display: none;}</style><div id=\"sk-container-id-5\" class=\"sk-top-container\"><div class=\"sk-text-repr-fallback\"><pre>LogisticRegression()</pre><b>In a Jupyter environment, please rerun this cell to show the HTML representation or trust the notebook. <br />On GitHub, the HTML representation is unable to render, please try loading this page with nbviewer.org.</b></div><div class=\"sk-container\" hidden><div class=\"sk-item\"><div class=\"sk-estimator sk-toggleable\"><input class=\"sk-toggleable__control sk-hidden--visually\" id=\"sk-estimator-id-5\" type=\"checkbox\" checked><label for=\"sk-estimator-id-5\" class=\"sk-toggleable__label sk-toggleable__label-arrow\">LogisticRegression</label><div class=\"sk-toggleable__content\"><pre>LogisticRegression()</pre></div></div></div></div></div>"
      ],
      "text/plain": [
       "LogisticRegression()"
      ]
     },
     "execution_count": 82,
     "metadata": {},
     "output_type": "execute_result"
    }
   ],
   "source": [
    "model = LogisticRegression()\n",
    "results = model.fit(X_train, y_train)\n",
    "results"
   ]
  },
  {
   "cell_type": "code",
   "execution_count": 83,
   "id": "4f519252",
   "metadata": {
    "ExecuteTime": {
     "end_time": "2022-07-11T08:22:51.972771Z",
     "start_time": "2022-07-11T08:22:51.952820Z"
    }
   },
   "outputs": [
    {
     "data": {
      "text/plain": [
       "array([1, 1, 1, 1, 1, 1, 1, 1, 1, 1, 1, 1, 1, 1, 1, 1, 1, 1, 1, 1, 1, 1,\n",
       "       1, 1, 1, 1, 1, 1, 1, 1, 1, 1, 1, 1, 1, 1, 1, 1, 1, 1, 1, 1, 1, 0,\n",
       "       1, 1, 1, 1, 0, 1, 1, 1, 1, 1, 1, 1, 1, 1, 1, 1, 1, 1, 1, 1, 1, 1,\n",
       "       1, 1, 1, 1, 1, 1, 1, 1, 1, 1, 1, 1, 1, 1, 1, 1, 1, 1, 1, 1, 1, 1,\n",
       "       1, 1, 1, 1, 1, 1, 1, 1, 1, 1, 1, 1, 1, 1, 1, 1, 1, 1, 1, 1, 1, 1,\n",
       "       1, 1, 1, 1, 1, 1, 1, 1, 1, 1, 1, 1, 1, 1, 1, 1, 1], dtype=int64)"
      ]
     },
     "execution_count": 83,
     "metadata": {},
     "output_type": "execute_result"
    }
   ],
   "source": [
    "model_pred = model.predict(X_test)\n",
    "model_pred"
   ]
  },
  {
   "cell_type": "code",
   "execution_count": 84,
   "id": "c632ec70",
   "metadata": {
    "ExecuteTime": {
     "end_time": "2022-07-11T08:22:53.907711Z",
     "start_time": "2022-07-11T08:22:53.883743Z"
    }
   },
   "outputs": [
    {
     "name": "stdout",
     "output_type": "stream",
     "text": [
      "roc_auc:  0.5169491525423728\n"
     ]
    }
   ],
   "source": [
    "from sklearn.metrics import roc_auc_score\n",
    "\n",
    "print(\"roc_auc: \", roc_auc_score(y_test, model_pred))"
   ]
  },
  {
   "cell_type": "code",
   "execution_count": 85,
   "id": "853fcd47",
   "metadata": {
    "ExecuteTime": {
     "end_time": "2022-07-11T08:22:54.541982Z",
     "start_time": "2022-07-11T08:22:54.532009Z"
    }
   },
   "outputs": [
    {
     "data": {
      "text/plain": [
       "0.5929919137466307"
      ]
     },
     "execution_count": 85,
     "metadata": {},
     "output_type": "execute_result"
    }
   ],
   "source": [
    "model.score(X_train, y_train)"
   ]
  },
  {
   "cell_type": "code",
   "execution_count": 86,
   "id": "6308487c",
   "metadata": {
    "ExecuteTime": {
     "end_time": "2022-07-11T08:22:54.937923Z",
     "start_time": "2022-07-11T08:22:54.925955Z"
    }
   },
   "outputs": [
    {
     "data": {
      "text/plain": [
       "0.5511811023622047"
      ]
     },
     "execution_count": 86,
     "metadata": {},
     "output_type": "execute_result"
    }
   ],
   "source": [
    "model.score(X_test, y_test)"
   ]
  },
  {
   "cell_type": "code",
   "execution_count": 87,
   "id": "cb8982ac",
   "metadata": {
    "ExecuteTime": {
     "end_time": "2022-07-11T08:22:55.269041Z",
     "start_time": "2022-07-11T08:22:55.254078Z"
    }
   },
   "outputs": [
    {
     "data": {
      "text/plain": [
       "array([[ 0.13743032, -0.15034724]])"
      ]
     },
     "execution_count": 87,
     "metadata": {},
     "output_type": "execute_result"
    }
   ],
   "source": [
    "model.coef_"
   ]
  },
  {
   "cell_type": "code",
   "execution_count": 88,
   "id": "b5e915f7",
   "metadata": {
    "ExecuteTime": {
     "end_time": "2022-07-11T08:22:56.936142Z",
     "start_time": "2022-07-11T08:22:56.717724Z"
    },
    "scrolled": true
   },
   "outputs": [
    {
     "name": "stdout",
     "output_type": "stream",
     "text": [
      "최적 하이퍼 파라미터:{'C': 0.1, 'penalty': 'l2'}, 최적 평균 정확도:0.594\n"
     ]
    },
    {
     "name": "stderr",
     "output_type": "stream",
     "text": [
      "C:\\Users\\wndgj\\AppData\\Local\\Programs\\Python\\Python310\\lib\\site-packages\\sklearn\\model_selection\\_validation.py:378: FitFailedWarning: \n",
      "30 fits failed out of a total of 60.\n",
      "The score on these train-test partitions for these parameters will be set to nan.\n",
      "If these failures are not expected, you can try to debug them by setting error_score='raise'.\n",
      "\n",
      "Below are more details about the failures:\n",
      "--------------------------------------------------------------------------------\n",
      "30 fits failed with the following error:\n",
      "Traceback (most recent call last):\n",
      "  File \"C:\\Users\\wndgj\\AppData\\Local\\Programs\\Python\\Python310\\lib\\site-packages\\sklearn\\model_selection\\_validation.py\", line 686, in _fit_and_score\n",
      "    estimator.fit(X_train, y_train, **fit_params)\n",
      "  File \"C:\\Users\\wndgj\\AppData\\Local\\Programs\\Python\\Python310\\lib\\site-packages\\sklearn\\linear_model\\_logistic.py\", line 1091, in fit\n",
      "    solver = _check_solver(self.solver, self.penalty, self.dual)\n",
      "  File \"C:\\Users\\wndgj\\AppData\\Local\\Programs\\Python\\Python310\\lib\\site-packages\\sklearn\\linear_model\\_logistic.py\", line 61, in _check_solver\n",
      "    raise ValueError(\n",
      "ValueError: Solver lbfgs supports only 'l2' or 'none' penalties, got l1 penalty.\n",
      "\n",
      "  warnings.warn(some_fits_failed_message, FitFailedWarning)\n",
      "C:\\Users\\wndgj\\AppData\\Local\\Programs\\Python\\Python310\\lib\\site-packages\\sklearn\\model_selection\\_search.py:953: UserWarning: One or more of the test scores are non-finite: [0.59029566        nan 0.59164702        nan 0.59434972        nan\n",
      " 0.59299837        nan 0.59299837        nan 0.59299837        nan]\n",
      "  warnings.warn(\n"
     ]
    }
   ],
   "source": [
    "from sklearn.model_selection import GridSearchCV\n",
    "\n",
    "# 주요 파라메터 (C)\n",
    "# C 값 (기본값 = 1)\n",
    "# C 값이 작으면 Penalty 강해짐 (단순 모델)\n",
    "# C 값이 크면 Penalty 약해짐 (정규화 없어짐)\n",
    "# 보통 로그스케일로 지정(10배씩) = 0.01, 0.1, 1, 10\n",
    "\n",
    "# penalty\n",
    "# L2: Ridge, 일반적으로 사용 (default)\n",
    "# L1: LASSO, 변수가 많아서 줄여야할 때 사용, 모델의 단순화 및 해석에 용이\n",
    "params={'penalty':['l2', 'l1'],\n",
    "       'C':[0.001, 0.01, 0.1, 1, 10, 100]}\n",
    "\n",
    "grid_clf = GridSearchCV(model, param_grid=params, scoring='accuracy', cv=5)\n",
    "\n",
    "grid_clf.fit(X_train, y_train)\n",
    "print('최적 하이퍼 파라미터:{0}, 최적 평균 정확도:{1:.3f}'.format(grid_clf.best_params_, \n",
    "                                                                    grid_clf.best_score_))"
   ]
  },
  {
   "cell_type": "code",
   "execution_count": 70,
   "id": "ed4b495e",
   "metadata": {
    "ExecuteTime": {
     "end_time": "2022-07-11T07:32:10.252703Z",
     "start_time": "2022-07-11T07:32:09.997389Z"
    }
   },
   "outputs": [
    {
     "name": "stderr",
     "output_type": "stream",
     "text": [
      "C:\\Users\\wndgj\\AppData\\Local\\Programs\\Python\\Python310\\lib\\site-packages\\sklearn\\utils\\deprecation.py:87: FutureWarning: Function plot_roc_curve is deprecated; Function :func:`plot_roc_curve` is deprecated in 1.0 and will be removed in 1.2. Use one of the class methods: :meth:`sklearn.metric.RocCurveDisplay.from_predictions` or :meth:`sklearn.metric.RocCurveDisplay.from_estimator`.\n",
      "  warnings.warn(msg, category=FutureWarning)\n"
     ]
    },
    {
     "data": {
      "image/png": "[encoded data removed]",
      "text/plain": [
       "<Figure size 432x288 with 1 Axes>"
      ]
     },
     "metadata": {
      "needs_background": "light"
     },
     "output_type": "display_data"
    }
   ],
   "source": [
    "from sklearn import metrics \n",
    "import matplotlib.pyplot as plt\n",
    "\n",
    "# TPR(재현율) = 민감도\n",
    "# TNR = 특이성 \n",
    "metrics.plot_roc_curve(grid_clf, X_test, y_test)\n",
    "\n",
    "plt.plot([0,1], [0,1], 'k--')\n",
    "plt.show()\n",
    "\n"
   ]
  },
  {
   "cell_type": "markdown",
   "id": "92720297",
   "metadata": {},
   "source": [
    "#### fit(), transform() 사용시 주의사항\n",
    "* Scaler 객체를 이용해 학습 데이터 세트로 fit()과 transform()을 적용하면 테스트 데이터 세트로는 다시 fit()을 수행하지 않고 학습 데이터 세트로 fit()을 수행한 결과를 이용해 transform()변환을 적용해야 한다.\n",
    "* 테스트 데이터로 다시 새로운 스케일링 기준 정보를 만들게 되면 학습 데이터와 테스트 데이터의 스케일링 기준 정보가 서로 달라지기 때문에 올바른 예측 결과를 도출하지 못할 수 있다."
   ]
  },
  {
   "cell_type": "code",
   "execution_count": 89,
   "id": "1c15bc2e",
   "metadata": {
    "ExecuteTime": {
     "end_time": "2022-07-11T08:23:00.378933Z",
     "start_time": "2022-07-11T08:23:00.356990Z"
    }
   },
   "outputs": [
    {
     "name": "stdout",
     "output_type": "stream",
     "text": [
      "테스트 세트에서의 LogisticRegression 정밀도 : 0.5354\n",
      "테스트 세트에서의 LogisticRegression 정확도 : 0.5354\n",
      "테스트 세트에서의 LogisticRegression 재현율 : 1.0000\n"
     ]
    }
   ],
   "source": [
    "from sklearn.metrics import precision_score, accuracy_score, recall_score\n",
    "\n",
    "dpredictions = grid_clf.predict(X_test)\n",
    "\n",
    "precision = precision_score(y_test, dpredictions)\n",
    "accuracy = accuracy_score(y_test, dpredictions)\n",
    "recall = recall_score(y_test, dpredictions)\n",
    "\n",
    "print('테스트 세트에서의 LogisticRegression 정밀도 : {0:.4f}'.format(precision))\n",
    "print('테스트 세트에서의 LogisticRegression 정확도 : {0:.4f}'.format(accuracy))\n",
    "print('테스트 세트에서의 LogisticRegression 재현율 : {0:.4f}'.format(recall))"
   ]
  },
  {
   "cell_type": "code",
   "execution_count": null,
   "id": "dcc40c40",
   "metadata": {},
   "outputs": [],
   "source": []
  }
 ],
 "metadata": {
  "kernelspec": {
   "display_name": "Python 3 (ipykernel)",
   "language": "python",
   "name": "python3"
  },
  "language_info": {
   "codemirror_mode": {
    "name": "ipython",
    "version": 3
   },
   "file_extension": ".py",
   "mimetype": "text/x-python",
   "name": "python",
   "nbconvert_exporter": "python",
   "pygments_lexer": "ipython3",
   "version": "3.10.1"
  },
  "toc": {
   "base_numbering": 1,
   "nav_menu": {},
   "number_sections": true,
   "sideBar": true,
   "skip_h1_title": false,
   "title_cell": "Table of Contents",
   "title_sidebar": "Contents",
   "toc_cell": false,
   "toc_position": {},
   "toc_section_display": true,
   "toc_window_display": false
  }
 },
 "nbformat": 4,
 "nbformat_minor": 5
}
