{
 "cells": [
  {
   "cell_type": "code",
   "execution_count": 2,
   "metadata": {},
   "outputs": [
    {
     "data": {
      "text/plain": [
       "['삼성전자', 'SK하이닉스', '삼성바이오로직스', '삼성전자우', '현대차']"
      ]
     },
     "execution_count": 2,
     "metadata": {},
     "output_type": "execute_result"
    }
   ],
   "source": [
    "import pandas as pd\n",
    "\n",
    "# 사용할 종목명 \n",
    "comp_name = pd.read_excel('./csv/2022년 기준 코스피 상위종목_금융업제외.xlsx')\n",
    "comp_name_list = comp_name[\"종목명\"].values.tolist()\n",
    "comp_name_list[:5]"
   ]
  },
  {
   "cell_type": "markdown",
   "metadata": {},
   "source": [
    "### 일중 시세정보"
   ]
  },
  {
   "cell_type": "code",
   "execution_count": 3,
   "metadata": {},
   "outputs": [],
   "source": [
    "import os\n",
    "\n",
    "# 투자자별 거래실적 경로\n",
    "path = './csv/유가증권/일중 시세정보(1분)/2021/'\n",
    "\n",
    "# 빈 리스트 생성\n",
    "file_list = []\n",
    "\n",
    "# 경로 내 모든 csv파일 리스트에 저장\n",
    "for filename in os.listdir(path):\n",
    "    if filename.endswith('.csv'):\n",
    "        file_list.append(filename)\n",
    "\n",
    "# 파일 정렬\n",
    "file_list.sort()\n",
    "# 빈 데이터 프레임 생성\n",
    "full_df = pd.DataFrame()\n",
    "\n",
    "# 리스트에 저장된 파일 하나씩 불러오기\n",
    "for file in file_list:\n",
    "    # print(file)\n",
    "    temp_df = pd.read_csv(path+file, encoding='CP949')\n",
    "\n",
    "    # 데이터 프레임 내 \"종목명\" 컬럼 값 리스트 생성\n",
    "    temp_df_list = temp_df[\"종목명\"].tolist()\n",
    "    \n",
    "    # 제거할 종목명 리스트\n",
    "    drop_list = [x for x in temp_df_list if x not in comp_name_list]\n",
    "    \n",
    "    # 불필요 종목 제거\n",
    "    temp_df.drop(temp_df[temp_df[\"종목명\"].isin(drop_list)].index, inplace=True)\n",
    "    # 불필요 컬럼 제거\n",
    "    temp_df = temp_df[[\"거래일자\", \"거래시각\", \"종목명\", \"시가\", \"고가\", \"저가\", \"종가\"]]\n",
    "    # 오전 9시 이전 거래 제거\n",
    "    temp_df.drop(temp_df[temp_df[\"거래시각\"] < 900].index, inplace=True)\n",
    "    # 오후 3시30분 이후 거래 제거\n",
    "    temp_df.drop(temp_df[temp_df[\"거래시각\"] > 1530].index, inplace=True)\n",
    "    # 인덱스 재설정\n",
    "    temp_df.reset_index(drop=True, inplace=True)\n",
    "    \n",
    "    # 모든 데이터 프레임 하나의 데이터 프레임에 저장\n",
    "    full_df = pd.concat([full_df, temp_df])   \n"
   ]
  },
  {
   "cell_type": "code",
   "execution_count": 5,
   "metadata": {},
   "outputs": [],
   "source": [
    "# csv 파일로 저장\n",
    "full_df.to_csv('./csv/유가증권/2021_일중_시세정보.csv', encoding='CP949')"
   ]
  },
  {
   "cell_type": "code",
   "execution_count": 6,
   "metadata": {},
   "outputs": [],
   "source": [
    "full_df = pd.read_csv('./csv/유가증권/2021_일중_시세정보.csv', encoding='CP949')"
   ]
  },
  {
   "cell_type": "code",
   "execution_count": 7,
   "metadata": {},
   "outputs": [],
   "source": [
    "# 거래시각 10분 별로 나누는 함수\n",
    "def test(b):\n",
    "    if b <= 910:\n",
    "        return 910\n",
    "    elif b <= 920:\n",
    "        return 920\n",
    "    elif b <= 930:\n",
    "        return 930\n",
    "    elif b <= 940:\n",
    "        return 940\n",
    "    elif b <= 950:\n",
    "        return 950\n",
    "    elif b <= 1000:\n",
    "        return 1000\n",
    "    elif b <= 1010:\n",
    "        return 1010\n",
    "    elif b <= 1020:\n",
    "        return 1020\n",
    "    elif b <= 1030:\n",
    "        return 1030\n",
    "    elif b <= 1040:\n",
    "        return 1040\n",
    "    elif b <= 1050:\n",
    "        return 1050\n",
    "    elif b <= 1100:\n",
    "        return 1100\n",
    "    elif b <= 1110:\n",
    "        return 1110\n",
    "    elif b <= 1120:\n",
    "        return 1110\n",
    "    elif b <= 1130:\n",
    "        return 1110\n",
    "    elif b <= 1140:\n",
    "        return 1110\n",
    "    elif b <= 1150:\n",
    "        return 1110\n",
    "    elif b <= 1200:\n",
    "        return 1200\n",
    "    elif b <= 1210:\n",
    "        return 1210\n",
    "    elif b <= 1220:\n",
    "        return 1220\n",
    "    elif b <= 1230:\n",
    "        return 1230\n",
    "    elif b <= 1240:\n",
    "        return 1240\n",
    "    elif b <= 1250:\n",
    "        return 1250\n",
    "    elif b <= 1300:\n",
    "        return 1300\n",
    "    elif b <= 1310:\n",
    "        return 1310\n",
    "    elif b <= 1320:\n",
    "        return 1320\n",
    "    elif b <= 1330:\n",
    "        return 1330\n",
    "    elif b <= 1340:\n",
    "        return 1340\n",
    "    elif b <= 1350:\n",
    "        return 1350\n",
    "    elif b <= 1400:\n",
    "        return 1400\n",
    "    elif b <= 1410:\n",
    "        return 1410\n",
    "    elif b <= 1420:\n",
    "        return 1420\n",
    "    elif b <= 1430:\n",
    "        return 1430\n",
    "    elif b <= 1440:\n",
    "        return 1440\n",
    "    elif b <= 1450:\n",
    "        return 1450\n",
    "    elif b <= 1500:\n",
    "        return 1500\n",
    "    elif b <= 1510:\n",
    "        return 1510\n",
    "    elif b <= 1520:\n",
    "        return 1520\n",
    "    elif b <= 1530:\n",
    "        return 1530"
   ]
  },
  {
   "cell_type": "code",
   "execution_count": 11,
   "metadata": {},
   "outputs": [
    {
     "ename": "TypeError",
     "evalue": "incompatible index of inserted column with frame index",
     "output_type": "error",
     "traceback": [
      "\u001b[1;31m---------------------------------------------------------------------------\u001b[0m",
      "\u001b[1;31mValueError\u001b[0m                                Traceback (most recent call last)",
      "File \u001b[1;32mc:\\Users\\user\\AppData\\Local\\Programs\\Python\\Python310\\lib\\site-packages\\pandas\\core\\frame.py:10994\u001b[0m, in \u001b[0;36m_reindex_for_setitem\u001b[1;34m(value, index)\u001b[0m\n\u001b[0;32m  10993\u001b[0m \u001b[39mtry\u001b[39;00m:\n\u001b[1;32m> 10994\u001b[0m     reindexed_value \u001b[39m=\u001b[39m value\u001b[39m.\u001b[39;49mreindex(index)\u001b[39m.\u001b[39m_values\n\u001b[0;32m  10995\u001b[0m \u001b[39mexcept\u001b[39;00m \u001b[39mValueError\u001b[39;00m \u001b[39mas\u001b[39;00m err:\n\u001b[0;32m  10996\u001b[0m     \u001b[39m# raised in MultiIndex.from_tuples, see test_insert_error_msmgs\u001b[39;00m\n",
      "File \u001b[1;32mc:\\Users\\user\\AppData\\Local\\Programs\\Python\\Python310\\lib\\site-packages\\pandas\\core\\series.py:4672\u001b[0m, in \u001b[0;36mSeries.reindex\u001b[1;34m(self, *args, **kwargs)\u001b[0m\n\u001b[0;32m   4671\u001b[0m     kwargs\u001b[39m.\u001b[39mupdate({\u001b[39m\"\u001b[39m\u001b[39mindex\u001b[39m\u001b[39m\"\u001b[39m: index})\n\u001b[1;32m-> 4672\u001b[0m \u001b[39mreturn\u001b[39;00m \u001b[39msuper\u001b[39m()\u001b[39m.\u001b[39mreindex(\u001b[39m*\u001b[39m\u001b[39m*\u001b[39mkwargs)\n",
      "File \u001b[1;32mc:\\Users\\user\\AppData\\Local\\Programs\\Python\\Python310\\lib\\site-packages\\pandas\\core\\generic.py:4966\u001b[0m, in \u001b[0;36mNDFrame.reindex\u001b[1;34m(self, *args, **kwargs)\u001b[0m\n\u001b[0;32m   4965\u001b[0m \u001b[39m# perform the reindex on the axes\u001b[39;00m\n\u001b[1;32m-> 4966\u001b[0m \u001b[39mreturn\u001b[39;00m \u001b[39mself\u001b[39;49m\u001b[39m.\u001b[39;49m_reindex_axes(\n\u001b[0;32m   4967\u001b[0m     axes, level, limit, tolerance, method, fill_value, copy\n\u001b[0;32m   4968\u001b[0m )\u001b[39m.\u001b[39m__finalize__(\u001b[39mself\u001b[39m, method\u001b[39m=\u001b[39m\u001b[39m\"\u001b[39m\u001b[39mreindex\u001b[39m\u001b[39m\"\u001b[39m)\n",
      "File \u001b[1;32mc:\\Users\\user\\AppData\\Local\\Programs\\Python\\Python310\\lib\\site-packages\\pandas\\core\\generic.py:4981\u001b[0m, in \u001b[0;36mNDFrame._reindex_axes\u001b[1;34m(self, axes, level, limit, tolerance, method, fill_value, copy)\u001b[0m\n\u001b[0;32m   4980\u001b[0m ax \u001b[39m=\u001b[39m \u001b[39mself\u001b[39m\u001b[39m.\u001b[39m_get_axis(a)\n\u001b[1;32m-> 4981\u001b[0m new_index, indexer \u001b[39m=\u001b[39m ax\u001b[39m.\u001b[39;49mreindex(\n\u001b[0;32m   4982\u001b[0m     labels, level\u001b[39m=\u001b[39;49mlevel, limit\u001b[39m=\u001b[39;49mlimit, tolerance\u001b[39m=\u001b[39;49mtolerance, method\u001b[39m=\u001b[39;49mmethod\n\u001b[0;32m   4983\u001b[0m )\n\u001b[0;32m   4985\u001b[0m axis \u001b[39m=\u001b[39m \u001b[39mself\u001b[39m\u001b[39m.\u001b[39m_get_axis_number(a)\n",
      "File \u001b[1;32mc:\\Users\\user\\AppData\\Local\\Programs\\Python\\Python310\\lib\\site-packages\\pandas\\core\\indexes\\base.py:4223\u001b[0m, in \u001b[0;36mIndex.reindex\u001b[1;34m(self, target, method, level, limit, tolerance)\u001b[0m\n\u001b[0;32m   4216\u001b[0m             warnings\u001b[39m.\u001b[39mwarn(\n\u001b[0;32m   4217\u001b[0m                 \u001b[39m\"\u001b[39m\u001b[39mreindexing with a non-unique Index is deprecated and \u001b[39m\u001b[39m\"\u001b[39m\n\u001b[0;32m   4218\u001b[0m                 \u001b[39m\"\u001b[39m\u001b[39mwill raise in a future version.\u001b[39m\u001b[39m\"\u001b[39m,\n\u001b[0;32m   4219\u001b[0m                 \u001b[39mFutureWarning\u001b[39;00m,\n\u001b[0;32m   4220\u001b[0m                 stacklevel\u001b[39m=\u001b[39mfind_stack_level(),\n\u001b[0;32m   4221\u001b[0m             )\n\u001b[1;32m-> 4223\u001b[0m target \u001b[39m=\u001b[39m \u001b[39mself\u001b[39;49m\u001b[39m.\u001b[39;49m_wrap_reindex_result(target, indexer, preserve_names)\n\u001b[0;32m   4224\u001b[0m \u001b[39mreturn\u001b[39;00m target, indexer\n",
      "File \u001b[1;32mc:\\Users\\user\\AppData\\Local\\Programs\\Python\\Python310\\lib\\site-packages\\pandas\\core\\indexes\\multi.py:2520\u001b[0m, in \u001b[0;36mMultiIndex._wrap_reindex_result\u001b[1;34m(self, target, indexer, preserve_names)\u001b[0m\n\u001b[0;32m   2519\u001b[0m \u001b[39mtry\u001b[39;00m:\n\u001b[1;32m-> 2520\u001b[0m     target \u001b[39m=\u001b[39m MultiIndex\u001b[39m.\u001b[39;49mfrom_tuples(target)\n\u001b[0;32m   2521\u001b[0m \u001b[39mexcept\u001b[39;00m \u001b[39mTypeError\u001b[39;00m:\n\u001b[0;32m   2522\u001b[0m     \u001b[39m# not all tuples, see test_constructor_dict_multiindex_reindex_flat\u001b[39;00m\n",
      "File \u001b[1;32mc:\\Users\\user\\AppData\\Local\\Programs\\Python\\Python310\\lib\\site-packages\\pandas\\core\\indexes\\multi.py:204\u001b[0m, in \u001b[0;36mnames_compat.<locals>.new_meth\u001b[1;34m(self_or_cls, *args, **kwargs)\u001b[0m\n\u001b[0;32m    202\u001b[0m     kwargs[\u001b[39m\"\u001b[39m\u001b[39mnames\u001b[39m\u001b[39m\"\u001b[39m] \u001b[39m=\u001b[39m kwargs\u001b[39m.\u001b[39mpop(\u001b[39m\"\u001b[39m\u001b[39mname\u001b[39m\u001b[39m\"\u001b[39m)\n\u001b[1;32m--> 204\u001b[0m \u001b[39mreturn\u001b[39;00m meth(self_or_cls, \u001b[39m*\u001b[39margs, \u001b[39m*\u001b[39m\u001b[39m*\u001b[39mkwargs)\n",
      "File \u001b[1;32mc:\\Users\\user\\AppData\\Local\\Programs\\Python\\Python310\\lib\\site-packages\\pandas\\core\\indexes\\multi.py:559\u001b[0m, in \u001b[0;36mMultiIndex.from_tuples\u001b[1;34m(cls, tuples, sortorder, names)\u001b[0m\n\u001b[0;32m    557\u001b[0m         tuples \u001b[39m=\u001b[39m np\u001b[39m.\u001b[39masarray(tuples\u001b[39m.\u001b[39m_values)\n\u001b[1;32m--> 559\u001b[0m     arrays \u001b[39m=\u001b[39m \u001b[39mlist\u001b[39m(lib\u001b[39m.\u001b[39;49mtuples_to_object_array(tuples)\u001b[39m.\u001b[39mT)\n\u001b[0;32m    560\u001b[0m \u001b[39melif\u001b[39;00m \u001b[39misinstance\u001b[39m(tuples, \u001b[39mlist\u001b[39m):\n",
      "File \u001b[1;32mc:\\Users\\user\\AppData\\Local\\Programs\\Python\\Python310\\lib\\site-packages\\pandas\\_libs\\lib.pyx:2930\u001b[0m, in \u001b[0;36mpandas._libs.lib.tuples_to_object_array\u001b[1;34m()\u001b[0m\n",
      "\u001b[1;31mValueError\u001b[0m: Buffer dtype mismatch, expected 'Python object' but got 'long long'",
      "\nThe above exception was the direct cause of the following exception:\n",
      "\u001b[1;31mTypeError\u001b[0m                                 Traceback (most recent call last)",
      "\u001b[1;32md:\\KRX_contest\\1년치 일중 시세정보.ipynb 셀 7\u001b[0m in \u001b[0;36m<cell line: 3>\u001b[1;34m()\u001b[0m\n\u001b[0;32m      <a href='vscode-notebook-cell:/d%3A/KRX_contest/1%EB%85%84%EC%B9%98%20%EC%9D%BC%EC%A4%91%20%EC%8B%9C%EC%84%B8%EC%A0%95%EB%B3%B4.ipynb#ch0000006?line=0'>1</a>\u001b[0m full_df[\u001b[39m\"\u001b[39m\u001b[39m거래시각\u001b[39m\u001b[39m\"\u001b[39m] \u001b[39m=\u001b[39m full_df[\u001b[39m\"\u001b[39m\u001b[39m거래시각\u001b[39m\u001b[39m\"\u001b[39m]\u001b[39m.\u001b[39mapply(test)\n\u001b[0;32m      <a href='vscode-notebook-cell:/d%3A/KRX_contest/1%EB%85%84%EC%B9%98%20%EC%9D%BC%EC%A4%91%20%EC%8B%9C%EC%84%B8%EC%A0%95%EB%B3%B4.ipynb#ch0000006?line=1'>2</a>\u001b[0m \u001b[39m# full_df.drop(\"Unnamed: 0\", axis=1, inplace=True)\u001b[39;00m\n\u001b[1;32m----> <a href='vscode-notebook-cell:/d%3A/KRX_contest/1%EB%85%84%EC%B9%98%20%EC%9D%BC%EC%A4%91%20%EC%8B%9C%EC%84%B8%EC%A0%95%EB%B3%B4.ipynb#ch0000006?line=2'>3</a>\u001b[0m full_df[\u001b[39m\"\u001b[39m\u001b[39m저가\u001b[39m\u001b[39m\"\u001b[39m] \u001b[39m=\u001b[39m full_df\u001b[39m.\u001b[39mgroupby([\u001b[39m\"\u001b[39m\u001b[39m거래일자\u001b[39m\u001b[39m\"\u001b[39m, \u001b[39m\"\u001b[39m\u001b[39m종목명\u001b[39m\u001b[39m\"\u001b[39m, \u001b[39m\"\u001b[39m\u001b[39m거래시각\u001b[39m\u001b[39m\"\u001b[39m])[\u001b[39m\"\u001b[39m\u001b[39m저가\u001b[39m\u001b[39m\"\u001b[39m]\u001b[39m.\u001b[39mmin()\n\u001b[0;32m      <a href='vscode-notebook-cell:/d%3A/KRX_contest/1%EB%85%84%EC%B9%98%20%EC%9D%BC%EC%A4%91%20%EC%8B%9C%EC%84%B8%EC%A0%95%EB%B3%B4.ipynb#ch0000006?line=3'>4</a>\u001b[0m full_df[\u001b[39m\"\u001b[39m\u001b[39m고가\u001b[39m\u001b[39m\"\u001b[39m] \u001b[39m=\u001b[39m full_df\u001b[39m.\u001b[39mgroupby([\u001b[39m\"\u001b[39m\u001b[39m거래일자\u001b[39m\u001b[39m\"\u001b[39m, \u001b[39m\"\u001b[39m\u001b[39m종목명\u001b[39m\u001b[39m\"\u001b[39m, \u001b[39m\"\u001b[39m\u001b[39m거래시각\u001b[39m\u001b[39m\"\u001b[39m])[\u001b[39m\"\u001b[39m\u001b[39m고가\u001b[39m\u001b[39m\"\u001b[39m]\u001b[39m.\u001b[39mmin()\n\u001b[0;32m      <a href='vscode-notebook-cell:/d%3A/KRX_contest/1%EB%85%84%EC%B9%98%20%EC%9D%BC%EC%A4%91%20%EC%8B%9C%EC%84%B8%EC%A0%95%EB%B3%B4.ipynb#ch0000006?line=4'>5</a>\u001b[0m full_df\n",
      "File \u001b[1;32mc:\\Users\\user\\AppData\\Local\\Programs\\Python\\Python310\\lib\\site-packages\\pandas\\core\\frame.py:3655\u001b[0m, in \u001b[0;36mDataFrame.__setitem__\u001b[1;34m(self, key, value)\u001b[0m\n\u001b[0;32m   3652\u001b[0m     \u001b[39mself\u001b[39m\u001b[39m.\u001b[39m_setitem_array([key], value)\n\u001b[0;32m   3653\u001b[0m \u001b[39melse\u001b[39;00m:\n\u001b[0;32m   3654\u001b[0m     \u001b[39m# set column\u001b[39;00m\n\u001b[1;32m-> 3655\u001b[0m     \u001b[39mself\u001b[39;49m\u001b[39m.\u001b[39;49m_set_item(key, value)\n",
      "File \u001b[1;32mc:\\Users\\user\\AppData\\Local\\Programs\\Python\\Python310\\lib\\site-packages\\pandas\\core\\frame.py:3832\u001b[0m, in \u001b[0;36mDataFrame._set_item\u001b[1;34m(self, key, value)\u001b[0m\n\u001b[0;32m   3822\u001b[0m \u001b[39mdef\u001b[39;00m \u001b[39m_set_item\u001b[39m(\u001b[39mself\u001b[39m, key, value) \u001b[39m-\u001b[39m\u001b[39m>\u001b[39m \u001b[39mNone\u001b[39;00m:\n\u001b[0;32m   3823\u001b[0m     \u001b[39m\"\"\"\u001b[39;00m\n\u001b[0;32m   3824\u001b[0m \u001b[39m    Add series to DataFrame in specified column.\u001b[39;00m\n\u001b[0;32m   3825\u001b[0m \n\u001b[1;32m   (...)\u001b[0m\n\u001b[0;32m   3830\u001b[0m \u001b[39m    ensure homogeneity.\u001b[39;00m\n\u001b[0;32m   3831\u001b[0m \u001b[39m    \"\"\"\u001b[39;00m\n\u001b[1;32m-> 3832\u001b[0m     value \u001b[39m=\u001b[39m \u001b[39mself\u001b[39;49m\u001b[39m.\u001b[39;49m_sanitize_column(value)\n\u001b[0;32m   3834\u001b[0m     \u001b[39mif\u001b[39;00m (\n\u001b[0;32m   3835\u001b[0m         key \u001b[39min\u001b[39;00m \u001b[39mself\u001b[39m\u001b[39m.\u001b[39mcolumns\n\u001b[0;32m   3836\u001b[0m         \u001b[39mand\u001b[39;00m value\u001b[39m.\u001b[39mndim \u001b[39m==\u001b[39m \u001b[39m1\u001b[39m\n\u001b[0;32m   3837\u001b[0m         \u001b[39mand\u001b[39;00m \u001b[39mnot\u001b[39;00m is_extension_array_dtype(value)\n\u001b[0;32m   3838\u001b[0m     ):\n\u001b[0;32m   3839\u001b[0m         \u001b[39m# broadcast across multiple columns if necessary\u001b[39;00m\n\u001b[0;32m   3840\u001b[0m         \u001b[39mif\u001b[39;00m \u001b[39mnot\u001b[39;00m \u001b[39mself\u001b[39m\u001b[39m.\u001b[39mcolumns\u001b[39m.\u001b[39mis_unique \u001b[39mor\u001b[39;00m \u001b[39misinstance\u001b[39m(\u001b[39mself\u001b[39m\u001b[39m.\u001b[39mcolumns, MultiIndex):\n",
      "File \u001b[1;32mc:\\Users\\user\\AppData\\Local\\Programs\\Python\\Python310\\lib\\site-packages\\pandas\\core\\frame.py:4532\u001b[0m, in \u001b[0;36mDataFrame._sanitize_column\u001b[1;34m(self, value)\u001b[0m\n\u001b[0;32m   4530\u001b[0m \u001b[39m# We should never get here with DataFrame value\u001b[39;00m\n\u001b[0;32m   4531\u001b[0m \u001b[39mif\u001b[39;00m \u001b[39misinstance\u001b[39m(value, Series):\n\u001b[1;32m-> 4532\u001b[0m     \u001b[39mreturn\u001b[39;00m _reindex_for_setitem(value, \u001b[39mself\u001b[39;49m\u001b[39m.\u001b[39;49mindex)\n\u001b[0;32m   4534\u001b[0m \u001b[39mif\u001b[39;00m is_list_like(value):\n\u001b[0;32m   4535\u001b[0m     com\u001b[39m.\u001b[39mrequire_length_match(value, \u001b[39mself\u001b[39m\u001b[39m.\u001b[39mindex)\n",
      "File \u001b[1;32mc:\\Users\\user\\AppData\\Local\\Programs\\Python\\Python310\\lib\\site-packages\\pandas\\core\\frame.py:11001\u001b[0m, in \u001b[0;36m_reindex_for_setitem\u001b[1;34m(value, index)\u001b[0m\n\u001b[0;32m  10997\u001b[0m     \u001b[39mif\u001b[39;00m \u001b[39mnot\u001b[39;00m value\u001b[39m.\u001b[39mindex\u001b[39m.\u001b[39mis_unique:\n\u001b[0;32m  10998\u001b[0m         \u001b[39m# duplicate axis\u001b[39;00m\n\u001b[0;32m  10999\u001b[0m         \u001b[39mraise\u001b[39;00m err\n\u001b[1;32m> 11001\u001b[0m     \u001b[39mraise\u001b[39;00m \u001b[39mTypeError\u001b[39;00m(\n\u001b[0;32m  11002\u001b[0m         \u001b[39m\"\u001b[39m\u001b[39mincompatible index of inserted column with frame index\u001b[39m\u001b[39m\"\u001b[39m\n\u001b[0;32m  11003\u001b[0m     ) \u001b[39mfrom\u001b[39;00m \u001b[39merr\u001b[39;00m\n\u001b[0;32m  11004\u001b[0m \u001b[39mreturn\u001b[39;00m reindexed_value\n",
      "\u001b[1;31mTypeError\u001b[0m: incompatible index of inserted column with frame index"
     ]
    }
   ],
   "source": [
    "full_df[\"거래시각\"] = full_df[\"거래시각\"].apply(test)\n",
    "# full_df.drop(\"Unnamed: 0\", axis=1, inplace=True)\n",
    "full_df[\"저가\"] = full_df.groupby([\"거래일자\", \"종목명\", \"거래시각\"])[\"저가\"].min()\n",
    "full_df[\"고가\"] = full_df.groupby([\"거래일자\", \"종목명\", \"거래시각\"])[\"고가\"].min()\n",
    "full_df"
   ]
  },
  {
   "cell_type": "code",
   "execution_count": null,
   "metadata": {},
   "outputs": [],
   "source": []
  }
 ],
 "metadata": {
  "kernelspec": {
   "display_name": "Python 3.10.5 64-bit",
   "language": "python",
   "name": "python3"
  },
  "language_info": {
   "codemirror_mode": {
    "name": "ipython",
    "version": 3
   },
   "file_extension": ".py",
   "mimetype": "text/x-python",
   "name": "python",
   "nbconvert_exporter": "python",
   "pygments_lexer": "ipython3",
   "version": "3.10.5"
  },
  "orig_nbformat": 4,
  "vscode": {
   "interpreter": {
    "hash": "fb4569285eef3a3450cb62085a5b1e0da4bce0af555edc33dcf29baf3acc1368"
   }
  }
 },
 "nbformat": 4,
 "nbformat_minor": 2
}
