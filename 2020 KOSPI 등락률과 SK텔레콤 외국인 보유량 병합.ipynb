{
 "cells": [
  {
   "cell_type": "code",
   "execution_count": 1,
   "id": "35c08a09",
   "metadata": {
    "ExecuteTime": {
     "end_time": "2022-07-11T02:15:17.504141Z",
     "start_time": "2022-07-11T02:15:16.576628Z"
    }
   },
   "outputs": [
    {
     "data": {
      "text/html": [
       "<div>\n",
       "<style scoped>\n",
       "    .dataframe tbody tr th:only-of-type {\n",
       "        vertical-align: middle;\n",
       "    }\n",
       "\n",
       "    .dataframe tbody tr th {\n",
       "        vertical-align: top;\n",
       "    }\n",
       "\n",
       "    .dataframe thead th {\n",
       "        text-align: right;\n",
       "    }\n",
       "</style>\n",
       "<table border=\"1\" class=\"dataframe\">\n",
       "  <thead>\n",
       "    <tr style=\"text-align: right;\">\n",
       "      <th></th>\n",
       "      <th>종목명</th>\n",
       "      <th>등락률</th>\n",
       "      <th>외국인 보유수량</th>\n",
       "      <th>외국인 지분율</th>\n",
       "      <th>외국인 한도수량</th>\n",
       "      <th>외국인 한도소진율</th>\n",
       "    </tr>\n",
       "  </thead>\n",
       "  <tbody>\n",
       "    <tr>\n",
       "      <th>0</th>\n",
       "      <td>SK텔레콤</td>\n",
       "      <td>1.11</td>\n",
       "      <td>33778425</td>\n",
       "      <td>41.83</td>\n",
       "      <td>39565398</td>\n",
       "      <td>85.37</td>\n",
       "    </tr>\n",
       "    <tr>\n",
       "      <th>1</th>\n",
       "      <td>SK텔레콤</td>\n",
       "      <td>1.10</td>\n",
       "      <td>33774351</td>\n",
       "      <td>41.83</td>\n",
       "      <td>39565398</td>\n",
       "      <td>85.36</td>\n",
       "    </tr>\n",
       "    <tr>\n",
       "      <th>2</th>\n",
       "      <td>SK텔레콤</td>\n",
       "      <td>1.45</td>\n",
       "      <td>33720632</td>\n",
       "      <td>41.76</td>\n",
       "      <td>39565398</td>\n",
       "      <td>85.23</td>\n",
       "    </tr>\n",
       "    <tr>\n",
       "      <th>3</th>\n",
       "      <td>SK텔레콤</td>\n",
       "      <td>-1.07</td>\n",
       "      <td>33703503</td>\n",
       "      <td>41.74</td>\n",
       "      <td>39565398</td>\n",
       "      <td>85.18</td>\n",
       "    </tr>\n",
       "    <tr>\n",
       "      <th>4</th>\n",
       "      <td>SK텔레콤</td>\n",
       "      <td>-0.18</td>\n",
       "      <td>33684160</td>\n",
       "      <td>41.72</td>\n",
       "      <td>39565398</td>\n",
       "      <td>85.14</td>\n",
       "    </tr>\n",
       "  </tbody>\n",
       "</table>\n",
       "</div>"
      ],
      "text/plain": [
       "     종목명   등락률  외국인 보유수량  외국인 지분율  외국인 한도수량  외국인 한도소진율\n",
       "0  SK텔레콤  1.11  33778425    41.83  39565398      85.37\n",
       "1  SK텔레콤  1.10  33774351    41.83  39565398      85.36\n",
       "2  SK텔레콤  1.45  33720632    41.76  39565398      85.23\n",
       "3  SK텔레콤 -1.07  33703503    41.74  39565398      85.18\n",
       "4  SK텔레콤 -0.18  33684160    41.72  39565398      85.14"
      ]
     },
     "execution_count": 1,
     "metadata": {},
     "output_type": "execute_result"
    }
   ],
   "source": [
    "import pandas as pd\n",
    "\n",
    "sk_df = pd.read_csv('./csv/2021_SK텔레콤_외국인.csv', encoding='CP949')\n",
    "sk_df.drop(['Unnamed: 0'], axis=1, inplace=True)\n",
    "\n",
    "sk_df.head()"
   ]
  },
  {
   "cell_type": "code",
   "execution_count": 2,
   "id": "3b61a060",
   "metadata": {
    "ExecuteTime": {
     "end_time": "2022-07-11T02:15:22.649522Z",
     "start_time": "2022-07-11T02:15:22.608631Z"
    },
    "scrolled": false
   },
   "outputs": [
    {
     "data": {
      "text/html": [
       "<div>\n",
       "<style scoped>\n",
       "    .dataframe tbody tr th:only-of-type {\n",
       "        vertical-align: middle;\n",
       "    }\n",
       "\n",
       "    .dataframe tbody tr th {\n",
       "        vertical-align: top;\n",
       "    }\n",
       "\n",
       "    .dataframe thead th {\n",
       "        text-align: right;\n",
       "    }\n",
       "</style>\n",
       "<table border=\"1\" class=\"dataframe\">\n",
       "  <thead>\n",
       "    <tr style=\"text-align: right;\">\n",
       "      <th></th>\n",
       "      <th>외국인 보유수량</th>\n",
       "      <th>외국인 지분율</th>\n",
       "      <th>외국인 한도수량</th>\n",
       "      <th>외국인 한도소진율</th>\n",
       "      <th>등락률</th>\n",
       "    </tr>\n",
       "  </thead>\n",
       "  <tbody>\n",
       "    <tr>\n",
       "      <th>0</th>\n",
       "      <td>33778425</td>\n",
       "      <td>41.83</td>\n",
       "      <td>39565398</td>\n",
       "      <td>85.37</td>\n",
       "      <td>1.11</td>\n",
       "    </tr>\n",
       "    <tr>\n",
       "      <th>1</th>\n",
       "      <td>33774351</td>\n",
       "      <td>41.83</td>\n",
       "      <td>39565398</td>\n",
       "      <td>85.36</td>\n",
       "      <td>1.10</td>\n",
       "    </tr>\n",
       "    <tr>\n",
       "      <th>2</th>\n",
       "      <td>33720632</td>\n",
       "      <td>41.76</td>\n",
       "      <td>39565398</td>\n",
       "      <td>85.23</td>\n",
       "      <td>1.45</td>\n",
       "    </tr>\n",
       "    <tr>\n",
       "      <th>3</th>\n",
       "      <td>33703503</td>\n",
       "      <td>41.74</td>\n",
       "      <td>39565398</td>\n",
       "      <td>85.18</td>\n",
       "      <td>-1.07</td>\n",
       "    </tr>\n",
       "    <tr>\n",
       "      <th>4</th>\n",
       "      <td>33684160</td>\n",
       "      <td>41.72</td>\n",
       "      <td>39565398</td>\n",
       "      <td>85.14</td>\n",
       "      <td>-0.18</td>\n",
       "    </tr>\n",
       "    <tr>\n",
       "      <th>...</th>\n",
       "      <td>...</td>\n",
       "      <td>...</td>\n",
       "      <td>...</td>\n",
       "      <td>...</td>\n",
       "      <td>...</td>\n",
       "    </tr>\n",
       "    <tr>\n",
       "      <th>241</th>\n",
       "      <td>30102031</td>\n",
       "      <td>37.28</td>\n",
       "      <td>39565398</td>\n",
       "      <td>76.08</td>\n",
       "      <td>0.21</td>\n",
       "    </tr>\n",
       "    <tr>\n",
       "      <th>242</th>\n",
       "      <td>30059561</td>\n",
       "      <td>37.23</td>\n",
       "      <td>39565398</td>\n",
       "      <td>75.97</td>\n",
       "      <td>-0.61</td>\n",
       "    </tr>\n",
       "    <tr>\n",
       "      <th>243</th>\n",
       "      <td>30019741</td>\n",
       "      <td>37.18</td>\n",
       "      <td>39565398</td>\n",
       "      <td>75.87</td>\n",
       "      <td>0.82</td>\n",
       "    </tr>\n",
       "    <tr>\n",
       "      <th>244</th>\n",
       "      <td>29987276</td>\n",
       "      <td>37.14</td>\n",
       "      <td>39565398</td>\n",
       "      <td>75.79</td>\n",
       "      <td>-2.86</td>\n",
       "    </tr>\n",
       "    <tr>\n",
       "      <th>245</th>\n",
       "      <td>30012091</td>\n",
       "      <td>37.17</td>\n",
       "      <td>39565398</td>\n",
       "      <td>75.85</td>\n",
       "      <td>0.21</td>\n",
       "    </tr>\n",
       "  </tbody>\n",
       "</table>\n",
       "<p>246 rows × 5 columns</p>\n",
       "</div>"
      ],
      "text/plain": [
       "     외국인 보유수량  외국인 지분율  외국인 한도수량  외국인 한도소진율   등락률\n",
       "0    33778425    41.83  39565398      85.37  1.11\n",
       "1    33774351    41.83  39565398      85.36  1.10\n",
       "2    33720632    41.76  39565398      85.23  1.45\n",
       "3    33703503    41.74  39565398      85.18 -1.07\n",
       "4    33684160    41.72  39565398      85.14 -0.18\n",
       "..        ...      ...       ...        ...   ...\n",
       "241  30102031    37.28  39565398      76.08  0.21\n",
       "242  30059561    37.23  39565398      75.97 -0.61\n",
       "243  30019741    37.18  39565398      75.87  0.82\n",
       "244  29987276    37.14  39565398      75.79 -2.86\n",
       "245  30012091    37.17  39565398      75.85  0.21\n",
       "\n",
       "[246 rows x 5 columns]"
      ]
     },
     "execution_count": 2,
     "metadata": {},
     "output_type": "execute_result"
    }
   ],
   "source": [
    "sk_df = sk_df[['외국인 보유수량', '외국인 지분율', '외국인 한도수량', '외국인 한도소진율', '등락률']]\n",
    "sk_df"
   ]
  },
  {
   "cell_type": "code",
   "execution_count": 6,
   "id": "34b1ff79",
   "metadata": {
    "ExecuteTime": {
     "end_time": "2022-07-11T02:15:56.713083Z",
     "start_time": "2022-07-11T02:15:56.670197Z"
    }
   },
   "outputs": [
    {
     "data": {
      "text/html": [
       "<div>\n",
       "<style scoped>\n",
       "    .dataframe tbody tr th:only-of-type {\n",
       "        vertical-align: middle;\n",
       "    }\n",
       "\n",
       "    .dataframe tbody tr th {\n",
       "        vertical-align: top;\n",
       "    }\n",
       "\n",
       "    .dataframe thead th {\n",
       "        text-align: right;\n",
       "    }\n",
       "</style>\n",
       "<table border=\"1\" class=\"dataframe\">\n",
       "  <thead>\n",
       "    <tr style=\"text-align: right;\">\n",
       "      <th></th>\n",
       "      <th>일자</th>\n",
       "      <th>종가</th>\n",
       "      <th>대비</th>\n",
       "      <th>등락률</th>\n",
       "      <th>시가</th>\n",
       "      <th>고가</th>\n",
       "      <th>저가</th>\n",
       "      <th>거래량</th>\n",
       "      <th>거래대금</th>\n",
       "      <th>상장시가총액</th>\n",
       "    </tr>\n",
       "  </thead>\n",
       "  <tbody>\n",
       "    <tr>\n",
       "      <th>0</th>\n",
       "      <td>2021/12/30</td>\n",
       "      <td>2977.65</td>\n",
       "      <td>-15.64</td>\n",
       "      <td>-0.52</td>\n",
       "      <td>2999.75</td>\n",
       "      <td>3005.36</td>\n",
       "      <td>2975.74</td>\n",
       "      <td>461038.0</td>\n",
       "      <td>8727458.0</td>\n",
       "      <td>2.203367e+09</td>\n",
       "    </tr>\n",
       "    <tr>\n",
       "      <th>1</th>\n",
       "      <td>2021/12/29</td>\n",
       "      <td>2993.29</td>\n",
       "      <td>-26.95</td>\n",
       "      <td>-0.89</td>\n",
       "      <td>3002.90</td>\n",
       "      <td>3007.72</td>\n",
       "      <td>2988.67</td>\n",
       "      <td>545832.0</td>\n",
       "      <td>10908667.0</td>\n",
       "      <td>2.215463e+09</td>\n",
       "    </tr>\n",
       "    <tr>\n",
       "      <th>2</th>\n",
       "      <td>2021/12/28</td>\n",
       "      <td>3020.24</td>\n",
       "      <td>20.69</td>\n",
       "      <td>0.69</td>\n",
       "      <td>3006.77</td>\n",
       "      <td>3020.29</td>\n",
       "      <td>2991.55</td>\n",
       "      <td>607046.0</td>\n",
       "      <td>12096894.0</td>\n",
       "      <td>2.237624e+09</td>\n",
       "    </tr>\n",
       "    <tr>\n",
       "      <th>3</th>\n",
       "      <td>2021/12/27</td>\n",
       "      <td>2999.55</td>\n",
       "      <td>-12.88</td>\n",
       "      <td>-0.43</td>\n",
       "      <td>3013.94</td>\n",
       "      <td>3017.31</td>\n",
       "      <td>2999.30</td>\n",
       "      <td>475363.0</td>\n",
       "      <td>8280395.0</td>\n",
       "      <td>2.221527e+09</td>\n",
       "    </tr>\n",
       "    <tr>\n",
       "      <th>4</th>\n",
       "      <td>2021/12/24</td>\n",
       "      <td>3012.43</td>\n",
       "      <td>14.26</td>\n",
       "      <td>0.48</td>\n",
       "      <td>3009.48</td>\n",
       "      <td>3025.77</td>\n",
       "      <td>3009.48</td>\n",
       "      <td>537548.0</td>\n",
       "      <td>8583473.0</td>\n",
       "      <td>2.230019e+09</td>\n",
       "    </tr>\n",
       "  </tbody>\n",
       "</table>\n",
       "</div>"
      ],
      "text/plain": [
       "           일자       종가     대비   등락률       시가       고가       저가       거래량  \\\n",
       "0  2021/12/30  2977.65 -15.64 -0.52  2999.75  3005.36  2975.74  461038.0   \n",
       "1  2021/12/29  2993.29 -26.95 -0.89  3002.90  3007.72  2988.67  545832.0   \n",
       "2  2021/12/28  3020.24  20.69  0.69  3006.77  3020.29  2991.55  607046.0   \n",
       "3  2021/12/27  2999.55 -12.88 -0.43  3013.94  3017.31  2999.30  475363.0   \n",
       "4  2021/12/24  3012.43  14.26  0.48  3009.48  3025.77  3009.48  537548.0   \n",
       "\n",
       "         거래대금        상장시가총액  \n",
       "0   8727458.0  2.203367e+09  \n",
       "1  10908667.0  2.215463e+09  \n",
       "2  12096894.0  2.237624e+09  \n",
       "3   8280395.0  2.221527e+09  \n",
       "4   8583473.0  2.230019e+09  "
      ]
     },
     "execution_count": 6,
     "metadata": {},
     "output_type": "execute_result"
    }
   ],
   "source": [
    "kospi_2021 = pd.read_csv('./csv/2021 코스피.csv', encoding='CP949')\n",
    "kospi_2021.head()"
   ]
  },
  {
   "cell_type": "code",
   "execution_count": 7,
   "id": "4e939155",
   "metadata": {
    "ExecuteTime": {
     "end_time": "2022-07-11T02:15:57.648573Z",
     "start_time": "2022-07-11T02:15:57.614667Z"
    }
   },
   "outputs": [
    {
     "data": {
      "text/html": [
       "<div>\n",
       "<style scoped>\n",
       "    .dataframe tbody tr th:only-of-type {\n",
       "        vertical-align: middle;\n",
       "    }\n",
       "\n",
       "    .dataframe tbody tr th {\n",
       "        vertical-align: top;\n",
       "    }\n",
       "\n",
       "    .dataframe thead th {\n",
       "        text-align: right;\n",
       "    }\n",
       "</style>\n",
       "<table border=\"1\" class=\"dataframe\">\n",
       "  <thead>\n",
       "    <tr style=\"text-align: right;\">\n",
       "      <th></th>\n",
       "      <th>일자</th>\n",
       "      <th>종가</th>\n",
       "      <th>대비</th>\n",
       "      <th>등락률</th>\n",
       "      <th>시가</th>\n",
       "      <th>고가</th>\n",
       "      <th>저가</th>\n",
       "      <th>거래량</th>\n",
       "      <th>거래대금</th>\n",
       "      <th>상장시가총액</th>\n",
       "    </tr>\n",
       "  </thead>\n",
       "  <tbody>\n",
       "    <tr>\n",
       "      <th>0</th>\n",
       "      <td>2021/01/04</td>\n",
       "      <td>2944.45</td>\n",
       "      <td>70.98</td>\n",
       "      <td>2.47</td>\n",
       "      <td>2874.50</td>\n",
       "      <td>2946.54</td>\n",
       "      <td>2869.11</td>\n",
       "      <td>1026510.0</td>\n",
       "      <td>25011394.0</td>\n",
       "      <td>2.028846e+09</td>\n",
       "    </tr>\n",
       "    <tr>\n",
       "      <th>1</th>\n",
       "      <td>2021/01/05</td>\n",
       "      <td>2990.57</td>\n",
       "      <td>46.12</td>\n",
       "      <td>1.57</td>\n",
       "      <td>2943.67</td>\n",
       "      <td>2990.57</td>\n",
       "      <td>2921.84</td>\n",
       "      <td>1519912.0</td>\n",
       "      <td>26548380.0</td>\n",
       "      <td>2.059744e+09</td>\n",
       "    </tr>\n",
       "    <tr>\n",
       "      <th>2</th>\n",
       "      <td>2021/01/06</td>\n",
       "      <td>2968.21</td>\n",
       "      <td>-22.36</td>\n",
       "      <td>-0.75</td>\n",
       "      <td>2993.34</td>\n",
       "      <td>3027.16</td>\n",
       "      <td>2961.37</td>\n",
       "      <td>1793419.0</td>\n",
       "      <td>29909396.0</td>\n",
       "      <td>2.044103e+09</td>\n",
       "    </tr>\n",
       "    <tr>\n",
       "      <th>3</th>\n",
       "      <td>2021/01/07</td>\n",
       "      <td>3031.68</td>\n",
       "      <td>63.47</td>\n",
       "      <td>2.14</td>\n",
       "      <td>2980.75</td>\n",
       "      <td>3055.28</td>\n",
       "      <td>2980.75</td>\n",
       "      <td>1524655.0</td>\n",
       "      <td>27182807.0</td>\n",
       "      <td>2.086579e+09</td>\n",
       "    </tr>\n",
       "    <tr>\n",
       "      <th>4</th>\n",
       "      <td>2021/01/08</td>\n",
       "      <td>3152.18</td>\n",
       "      <td>120.50</td>\n",
       "      <td>3.97</td>\n",
       "      <td>3040.11</td>\n",
       "      <td>3161.11</td>\n",
       "      <td>3040.11</td>\n",
       "      <td>1297903.0</td>\n",
       "      <td>40909490.0</td>\n",
       "      <td>2.170538e+09</td>\n",
       "    </tr>\n",
       "    <tr>\n",
       "      <th>...</th>\n",
       "      <td>...</td>\n",
       "      <td>...</td>\n",
       "      <td>...</td>\n",
       "      <td>...</td>\n",
       "      <td>...</td>\n",
       "      <td>...</td>\n",
       "      <td>...</td>\n",
       "      <td>...</td>\n",
       "      <td>...</td>\n",
       "      <td>...</td>\n",
       "    </tr>\n",
       "    <tr>\n",
       "      <th>243</th>\n",
       "      <td>2021/12/24</td>\n",
       "      <td>3012.43</td>\n",
       "      <td>14.26</td>\n",
       "      <td>0.48</td>\n",
       "      <td>3009.48</td>\n",
       "      <td>3025.77</td>\n",
       "      <td>3009.48</td>\n",
       "      <td>537548.0</td>\n",
       "      <td>8583473.0</td>\n",
       "      <td>2.230019e+09</td>\n",
       "    </tr>\n",
       "    <tr>\n",
       "      <th>244</th>\n",
       "      <td>2021/12/27</td>\n",
       "      <td>2999.55</td>\n",
       "      <td>-12.88</td>\n",
       "      <td>-0.43</td>\n",
       "      <td>3013.94</td>\n",
       "      <td>3017.31</td>\n",
       "      <td>2999.30</td>\n",
       "      <td>475363.0</td>\n",
       "      <td>8280395.0</td>\n",
       "      <td>2.221527e+09</td>\n",
       "    </tr>\n",
       "    <tr>\n",
       "      <th>245</th>\n",
       "      <td>2021/12/28</td>\n",
       "      <td>3020.24</td>\n",
       "      <td>20.69</td>\n",
       "      <td>0.69</td>\n",
       "      <td>3006.77</td>\n",
       "      <td>3020.29</td>\n",
       "      <td>2991.55</td>\n",
       "      <td>607046.0</td>\n",
       "      <td>12096894.0</td>\n",
       "      <td>2.237624e+09</td>\n",
       "    </tr>\n",
       "    <tr>\n",
       "      <th>246</th>\n",
       "      <td>2021/12/29</td>\n",
       "      <td>2993.29</td>\n",
       "      <td>-26.95</td>\n",
       "      <td>-0.89</td>\n",
       "      <td>3002.90</td>\n",
       "      <td>3007.72</td>\n",
       "      <td>2988.67</td>\n",
       "      <td>545832.0</td>\n",
       "      <td>10908667.0</td>\n",
       "      <td>2.215463e+09</td>\n",
       "    </tr>\n",
       "    <tr>\n",
       "      <th>247</th>\n",
       "      <td>2021/12/30</td>\n",
       "      <td>2977.65</td>\n",
       "      <td>-15.64</td>\n",
       "      <td>-0.52</td>\n",
       "      <td>2999.75</td>\n",
       "      <td>3005.36</td>\n",
       "      <td>2975.74</td>\n",
       "      <td>461038.0</td>\n",
       "      <td>8727458.0</td>\n",
       "      <td>2.203367e+09</td>\n",
       "    </tr>\n",
       "  </tbody>\n",
       "</table>\n",
       "<p>248 rows × 10 columns</p>\n",
       "</div>"
      ],
      "text/plain": [
       "             일자       종가      대비   등락률       시가       고가       저가        거래량  \\\n",
       "0    2021/01/04  2944.45   70.98  2.47  2874.50  2946.54  2869.11  1026510.0   \n",
       "1    2021/01/05  2990.57   46.12  1.57  2943.67  2990.57  2921.84  1519912.0   \n",
       "2    2021/01/06  2968.21  -22.36 -0.75  2993.34  3027.16  2961.37  1793419.0   \n",
       "3    2021/01/07  3031.68   63.47  2.14  2980.75  3055.28  2980.75  1524655.0   \n",
       "4    2021/01/08  3152.18  120.50  3.97  3040.11  3161.11  3040.11  1297903.0   \n",
       "..          ...      ...     ...   ...      ...      ...      ...        ...   \n",
       "243  2021/12/24  3012.43   14.26  0.48  3009.48  3025.77  3009.48   537548.0   \n",
       "244  2021/12/27  2999.55  -12.88 -0.43  3013.94  3017.31  2999.30   475363.0   \n",
       "245  2021/12/28  3020.24   20.69  0.69  3006.77  3020.29  2991.55   607046.0   \n",
       "246  2021/12/29  2993.29  -26.95 -0.89  3002.90  3007.72  2988.67   545832.0   \n",
       "247  2021/12/30  2977.65  -15.64 -0.52  2999.75  3005.36  2975.74   461038.0   \n",
       "\n",
       "           거래대금        상장시가총액  \n",
       "0    25011394.0  2.028846e+09  \n",
       "1    26548380.0  2.059744e+09  \n",
       "2    29909396.0  2.044103e+09  \n",
       "3    27182807.0  2.086579e+09  \n",
       "4    40909490.0  2.170538e+09  \n",
       "..          ...           ...  \n",
       "243   8583473.0  2.230019e+09  \n",
       "244   8280395.0  2.221527e+09  \n",
       "245  12096894.0  2.237624e+09  \n",
       "246  10908667.0  2.215463e+09  \n",
       "247   8727458.0  2.203367e+09  \n",
       "\n",
       "[248 rows x 10 columns]"
      ]
     },
     "execution_count": 7,
     "metadata": {},
     "output_type": "execute_result"
    }
   ],
   "source": [
    "kospi_2021 = kospi_2021.sort_values(by='일자', ascending=True)\n",
    "kospi_2021.reset_index(drop=True, inplace=True)\n",
    "kospi_2021"
   ]
  },
  {
   "cell_type": "code",
   "execution_count": 216,
   "id": "f68f5321",
   "metadata": {
    "ExecuteTime": {
     "end_time": "2022-07-10T06:47:42.565172Z",
     "start_time": "2022-07-10T06:47:42.550213Z"
    },
    "code_folding": [
     0
    ]
   },
   "outputs": [],
   "source": [
    "# kospi_sk = pd.DataFrame()\n",
    "\n",
    "# kospi_sk[\"날짜\"] = \"\"\n",
    "# kospi_sk[\"날짜\"] = kospi_2019[\"일자\"]\n",
    "\n",
    "# kospi_sk[\"코스피 등락률\"] = kospi_2019[\"등락률\"]\n",
    "\n",
    "# kospi_sk[\"날짜\"] = kospi_sk[\"날짜\"].str.replace(\"/\",\"\")\n",
    "# kospi_sk[\"날짜\"] = kospi_sk[\"날짜\"].astype(int)\n",
    "\n",
    "\n",
    "# kospi_sk[\"날짜\"] = pd.to_datetime(kospi_sk[\"날짜\"], format='%Y%m%d')\n",
    "# kospi_sk = kospi_sk.sort_values(by='날짜', ascending=True)\n",
    "# kospi_sk.reset_index(drop=True, inplace=True)\n",
    "# kospi_sk.head()"
   ]
  },
  {
   "cell_type": "code",
   "execution_count": 8,
   "id": "6aa5c4be",
   "metadata": {
    "ExecuteTime": {
     "end_time": "2022-07-11T02:16:01.056966Z",
     "start_time": "2022-07-11T02:16:01.018073Z"
    },
    "scrolled": true
   },
   "outputs": [
    {
     "data": {
      "text/html": [
       "<div>\n",
       "<style scoped>\n",
       "    .dataframe tbody tr th:only-of-type {\n",
       "        vertical-align: middle;\n",
       "    }\n",
       "\n",
       "    .dataframe tbody tr th {\n",
       "        vertical-align: top;\n",
       "    }\n",
       "\n",
       "    .dataframe thead th {\n",
       "        text-align: right;\n",
       "    }\n",
       "</style>\n",
       "<table border=\"1\" class=\"dataframe\">\n",
       "  <thead>\n",
       "    <tr style=\"text-align: right;\">\n",
       "      <th></th>\n",
       "      <th>외국인 보유수량</th>\n",
       "      <th>외국인 지분율</th>\n",
       "      <th>외국인 한도수량</th>\n",
       "      <th>외국인 한도소진율</th>\n",
       "      <th>등락률</th>\n",
       "      <th>코스피 등락률</th>\n",
       "    </tr>\n",
       "    <tr>\n",
       "      <th>날짜</th>\n",
       "      <th></th>\n",
       "      <th></th>\n",
       "      <th></th>\n",
       "      <th></th>\n",
       "      <th></th>\n",
       "      <th></th>\n",
       "    </tr>\n",
       "  </thead>\n",
       "  <tbody>\n",
       "    <tr>\n",
       "      <th>2021/01/04</th>\n",
       "      <td>33778425</td>\n",
       "      <td>41.83</td>\n",
       "      <td>39565398</td>\n",
       "      <td>85.37</td>\n",
       "      <td>1.11</td>\n",
       "      <td>2.47</td>\n",
       "    </tr>\n",
       "    <tr>\n",
       "      <th>2021/01/05</th>\n",
       "      <td>33774351</td>\n",
       "      <td>41.83</td>\n",
       "      <td>39565398</td>\n",
       "      <td>85.36</td>\n",
       "      <td>1.10</td>\n",
       "      <td>1.57</td>\n",
       "    </tr>\n",
       "    <tr>\n",
       "      <th>2021/01/06</th>\n",
       "      <td>33720632</td>\n",
       "      <td>41.76</td>\n",
       "      <td>39565398</td>\n",
       "      <td>85.23</td>\n",
       "      <td>1.45</td>\n",
       "      <td>-0.75</td>\n",
       "    </tr>\n",
       "    <tr>\n",
       "      <th>2021/01/07</th>\n",
       "      <td>33703503</td>\n",
       "      <td>41.74</td>\n",
       "      <td>39565398</td>\n",
       "      <td>85.18</td>\n",
       "      <td>-1.07</td>\n",
       "      <td>2.14</td>\n",
       "    </tr>\n",
       "    <tr>\n",
       "      <th>2021/01/08</th>\n",
       "      <td>33684160</td>\n",
       "      <td>41.72</td>\n",
       "      <td>39565398</td>\n",
       "      <td>85.14</td>\n",
       "      <td>-0.18</td>\n",
       "      <td>3.97</td>\n",
       "    </tr>\n",
       "  </tbody>\n",
       "</table>\n",
       "</div>"
      ],
      "text/plain": [
       "            외국인 보유수량  외국인 지분율  외국인 한도수량  외국인 한도소진율   등락률  코스피 등락률\n",
       "날짜                                                               \n",
       "2021/01/04  33778425    41.83  39565398      85.37  1.11     2.47\n",
       "2021/01/05  33774351    41.83  39565398      85.36  1.10     1.57\n",
       "2021/01/06  33720632    41.76  39565398      85.23  1.45    -0.75\n",
       "2021/01/07  33703503    41.74  39565398      85.18 -1.07     2.14\n",
       "2021/01/08  33684160    41.72  39565398      85.14 -0.18     3.97"
      ]
     },
     "execution_count": 8,
     "metadata": {},
     "output_type": "execute_result"
    }
   ],
   "source": [
    "sk_df[\"코스피 등락률\"] = kospi_2021[\"등락률\"]\n",
    "\n",
    "sk_df[\"날짜\"] = kospi_2021[\"일자\"]\n",
    "sk_df = sk_df.set_index('날짜')\n",
    "\n",
    "sk_df.head()"
   ]
  },
  {
   "cell_type": "code",
   "execution_count": 9,
   "id": "e8686bb1",
   "metadata": {
    "ExecuteTime": {
     "end_time": "2022-07-11T02:16:05.751582Z",
     "start_time": "2022-07-11T02:16:05.734591Z"
    }
   },
   "outputs": [],
   "source": [
    "sk_df.to_csv('./csv/2021_SK텔레콤_코스피등락률.csv', encoding='CP949')"
   ]
  },
  {
   "cell_type": "code",
   "execution_count": 10,
   "id": "33384914",
   "metadata": {
    "ExecuteTime": {
     "end_time": "2022-07-11T02:16:07.405109Z",
     "start_time": "2022-07-11T02:16:07.393141Z"
    }
   },
   "outputs": [],
   "source": [
    "sk_df['변동성'] = (sk_df['코스피 등락률'] * sk_df['등락률']) > 0 & (abs(sk_df['코스피 등락률']) - abs(sk_df['등락률'])<0)"
   ]
  },
  {
   "cell_type": "code",
   "execution_count": 11,
   "id": "bc41d7d4",
   "metadata": {
    "ExecuteTime": {
     "end_time": "2022-07-11T02:16:07.972590Z",
     "start_time": "2022-07-11T02:16:07.958624Z"
    }
   },
   "outputs": [],
   "source": [
    "sk_df['변동성'] = sk_df['변동성'].apply(lambda x : 1 if x==True else 0 )"
   ]
  },
  {
   "cell_type": "code",
   "execution_count": 12,
   "id": "cc523011",
   "metadata": {
    "ExecuteTime": {
     "end_time": "2022-07-11T02:16:09.670672Z",
     "start_time": "2022-07-11T02:16:09.650726Z"
    }
   },
   "outputs": [
    {
     "data": {
      "text/html": [
       "<div>\n",
       "<style scoped>\n",
       "    .dataframe tbody tr th:only-of-type {\n",
       "        vertical-align: middle;\n",
       "    }\n",
       "\n",
       "    .dataframe tbody tr th {\n",
       "        vertical-align: top;\n",
       "    }\n",
       "\n",
       "    .dataframe thead th {\n",
       "        text-align: right;\n",
       "    }\n",
       "</style>\n",
       "<table border=\"1\" class=\"dataframe\">\n",
       "  <thead>\n",
       "    <tr style=\"text-align: right;\">\n",
       "      <th></th>\n",
       "      <th>외국인 보유수량</th>\n",
       "      <th>외국인 지분율</th>\n",
       "      <th>외국인 한도수량</th>\n",
       "      <th>외국인 한도소진율</th>\n",
       "      <th>등락률</th>\n",
       "      <th>코스피 등락률</th>\n",
       "      <th>변동성</th>\n",
       "    </tr>\n",
       "    <tr>\n",
       "      <th>날짜</th>\n",
       "      <th></th>\n",
       "      <th></th>\n",
       "      <th></th>\n",
       "      <th></th>\n",
       "      <th></th>\n",
       "      <th></th>\n",
       "      <th></th>\n",
       "    </tr>\n",
       "  </thead>\n",
       "  <tbody>\n",
       "    <tr>\n",
       "      <th>2021/01/04</th>\n",
       "      <td>33778425</td>\n",
       "      <td>41.83</td>\n",
       "      <td>39565398</td>\n",
       "      <td>85.37</td>\n",
       "      <td>1.11</td>\n",
       "      <td>2.47</td>\n",
       "      <td>1</td>\n",
       "    </tr>\n",
       "    <tr>\n",
       "      <th>2021/01/05</th>\n",
       "      <td>33774351</td>\n",
       "      <td>41.83</td>\n",
       "      <td>39565398</td>\n",
       "      <td>85.36</td>\n",
       "      <td>1.10</td>\n",
       "      <td>1.57</td>\n",
       "      <td>1</td>\n",
       "    </tr>\n",
       "    <tr>\n",
       "      <th>2021/01/06</th>\n",
       "      <td>33720632</td>\n",
       "      <td>41.76</td>\n",
       "      <td>39565398</td>\n",
       "      <td>85.23</td>\n",
       "      <td>1.45</td>\n",
       "      <td>-0.75</td>\n",
       "      <td>0</td>\n",
       "    </tr>\n",
       "    <tr>\n",
       "      <th>2021/01/07</th>\n",
       "      <td>33703503</td>\n",
       "      <td>41.74</td>\n",
       "      <td>39565398</td>\n",
       "      <td>85.18</td>\n",
       "      <td>-1.07</td>\n",
       "      <td>2.14</td>\n",
       "      <td>0</td>\n",
       "    </tr>\n",
       "    <tr>\n",
       "      <th>2021/01/08</th>\n",
       "      <td>33684160</td>\n",
       "      <td>41.72</td>\n",
       "      <td>39565398</td>\n",
       "      <td>85.14</td>\n",
       "      <td>-0.18</td>\n",
       "      <td>3.97</td>\n",
       "      <td>0</td>\n",
       "    </tr>\n",
       "  </tbody>\n",
       "</table>\n",
       "</div>"
      ],
      "text/plain": [
       "            외국인 보유수량  외국인 지분율  외국인 한도수량  외국인 한도소진율   등락률  코스피 등락률  변동성\n",
       "날짜                                                                    \n",
       "2021/01/04  33778425    41.83  39565398      85.37  1.11     2.47    1\n",
       "2021/01/05  33774351    41.83  39565398      85.36  1.10     1.57    1\n",
       "2021/01/06  33720632    41.76  39565398      85.23  1.45    -0.75    0\n",
       "2021/01/07  33703503    41.74  39565398      85.18 -1.07     2.14    0\n",
       "2021/01/08  33684160    41.72  39565398      85.14 -0.18     3.97    0"
      ]
     },
     "execution_count": 12,
     "metadata": {},
     "output_type": "execute_result"
    }
   ],
   "source": [
    "sk_df.head()"
   ]
  },
  {
   "cell_type": "code",
   "execution_count": 12,
   "id": "a47d54a0",
   "metadata": {
    "ExecuteTime": {
     "end_time": "2022-07-11T00:16:33.165654Z",
     "start_time": "2022-07-11T00:16:25.202653Z"
    }
   },
   "outputs": [],
   "source": [
    "from sklearn.linear_model import LogisticRegression"
   ]
  },
  {
   "cell_type": "code",
   "execution_count": 13,
   "id": "23473fcd",
   "metadata": {
    "ExecuteTime": {
     "end_time": "2022-07-11T00:16:33.197566Z",
     "start_time": "2022-07-11T00:16:33.170642Z"
    }
   },
   "outputs": [
    {
     "data": {
      "text/plain": [
       "외국인 보유수량     0\n",
       "외국인 지분율      0\n",
       "외국인 한도수량     0\n",
       "외국인 한도소진율    0\n",
       "등락률          0\n",
       "코스피 등락률      0\n",
       "변동성          0\n",
       "dtype: int64"
      ]
     },
     "execution_count": 13,
     "metadata": {},
     "output_type": "execute_result"
    }
   ],
   "source": [
    "sk_df.isna().sum()"
   ]
  },
  {
   "cell_type": "code",
   "execution_count": 14,
   "id": "40dcbe57",
   "metadata": {
    "ExecuteTime": {
     "end_time": "2022-07-11T00:16:33.228483Z",
     "start_time": "2022-07-11T00:16:33.203550Z"
    }
   },
   "outputs": [],
   "source": [
    "features = sk_df[[\"등락률\", \"코스피 등락률\"]]\n",
    "label = sk_df[[\"변동성\"]]"
   ]
  },
  {
   "cell_type": "code",
   "execution_count": 15,
   "id": "d679cb1d",
   "metadata": {
    "ExecuteTime": {
     "end_time": "2022-07-11T00:16:33.260393Z",
     "start_time": "2022-07-11T00:16:33.238453Z"
    }
   },
   "outputs": [],
   "source": [
    "from sklearn.model_selection import train_test_split\n",
    "\n",
    "X_train, X_test, y_train, y_test = train_test_split(features, label, \n",
    "                                                   test_size = 0.2, random_state=11)"
   ]
  },
  {
   "cell_type": "code",
   "execution_count": 16,
   "id": "a99f3838",
   "metadata": {
    "ExecuteTime": {
     "end_time": "2022-07-11T00:16:36.514405Z",
     "start_time": "2022-07-11T00:16:36.485485Z"
    }
   },
   "outputs": [],
   "source": [
    "from sklearn.preprocessing import StandardScaler\n",
    "\n",
    "sscaler = StandardScaler()\n",
    "\n",
    "X_train = sscaler.fit_transform(X_train)\n",
    "X_test = sscaler.fit_transform(X_test)"
   ]
  },
  {
   "cell_type": "code",
   "execution_count": 17,
   "id": "ed248b07",
   "metadata": {
    "ExecuteTime": {
     "end_time": "2022-07-11T00:16:37.527605Z",
     "start_time": "2022-07-11T00:16:37.457798Z"
    }
   },
   "outputs": [
    {
     "name": "stderr",
     "output_type": "stream",
     "text": [
      "C:\\Users\\wndgj\\AppData\\Local\\Programs\\Python\\Python310\\lib\\site-packages\\sklearn\\utils\\validation.py:1111: DataConversionWarning: A column-vector y was passed when a 1d array was expected. Please change the shape of y to (n_samples, ), for example using ravel().\n",
      "  y = column_or_1d(y, warn=True)\n"
     ]
    },
    {
     "data": {
      "text/html": [
       "<style>#sk-container-id-1 {color: black;background-color: white;}#sk-container-id-1 pre{padding: 0;}#sk-container-id-1 div.sk-toggleable {background-color: white;}#sk-container-id-1 label.sk-toggleable__label {cursor: pointer;display: block;width: 100%;margin-bottom: 0;padding: 0.3em;box-sizing: border-box;text-align: center;}#sk-container-id-1 label.sk-toggleable__label-arrow:before {content: \"▸\";float: left;margin-right: 0.25em;color: #696969;}#sk-container-id-1 label.sk-toggleable__label-arrow:hover:before {color: black;}#sk-container-id-1 div.sk-estimator:hover label.sk-toggleable__label-arrow:before {color: black;}#sk-container-id-1 div.sk-toggleable__content {max-height: 0;max-width: 0;overflow: hidden;text-align: left;background-color: #f0f8ff;}#sk-container-id-1 div.sk-toggleable__content pre {margin: 0.2em;color: black;border-radius: 0.25em;background-color: #f0f8ff;}#sk-container-id-1 input.sk-toggleable__control:checked~div.sk-toggleable__content {max-height: 200px;max-width: 100%;overflow: auto;}#sk-container-id-1 input.sk-toggleable__control:checked~label.sk-toggleable__label-arrow:before {content: \"▾\";}#sk-container-id-1 div.sk-estimator input.sk-toggleable__control:checked~label.sk-toggleable__label {background-color: #d4ebff;}#sk-container-id-1 div.sk-label input.sk-toggleable__control:checked~label.sk-toggleable__label {background-color: #d4ebff;}#sk-container-id-1 input.sk-hidden--visually {border: 0;clip: rect(1px 1px 1px 1px);clip: rect(1px, 1px, 1px, 1px);height: 1px;margin: -1px;overflow: hidden;padding: 0;position: absolute;width: 1px;}#sk-container-id-1 div.sk-estimator {font-family: monospace;background-color: #f0f8ff;border: 1px dotted black;border-radius: 0.25em;box-sizing: border-box;margin-bottom: 0.5em;}#sk-container-id-1 div.sk-estimator:hover {background-color: #d4ebff;}#sk-container-id-1 div.sk-parallel-item::after {content: \"\";width: 100%;border-bottom: 1px solid gray;flex-grow: 1;}#sk-container-id-1 div.sk-label:hover label.sk-toggleable__label {background-color: #d4ebff;}#sk-container-id-1 div.sk-serial::before {content: \"\";position: absolute;border-left: 1px solid gray;box-sizing: border-box;top: 0;bottom: 0;left: 50%;z-index: 0;}#sk-container-id-1 div.sk-serial {display: flex;flex-direction: column;align-items: center;background-color: white;padding-right: 0.2em;padding-left: 0.2em;position: relative;}#sk-container-id-1 div.sk-item {position: relative;z-index: 1;}#sk-container-id-1 div.sk-parallel {display: flex;align-items: stretch;justify-content: center;background-color: white;position: relative;}#sk-container-id-1 div.sk-item::before, #sk-container-id-1 div.sk-parallel-item::before {content: \"\";position: absolute;border-left: 1px solid gray;box-sizing: border-box;top: 0;bottom: 0;left: 50%;z-index: -1;}#sk-container-id-1 div.sk-parallel-item {display: flex;flex-direction: column;z-index: 1;position: relative;background-color: white;}#sk-container-id-1 div.sk-parallel-item:first-child::after {align-self: flex-end;width: 50%;}#sk-container-id-1 div.sk-parallel-item:last-child::after {align-self: flex-start;width: 50%;}#sk-container-id-1 div.sk-parallel-item:only-child::after {width: 0;}#sk-container-id-1 div.sk-dashed-wrapped {border: 1px dashed gray;margin: 0 0.4em 0.5em 0.4em;box-sizing: border-box;padding-bottom: 0.4em;background-color: white;}#sk-container-id-1 div.sk-label label {font-family: monospace;font-weight: bold;display: inline-block;line-height: 1.2em;}#sk-container-id-1 div.sk-label-container {text-align: center;}#sk-container-id-1 div.sk-container {/* jupyter's `normalize.less` sets `[hidden] { display: none; }` but bootstrap.min.css set `[hidden] { display: none !important; }` so we also need the `!important` here to be able to override the default hidden behavior on the sphinx rendered scikit-learn.org. See: https://github.com/scikit-learn/scikit-learn/issues/21755 */display: inline-block !important;position: relative;}#sk-container-id-1 div.sk-text-repr-fallback {display: none;}</style><div id=\"sk-container-id-1\" class=\"sk-top-container\"><div class=\"sk-text-repr-fallback\"><pre>LogisticRegression()</pre><b>In a Jupyter environment, please rerun this cell to show the HTML representation or trust the notebook. <br />On GitHub, the HTML representation is unable to render, please try loading this page with nbviewer.org.</b></div><div class=\"sk-container\" hidden><div class=\"sk-item\"><div class=\"sk-estimator sk-toggleable\"><input class=\"sk-toggleable__control sk-hidden--visually\" id=\"sk-estimator-id-1\" type=\"checkbox\" checked><label for=\"sk-estimator-id-1\" class=\"sk-toggleable__label sk-toggleable__label-arrow\">LogisticRegression</label><div class=\"sk-toggleable__content\"><pre>LogisticRegression()</pre></div></div></div></div></div>"
      ],
      "text/plain": [
       "LogisticRegression()"
      ]
     },
     "execution_count": 17,
     "metadata": {},
     "output_type": "execute_result"
    }
   ],
   "source": [
    "model = LogisticRegression()\n",
    "model.fit(X_train, y_train)"
   ]
  },
  {
   "cell_type": "code",
   "execution_count": 18,
   "id": "c1c7c4c8",
   "metadata": {
    "ExecuteTime": {
     "end_time": "2022-07-11T00:16:39.480212Z",
     "start_time": "2022-07-11T00:16:39.462261Z"
    }
   },
   "outputs": [
    {
     "data": {
      "text/plain": [
       "0.6212121212121212"
      ]
     },
     "execution_count": 18,
     "metadata": {},
     "output_type": "execute_result"
    }
   ],
   "source": [
    "model.score(X_train,y_train)"
   ]
  },
  {
   "cell_type": "code",
   "execution_count": 19,
   "id": "2df31fe0",
   "metadata": {
    "ExecuteTime": {
     "end_time": "2022-07-11T00:16:40.206205Z",
     "start_time": "2022-07-11T00:16:40.181276Z"
    }
   },
   "outputs": [
    {
     "data": {
      "text/plain": [
       "0.6"
      ]
     },
     "execution_count": 19,
     "metadata": {},
     "output_type": "execute_result"
    }
   ],
   "source": [
    "model.score(X_test, y_test)"
   ]
  },
  {
   "cell_type": "code",
   "execution_count": 20,
   "id": "fd6bae72",
   "metadata": {
    "ExecuteTime": {
     "end_time": "2022-07-11T00:16:41.637255Z",
     "start_time": "2022-07-11T00:16:41.621298Z"
    }
   },
   "outputs": [
    {
     "data": {
      "text/plain": [
       "array([[ 0.40229404, -0.37927213]])"
      ]
     },
     "execution_count": 20,
     "metadata": {},
     "output_type": "execute_result"
    }
   ],
   "source": [
    "model.coef_"
   ]
  },
  {
   "cell_type": "code",
   "execution_count": null,
   "id": "d5c09c52",
   "metadata": {},
   "outputs": [],
   "source": []
  },
  {
   "cell_type": "code",
   "execution_count": 243,
   "id": "f33052ed",
   "metadata": {
    "ExecuteTime": {
     "end_time": "2022-07-10T07:23:42.700392Z",
     "start_time": "2022-07-10T07:23:42.370722Z"
    }
   },
   "outputs": [
    {
     "data": {
      "image/png": "[encoded data removed]",
      "text/plain": [
       "<Figure size 432x288 with 1 Axes>"
      ]
     },
     "metadata": {
      "needs_background": "light"
     },
     "output_type": "display_data"
    }
   ],
   "source": [
    "import matplotlib.pyplot as plt\n",
    "from matplotlib import font_manager, rc\n",
    "font_path = \"C:/Windows/Fonts/H2GTRM.TTF\"\n",
    "font = font_manager.FontProperties(fname= font_path).get_name()\n",
    "rc('font', family=font)\n",
    "\n",
    "X = sk_df[[\"외국인 보유수량\"]]\n",
    "y = sk_df[\"변동성\"]\n",
    "plt.plot(X, y, 'o')\n",
    "plt.show()"
   ]
  },
  {
   "cell_type": "code",
   "execution_count": null,
   "id": "3a10621c",
   "metadata": {},
   "outputs": [],
   "source": []
  }
 ],
 "metadata": {
  "kernelspec": {
   "display_name": "Python 3 (ipykernel)",
   "language": "python",
   "name": "python3"
  },
  "language_info": {
   "codemirror_mode": {
    "name": "ipython",
    "version": 3
   },
   "file_extension": ".py",
   "mimetype": "text/x-python",
   "name": "python",
   "nbconvert_exporter": "python",
   "pygments_lexer": "ipython3",
   "version": "3.10.1"
  },
  "toc": {
   "base_numbering": 1,
   "nav_menu": {},
   "number_sections": true,
   "sideBar": true,
   "skip_h1_title": false,
   "title_cell": "Table of Contents",
   "title_sidebar": "Contents",
   "toc_cell": false,
   "toc_position": {},
   "toc_section_display": true,
   "toc_window_display": false
  }
 },
 "nbformat": 4,
 "nbformat_minor": 5
}
