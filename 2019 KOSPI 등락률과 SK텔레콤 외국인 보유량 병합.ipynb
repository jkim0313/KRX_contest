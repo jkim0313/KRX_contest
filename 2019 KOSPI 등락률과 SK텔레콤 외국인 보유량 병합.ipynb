{
 "cells": [
  {
   "cell_type": "code",
   "execution_count": 152,
   "id": "35c08a09",
   "metadata": {
    "ExecuteTime": {
     "end_time": "2022-07-11T10:13:11.147435Z",
     "start_time": "2022-07-11T10:13:11.102555Z"
    },
    "collapsed": true
   },
   "outputs": [
    {
     "data": {
      "text/html": [
       "<div>\n",
       "<style scoped>\n",
       "    .dataframe tbody tr th:only-of-type {\n",
       "        vertical-align: middle;\n",
       "    }\n",
       "\n",
       "    .dataframe tbody tr th {\n",
       "        vertical-align: top;\n",
       "    }\n",
       "\n",
       "    .dataframe thead th {\n",
       "        text-align: right;\n",
       "    }\n",
       "</style>\n",
       "<table border=\"1\" class=\"dataframe\">\n",
       "  <thead>\n",
       "    <tr style=\"text-align: right;\">\n",
       "      <th></th>\n",
       "      <th>종목명</th>\n",
       "      <th>등락률</th>\n",
       "      <th>외국인 보유수량</th>\n",
       "      <th>외국인 지분율</th>\n",
       "      <th>외국인 한도수량</th>\n",
       "      <th>외국인 한도소진율</th>\n",
       "    </tr>\n",
       "  </thead>\n",
       "  <tbody>\n",
       "    <tr>\n",
       "      <th>0</th>\n",
       "      <td>동양생명</td>\n",
       "      <td>0.45</td>\n",
       "      <td>133079644</td>\n",
       "      <td>82.47</td>\n",
       "      <td>161358585</td>\n",
       "      <td>82.47</td>\n",
       "    </tr>\n",
       "    <tr>\n",
       "      <th>1</th>\n",
       "      <td>동양생명</td>\n",
       "      <td>0.75</td>\n",
       "      <td>133066139</td>\n",
       "      <td>82.47</td>\n",
       "      <td>161358585</td>\n",
       "      <td>82.47</td>\n",
       "    </tr>\n",
       "    <tr>\n",
       "      <th>2</th>\n",
       "      <td>동양생명</td>\n",
       "      <td>1.65</td>\n",
       "      <td>133078414</td>\n",
       "      <td>82.47</td>\n",
       "      <td>161358585</td>\n",
       "      <td>82.47</td>\n",
       "    </tr>\n",
       "    <tr>\n",
       "      <th>3</th>\n",
       "      <td>동양생명</td>\n",
       "      <td>-2.65</td>\n",
       "      <td>133186983</td>\n",
       "      <td>82.54</td>\n",
       "      <td>161358585</td>\n",
       "      <td>82.54</td>\n",
       "    </tr>\n",
       "    <tr>\n",
       "      <th>4</th>\n",
       "      <td>동양생명</td>\n",
       "      <td>0.45</td>\n",
       "      <td>133184896</td>\n",
       "      <td>82.54</td>\n",
       "      <td>161358585</td>\n",
       "      <td>82.54</td>\n",
       "    </tr>\n",
       "  </tbody>\n",
       "</table>\n",
       "</div>"
      ],
      "text/plain": [
       "    종목명   등락률   외국인 보유수량  외국인 지분율   외국인 한도수량  외국인 한도소진율\n",
       "0  동양생명  0.45  133079644    82.47  161358585      82.47\n",
       "1  동양생명  0.75  133066139    82.47  161358585      82.47\n",
       "2  동양생명  1.65  133078414    82.47  161358585      82.47\n",
       "3  동양생명 -2.65  133186983    82.54  161358585      82.54\n",
       "4  동양생명  0.45  133184896    82.54  161358585      82.54"
      ]
     },
     "execution_count": 152,
     "metadata": {},
     "output_type": "execute_result"
    }
   ],
   "source": [
    "import pandas as pd\n",
    "\n",
    "sk_df = pd.read_csv('./csv/2022_동양생명_외국인.csv', encoding='CP949')\n",
    "sk_df.drop(['Unnamed: 0'], axis=1, inplace=True)\n",
    "\n",
    "sk_df.head()"
   ]
  },
  {
   "cell_type": "code",
   "execution_count": 153,
   "id": "9aead569",
   "metadata": {
    "ExecuteTime": {
     "end_time": "2022-07-11T10:13:12.514068Z",
     "start_time": "2022-07-11T10:13:12.477170Z"
    },
    "collapsed": true
   },
   "outputs": [
    {
     "data": {
      "text/html": [
       "<div>\n",
       "<style scoped>\n",
       "    .dataframe tbody tr th:only-of-type {\n",
       "        vertical-align: middle;\n",
       "    }\n",
       "\n",
       "    .dataframe tbody tr th {\n",
       "        vertical-align: top;\n",
       "    }\n",
       "\n",
       "    .dataframe thead th {\n",
       "        text-align: right;\n",
       "    }\n",
       "</style>\n",
       "<table border=\"1\" class=\"dataframe\">\n",
       "  <thead>\n",
       "    <tr style=\"text-align: right;\">\n",
       "      <th></th>\n",
       "      <th>외국인 보유수량</th>\n",
       "      <th>외국인 지분율</th>\n",
       "      <th>외국인 한도수량</th>\n",
       "      <th>외국인 한도소진율</th>\n",
       "      <th>등락률</th>\n",
       "    </tr>\n",
       "  </thead>\n",
       "  <tbody>\n",
       "    <tr>\n",
       "      <th>0</th>\n",
       "      <td>133079644</td>\n",
       "      <td>82.47</td>\n",
       "      <td>161358585</td>\n",
       "      <td>82.47</td>\n",
       "      <td>0.45</td>\n",
       "    </tr>\n",
       "    <tr>\n",
       "      <th>1</th>\n",
       "      <td>133066139</td>\n",
       "      <td>82.47</td>\n",
       "      <td>161358585</td>\n",
       "      <td>82.47</td>\n",
       "      <td>0.75</td>\n",
       "    </tr>\n",
       "    <tr>\n",
       "      <th>2</th>\n",
       "      <td>133078414</td>\n",
       "      <td>82.47</td>\n",
       "      <td>161358585</td>\n",
       "      <td>82.47</td>\n",
       "      <td>1.65</td>\n",
       "    </tr>\n",
       "    <tr>\n",
       "      <th>3</th>\n",
       "      <td>133186983</td>\n",
       "      <td>82.54</td>\n",
       "      <td>161358585</td>\n",
       "      <td>82.54</td>\n",
       "      <td>-2.65</td>\n",
       "    </tr>\n",
       "    <tr>\n",
       "      <th>4</th>\n",
       "      <td>133184896</td>\n",
       "      <td>82.54</td>\n",
       "      <td>161358585</td>\n",
       "      <td>82.54</td>\n",
       "      <td>0.45</td>\n",
       "    </tr>\n",
       "    <tr>\n",
       "      <th>...</th>\n",
       "      <td>...</td>\n",
       "      <td>...</td>\n",
       "      <td>...</td>\n",
       "      <td>...</td>\n",
       "      <td>...</td>\n",
       "    </tr>\n",
       "    <tr>\n",
       "      <th>122</th>\n",
       "      <td>132670075</td>\n",
       "      <td>82.22</td>\n",
       "      <td>161358585</td>\n",
       "      <td>82.22</td>\n",
       "      <td>0.71</td>\n",
       "    </tr>\n",
       "    <tr>\n",
       "      <th>123</th>\n",
       "      <td>132669123</td>\n",
       "      <td>82.22</td>\n",
       "      <td>161358585</td>\n",
       "      <td>82.22</td>\n",
       "      <td>0.53</td>\n",
       "    </tr>\n",
       "    <tr>\n",
       "      <th>124</th>\n",
       "      <td>132686778</td>\n",
       "      <td>82.23</td>\n",
       "      <td>161358585</td>\n",
       "      <td>82.23</td>\n",
       "      <td>-0.70</td>\n",
       "    </tr>\n",
       "    <tr>\n",
       "      <th>125</th>\n",
       "      <td>132706043</td>\n",
       "      <td>82.24</td>\n",
       "      <td>161358585</td>\n",
       "      <td>82.24</td>\n",
       "      <td>-1.06</td>\n",
       "    </tr>\n",
       "    <tr>\n",
       "      <th>126</th>\n",
       "      <td>132696576</td>\n",
       "      <td>82.24</td>\n",
       "      <td>161358585</td>\n",
       "      <td>82.24</td>\n",
       "      <td>-0.36</td>\n",
       "    </tr>\n",
       "  </tbody>\n",
       "</table>\n",
       "<p>127 rows × 5 columns</p>\n",
       "</div>"
      ],
      "text/plain": [
       "      외국인 보유수량  외국인 지분율   외국인 한도수량  외국인 한도소진율   등락률\n",
       "0    133079644    82.47  161358585      82.47  0.45\n",
       "1    133066139    82.47  161358585      82.47  0.75\n",
       "2    133078414    82.47  161358585      82.47  1.65\n",
       "3    133186983    82.54  161358585      82.54 -2.65\n",
       "4    133184896    82.54  161358585      82.54  0.45\n",
       "..         ...      ...        ...        ...   ...\n",
       "122  132670075    82.22  161358585      82.22  0.71\n",
       "123  132669123    82.22  161358585      82.22  0.53\n",
       "124  132686778    82.23  161358585      82.23 -0.70\n",
       "125  132706043    82.24  161358585      82.24 -1.06\n",
       "126  132696576    82.24  161358585      82.24 -0.36\n",
       "\n",
       "[127 rows x 5 columns]"
      ]
     },
     "execution_count": 153,
     "metadata": {},
     "output_type": "execute_result"
    }
   ],
   "source": [
    "sk_df = sk_df[['외국인 지분율', '외국인 한도소진율', '등락률']]\n",
    "sk_df"
   ]
  },
  {
   "cell_type": "code",
   "execution_count": 154,
   "id": "34b1ff79",
   "metadata": {
    "ExecuteTime": {
     "end_time": "2022-07-11T10:13:16.048877Z",
     "start_time": "2022-07-11T10:13:15.985050Z"
    },
    "collapsed": true
   },
   "outputs": [
    {
     "data": {
      "text/html": [
       "<div>\n",
       "<style scoped>\n",
       "    .dataframe tbody tr th:only-of-type {\n",
       "        vertical-align: middle;\n",
       "    }\n",
       "\n",
       "    .dataframe tbody tr th {\n",
       "        vertical-align: top;\n",
       "    }\n",
       "\n",
       "    .dataframe thead th {\n",
       "        text-align: right;\n",
       "    }\n",
       "</style>\n",
       "<table border=\"1\" class=\"dataframe\">\n",
       "  <thead>\n",
       "    <tr style=\"text-align: right;\">\n",
       "      <th></th>\n",
       "      <th>일자</th>\n",
       "      <th>종가</th>\n",
       "      <th>대비</th>\n",
       "      <th>등락률</th>\n",
       "      <th>시가</th>\n",
       "      <th>고가</th>\n",
       "      <th>저가</th>\n",
       "      <th>거래량</th>\n",
       "      <th>거래대금</th>\n",
       "      <th>상장시가총액</th>\n",
       "    </tr>\n",
       "  </thead>\n",
       "  <tbody>\n",
       "    <tr>\n",
       "      <th>0</th>\n",
       "      <td>2022/07/08</td>\n",
       "      <td>310.15</td>\n",
       "      <td>1.84</td>\n",
       "      <td>0.60</td>\n",
       "      <td>310.73</td>\n",
       "      <td>313.01</td>\n",
       "      <td>310.02</td>\n",
       "      <td>108520.0</td>\n",
       "      <td>5481366.0</td>\n",
       "      <td>1.617955e+09</td>\n",
       "    </tr>\n",
       "    <tr>\n",
       "      <th>1</th>\n",
       "      <td>2022/07/07</td>\n",
       "      <td>308.31</td>\n",
       "      <td>6.03</td>\n",
       "      <td>1.99</td>\n",
       "      <td>304.30</td>\n",
       "      <td>310.07</td>\n",
       "      <td>304.20</td>\n",
       "      <td>126308.0</td>\n",
       "      <td>6187397.0</td>\n",
       "      <td>1.606685e+09</td>\n",
       "    </tr>\n",
       "    <tr>\n",
       "      <th>2</th>\n",
       "      <td>2022/07/06</td>\n",
       "      <td>302.28</td>\n",
       "      <td>-6.75</td>\n",
       "      <td>-2.18</td>\n",
       "      <td>307.14</td>\n",
       "      <td>307.90</td>\n",
       "      <td>302.06</td>\n",
       "      <td>156255.0</td>\n",
       "      <td>7320259.0</td>\n",
       "      <td>1.576203e+09</td>\n",
       "    </tr>\n",
       "    <tr>\n",
       "      <th>3</th>\n",
       "      <td>2022/07/05</td>\n",
       "      <td>309.03</td>\n",
       "      <td>5.02</td>\n",
       "      <td>1.65</td>\n",
       "      <td>307.15</td>\n",
       "      <td>309.99</td>\n",
       "      <td>305.35</td>\n",
       "      <td>110062.0</td>\n",
       "      <td>5593806.0</td>\n",
       "      <td>1.611388e+09</td>\n",
       "    </tr>\n",
       "    <tr>\n",
       "      <th>4</th>\n",
       "      <td>2022/07/04</td>\n",
       "      <td>304.01</td>\n",
       "      <td>-0.01</td>\n",
       "      <td>0.00</td>\n",
       "      <td>304.46</td>\n",
       "      <td>305.82</td>\n",
       "      <td>300.82</td>\n",
       "      <td>128356.0</td>\n",
       "      <td>5456744.0</td>\n",
       "      <td>1.583918e+09</td>\n",
       "    </tr>\n",
       "  </tbody>\n",
       "</table>\n",
       "</div>"
      ],
      "text/plain": [
       "           일자      종가    대비   등락률      시가      고가      저가       거래량  \\\n",
       "0  2022/07/08  310.15  1.84  0.60  310.73  313.01  310.02  108520.0   \n",
       "1  2022/07/07  308.31  6.03  1.99  304.30  310.07  304.20  126308.0   \n",
       "2  2022/07/06  302.28 -6.75 -2.18  307.14  307.90  302.06  156255.0   \n",
       "3  2022/07/05  309.03  5.02  1.65  307.15  309.99  305.35  110062.0   \n",
       "4  2022/07/04  304.01 -0.01  0.00  304.46  305.82  300.82  128356.0   \n",
       "\n",
       "        거래대금        상장시가총액  \n",
       "0  5481366.0  1.617955e+09  \n",
       "1  6187397.0  1.606685e+09  \n",
       "2  7320259.0  1.576203e+09  \n",
       "3  5593806.0  1.611388e+09  \n",
       "4  5456744.0  1.583918e+09  "
      ]
     },
     "execution_count": 154,
     "metadata": {},
     "output_type": "execute_result"
    }
   ],
   "source": [
    "kospi_2022 = pd.read_csv('./csv/2022 코스피.csv', encoding='CP949')\n",
    "kospi_2022.head()"
   ]
  },
  {
   "cell_type": "code",
   "execution_count": 155,
   "id": "7941c4cf",
   "metadata": {
    "ExecuteTime": {
     "end_time": "2022-07-11T10:13:17.411246Z",
     "start_time": "2022-07-11T10:13:17.354399Z"
    },
    "collapsed": true
   },
   "outputs": [
    {
     "data": {
      "text/html": [
       "<div>\n",
       "<style scoped>\n",
       "    .dataframe tbody tr th:only-of-type {\n",
       "        vertical-align: middle;\n",
       "    }\n",
       "\n",
       "    .dataframe tbody tr th {\n",
       "        vertical-align: top;\n",
       "    }\n",
       "\n",
       "    .dataframe thead th {\n",
       "        text-align: right;\n",
       "    }\n",
       "</style>\n",
       "<table border=\"1\" class=\"dataframe\">\n",
       "  <thead>\n",
       "    <tr style=\"text-align: right;\">\n",
       "      <th></th>\n",
       "      <th>일자</th>\n",
       "      <th>종가</th>\n",
       "      <th>대비</th>\n",
       "      <th>등락률</th>\n",
       "      <th>시가</th>\n",
       "      <th>고가</th>\n",
       "      <th>저가</th>\n",
       "      <th>거래량</th>\n",
       "      <th>거래대금</th>\n",
       "      <th>상장시가총액</th>\n",
       "    </tr>\n",
       "  </thead>\n",
       "  <tbody>\n",
       "    <tr>\n",
       "      <th>0</th>\n",
       "      <td>2022/01/03</td>\n",
       "      <td>395.51</td>\n",
       "      <td>1.32</td>\n",
       "      <td>0.33</td>\n",
       "      <td>397.16</td>\n",
       "      <td>399.44</td>\n",
       "      <td>394.26</td>\n",
       "      <td>97581.0</td>\n",
       "      <td>5916888.0</td>\n",
       "      <td>1.909560e+09</td>\n",
       "    </tr>\n",
       "    <tr>\n",
       "      <th>1</th>\n",
       "      <td>2022/01/04</td>\n",
       "      <td>395.40</td>\n",
       "      <td>-0.11</td>\n",
       "      <td>-0.03</td>\n",
       "      <td>396.01</td>\n",
       "      <td>396.71</td>\n",
       "      <td>393.35</td>\n",
       "      <td>117161.0</td>\n",
       "      <td>7335075.0</td>\n",
       "      <td>1.908027e+09</td>\n",
       "    </tr>\n",
       "    <tr>\n",
       "      <th>2</th>\n",
       "      <td>2022/01/05</td>\n",
       "      <td>390.39</td>\n",
       "      <td>-5.01</td>\n",
       "      <td>-1.27</td>\n",
       "      <td>394.91</td>\n",
       "      <td>395.20</td>\n",
       "      <td>387.56</td>\n",
       "      <td>175489.0</td>\n",
       "      <td>11706292.0</td>\n",
       "      <td>1.883409e+09</td>\n",
       "    </tr>\n",
       "    <tr>\n",
       "      <th>3</th>\n",
       "      <td>2022/01/06</td>\n",
       "      <td>386.22</td>\n",
       "      <td>-4.17</td>\n",
       "      <td>-1.07</td>\n",
       "      <td>386.59</td>\n",
       "      <td>390.51</td>\n",
       "      <td>385.30</td>\n",
       "      <td>152387.0</td>\n",
       "      <td>9949713.0</td>\n",
       "      <td>1.862775e+09</td>\n",
       "    </tr>\n",
       "    <tr>\n",
       "      <th>4</th>\n",
       "      <td>2022/01/07</td>\n",
       "      <td>390.85</td>\n",
       "      <td>4.63</td>\n",
       "      <td>1.20</td>\n",
       "      <td>388.30</td>\n",
       "      <td>391.75</td>\n",
       "      <td>388.06</td>\n",
       "      <td>114277.0</td>\n",
       "      <td>8111558.0</td>\n",
       "      <td>1.884682e+09</td>\n",
       "    </tr>\n",
       "    <tr>\n",
       "      <th>...</th>\n",
       "      <td>...</td>\n",
       "      <td>...</td>\n",
       "      <td>...</td>\n",
       "      <td>...</td>\n",
       "      <td>...</td>\n",
       "      <td>...</td>\n",
       "      <td>...</td>\n",
       "      <td>...</td>\n",
       "      <td>...</td>\n",
       "      <td>...</td>\n",
       "    </tr>\n",
       "    <tr>\n",
       "      <th>122</th>\n",
       "      <td>2022/07/04</td>\n",
       "      <td>304.01</td>\n",
       "      <td>-0.01</td>\n",
       "      <td>0.00</td>\n",
       "      <td>304.46</td>\n",
       "      <td>305.82</td>\n",
       "      <td>300.82</td>\n",
       "      <td>128356.0</td>\n",
       "      <td>5456744.0</td>\n",
       "      <td>1.583918e+09</td>\n",
       "    </tr>\n",
       "    <tr>\n",
       "      <th>123</th>\n",
       "      <td>2022/07/05</td>\n",
       "      <td>309.03</td>\n",
       "      <td>5.02</td>\n",
       "      <td>1.65</td>\n",
       "      <td>307.15</td>\n",
       "      <td>309.99</td>\n",
       "      <td>305.35</td>\n",
       "      <td>110062.0</td>\n",
       "      <td>5593806.0</td>\n",
       "      <td>1.611388e+09</td>\n",
       "    </tr>\n",
       "    <tr>\n",
       "      <th>124</th>\n",
       "      <td>2022/07/06</td>\n",
       "      <td>302.28</td>\n",
       "      <td>-6.75</td>\n",
       "      <td>-2.18</td>\n",
       "      <td>307.14</td>\n",
       "      <td>307.90</td>\n",
       "      <td>302.06</td>\n",
       "      <td>156255.0</td>\n",
       "      <td>7320259.0</td>\n",
       "      <td>1.576203e+09</td>\n",
       "    </tr>\n",
       "    <tr>\n",
       "      <th>125</th>\n",
       "      <td>2022/07/07</td>\n",
       "      <td>308.31</td>\n",
       "      <td>6.03</td>\n",
       "      <td>1.99</td>\n",
       "      <td>304.30</td>\n",
       "      <td>310.07</td>\n",
       "      <td>304.20</td>\n",
       "      <td>126308.0</td>\n",
       "      <td>6187397.0</td>\n",
       "      <td>1.606685e+09</td>\n",
       "    </tr>\n",
       "    <tr>\n",
       "      <th>126</th>\n",
       "      <td>2022/07/08</td>\n",
       "      <td>310.15</td>\n",
       "      <td>1.84</td>\n",
       "      <td>0.60</td>\n",
       "      <td>310.73</td>\n",
       "      <td>313.01</td>\n",
       "      <td>310.02</td>\n",
       "      <td>108520.0</td>\n",
       "      <td>5481366.0</td>\n",
       "      <td>1.617955e+09</td>\n",
       "    </tr>\n",
       "  </tbody>\n",
       "</table>\n",
       "<p>127 rows × 10 columns</p>\n",
       "</div>"
      ],
      "text/plain": [
       "             일자      종가    대비   등락률      시가      고가      저가       거래량  \\\n",
       "0    2022/01/03  395.51  1.32  0.33  397.16  399.44  394.26   97581.0   \n",
       "1    2022/01/04  395.40 -0.11 -0.03  396.01  396.71  393.35  117161.0   \n",
       "2    2022/01/05  390.39 -5.01 -1.27  394.91  395.20  387.56  175489.0   \n",
       "3    2022/01/06  386.22 -4.17 -1.07  386.59  390.51  385.30  152387.0   \n",
       "4    2022/01/07  390.85  4.63  1.20  388.30  391.75  388.06  114277.0   \n",
       "..          ...     ...   ...   ...     ...     ...     ...       ...   \n",
       "122  2022/07/04  304.01 -0.01  0.00  304.46  305.82  300.82  128356.0   \n",
       "123  2022/07/05  309.03  5.02  1.65  307.15  309.99  305.35  110062.0   \n",
       "124  2022/07/06  302.28 -6.75 -2.18  307.14  307.90  302.06  156255.0   \n",
       "125  2022/07/07  308.31  6.03  1.99  304.30  310.07  304.20  126308.0   \n",
       "126  2022/07/08  310.15  1.84  0.60  310.73  313.01  310.02  108520.0   \n",
       "\n",
       "           거래대금        상장시가총액  \n",
       "0     5916888.0  1.909560e+09  \n",
       "1     7335075.0  1.908027e+09  \n",
       "2    11706292.0  1.883409e+09  \n",
       "3     9949713.0  1.862775e+09  \n",
       "4     8111558.0  1.884682e+09  \n",
       "..          ...           ...  \n",
       "122   5456744.0  1.583918e+09  \n",
       "123   5593806.0  1.611388e+09  \n",
       "124   7320259.0  1.576203e+09  \n",
       "125   6187397.0  1.606685e+09  \n",
       "126   5481366.0  1.617955e+09  \n",
       "\n",
       "[127 rows x 10 columns]"
      ]
     },
     "execution_count": 155,
     "metadata": {},
     "output_type": "execute_result"
    }
   ],
   "source": [
    "kospi_2022 = kospi_2022.sort_values(by='일자', ascending=True)\n",
    "kospi_2022.reset_index(drop=True, inplace=True)\n",
    "kospi_2022"
   ]
  },
  {
   "cell_type": "code",
   "execution_count": 156,
   "id": "f68f5321",
   "metadata": {
    "ExecuteTime": {
     "end_time": "2022-07-11T10:13:18.840433Z",
     "start_time": "2022-07-11T10:13:18.824476Z"
    },
    "code_folding": [
     0
    ]
   },
   "outputs": [],
   "source": [
    "# kospi_sk = pd.DataFrame()\n",
    "\n",
    "# kospi_sk[\"날짜\"] = \"\"\n",
    "# kospi_sk[\"날짜\"] = kospi_2019[\"일자\"]\n",
    "\n",
    "# kospi_sk[\"코스피 등락률\"] = kospi_2019[\"등락률\"]\n",
    "\n",
    "# kospi_sk[\"날짜\"] = kospi_sk[\"날짜\"].str.replace(\"/\",\"\")\n",
    "# kospi_sk[\"날짜\"] = kospi_sk[\"날짜\"].astype(int)\n",
    "\n",
    "\n",
    "# kospi_sk[\"날짜\"] = pd.to_datetime(kospi_sk[\"날짜\"], format='%Y%m%d')\n",
    "# kospi_sk = kospi_sk.sort_values(by='날짜', ascending=True)\n",
    "# kospi_sk.reset_index(drop=True, inplace=True)\n",
    "# kospi_sk.head()"
   ]
  },
  {
   "cell_type": "code",
   "execution_count": 157,
   "id": "2f8e5c94",
   "metadata": {
    "ExecuteTime": {
     "end_time": "2022-07-11T10:13:19.249343Z",
     "start_time": "2022-07-11T10:13:19.218426Z"
    },
    "collapsed": true
   },
   "outputs": [
    {
     "data": {
      "text/html": [
       "<div>\n",
       "<style scoped>\n",
       "    .dataframe tbody tr th:only-of-type {\n",
       "        vertical-align: middle;\n",
       "    }\n",
       "\n",
       "    .dataframe tbody tr th {\n",
       "        vertical-align: top;\n",
       "    }\n",
       "\n",
       "    .dataframe thead th {\n",
       "        text-align: right;\n",
       "    }\n",
       "</style>\n",
       "<table border=\"1\" class=\"dataframe\">\n",
       "  <thead>\n",
       "    <tr style=\"text-align: right;\">\n",
       "      <th></th>\n",
       "      <th>외국인 보유수량</th>\n",
       "      <th>외국인 지분율</th>\n",
       "      <th>외국인 한도수량</th>\n",
       "      <th>외국인 한도소진율</th>\n",
       "      <th>등락률</th>\n",
       "      <th>코스피 등락률</th>\n",
       "    </tr>\n",
       "    <tr>\n",
       "      <th>날짜</th>\n",
       "      <th></th>\n",
       "      <th></th>\n",
       "      <th></th>\n",
       "      <th></th>\n",
       "      <th></th>\n",
       "      <th></th>\n",
       "    </tr>\n",
       "  </thead>\n",
       "  <tbody>\n",
       "    <tr>\n",
       "      <th>2022/07/04</th>\n",
       "      <td>132670075</td>\n",
       "      <td>82.22</td>\n",
       "      <td>161358585</td>\n",
       "      <td>82.22</td>\n",
       "      <td>0.71</td>\n",
       "      <td>0.00</td>\n",
       "    </tr>\n",
       "    <tr>\n",
       "      <th>2022/07/05</th>\n",
       "      <td>132669123</td>\n",
       "      <td>82.22</td>\n",
       "      <td>161358585</td>\n",
       "      <td>82.22</td>\n",
       "      <td>0.53</td>\n",
       "      <td>1.65</td>\n",
       "    </tr>\n",
       "    <tr>\n",
       "      <th>2022/07/06</th>\n",
       "      <td>132686778</td>\n",
       "      <td>82.23</td>\n",
       "      <td>161358585</td>\n",
       "      <td>82.23</td>\n",
       "      <td>-0.70</td>\n",
       "      <td>-2.18</td>\n",
       "    </tr>\n",
       "    <tr>\n",
       "      <th>2022/07/07</th>\n",
       "      <td>132706043</td>\n",
       "      <td>82.24</td>\n",
       "      <td>161358585</td>\n",
       "      <td>82.24</td>\n",
       "      <td>-1.06</td>\n",
       "      <td>1.99</td>\n",
       "    </tr>\n",
       "    <tr>\n",
       "      <th>2022/07/08</th>\n",
       "      <td>132696576</td>\n",
       "      <td>82.24</td>\n",
       "      <td>161358585</td>\n",
       "      <td>82.24</td>\n",
       "      <td>-0.36</td>\n",
       "      <td>0.60</td>\n",
       "    </tr>\n",
       "  </tbody>\n",
       "</table>\n",
       "</div>"
      ],
      "text/plain": [
       "             외국인 보유수량  외국인 지분율   외국인 한도수량  외국인 한도소진율   등락률  코스피 등락률\n",
       "날짜                                                                 \n",
       "2022/07/04  132670075    82.22  161358585      82.22  0.71     0.00\n",
       "2022/07/05  132669123    82.22  161358585      82.22  0.53     1.65\n",
       "2022/07/06  132686778    82.23  161358585      82.23 -0.70    -2.18\n",
       "2022/07/07  132706043    82.24  161358585      82.24 -1.06     1.99\n",
       "2022/07/08  132696576    82.24  161358585      82.24 -0.36     0.60"
      ]
     },
     "execution_count": 157,
     "metadata": {},
     "output_type": "execute_result"
    }
   ],
   "source": [
    "sk_df[\"코스피 등락률\"] = kospi_2022[\"등락률\"]\n",
    "\n",
    "sk_df[\"날짜\"] = kospi_2022[\"일자\"]\n",
    "sk_df = sk_df.set_index('날짜')\n",
    "\n",
    "sk_df.tail()"
   ]
  },
  {
   "cell_type": "code",
   "execution_count": 158,
   "id": "937c2ff2",
   "metadata": {
    "ExecuteTime": {
     "end_time": "2022-07-11T10:13:22.807853Z",
     "start_time": "2022-07-11T10:13:22.797880Z"
    }
   },
   "outputs": [],
   "source": [
    "sk_df['변동성'] = (sk_df['코스피 등락률'] * sk_df['등락률']) > 0 & (abs(sk_df['코스피 등락률']) - abs(sk_df['등락률'])<0)"
   ]
  },
  {
   "cell_type": "code",
   "execution_count": 159,
   "id": "7f1b0efb",
   "metadata": {
    "ExecuteTime": {
     "end_time": "2022-07-11T10:13:22.999343Z",
     "start_time": "2022-07-11T10:13:22.978403Z"
    }
   },
   "outputs": [],
   "source": [
    "sk_df['변동성'] = sk_df['변동성'].apply(lambda x : 1 if x==True else 0 )"
   ]
  },
  {
   "cell_type": "code",
   "execution_count": 160,
   "id": "4f1cc15f",
   "metadata": {
    "ExecuteTime": {
     "end_time": "2022-07-11T10:13:23.220753Z",
     "start_time": "2022-07-11T10:13:23.193826Z"
    },
    "collapsed": true
   },
   "outputs": [
    {
     "data": {
      "text/html": [
       "<div>\n",
       "<style scoped>\n",
       "    .dataframe tbody tr th:only-of-type {\n",
       "        vertical-align: middle;\n",
       "    }\n",
       "\n",
       "    .dataframe tbody tr th {\n",
       "        vertical-align: top;\n",
       "    }\n",
       "\n",
       "    .dataframe thead th {\n",
       "        text-align: right;\n",
       "    }\n",
       "</style>\n",
       "<table border=\"1\" class=\"dataframe\">\n",
       "  <thead>\n",
       "    <tr style=\"text-align: right;\">\n",
       "      <th></th>\n",
       "      <th>외국인 보유수량</th>\n",
       "      <th>외국인 지분율</th>\n",
       "      <th>외국인 한도수량</th>\n",
       "      <th>외국인 한도소진율</th>\n",
       "      <th>등락률</th>\n",
       "      <th>코스피 등락률</th>\n",
       "      <th>변동성</th>\n",
       "    </tr>\n",
       "    <tr>\n",
       "      <th>날짜</th>\n",
       "      <th></th>\n",
       "      <th></th>\n",
       "      <th></th>\n",
       "      <th></th>\n",
       "      <th></th>\n",
       "      <th></th>\n",
       "      <th></th>\n",
       "    </tr>\n",
       "  </thead>\n",
       "  <tbody>\n",
       "    <tr>\n",
       "      <th>2022/07/04</th>\n",
       "      <td>132670075</td>\n",
       "      <td>82.22</td>\n",
       "      <td>161358585</td>\n",
       "      <td>82.22</td>\n",
       "      <td>0.71</td>\n",
       "      <td>0.00</td>\n",
       "      <td>0</td>\n",
       "    </tr>\n",
       "    <tr>\n",
       "      <th>2022/07/05</th>\n",
       "      <td>132669123</td>\n",
       "      <td>82.22</td>\n",
       "      <td>161358585</td>\n",
       "      <td>82.22</td>\n",
       "      <td>0.53</td>\n",
       "      <td>1.65</td>\n",
       "      <td>1</td>\n",
       "    </tr>\n",
       "    <tr>\n",
       "      <th>2022/07/06</th>\n",
       "      <td>132686778</td>\n",
       "      <td>82.23</td>\n",
       "      <td>161358585</td>\n",
       "      <td>82.23</td>\n",
       "      <td>-0.70</td>\n",
       "      <td>-2.18</td>\n",
       "      <td>1</td>\n",
       "    </tr>\n",
       "    <tr>\n",
       "      <th>2022/07/07</th>\n",
       "      <td>132706043</td>\n",
       "      <td>82.24</td>\n",
       "      <td>161358585</td>\n",
       "      <td>82.24</td>\n",
       "      <td>-1.06</td>\n",
       "      <td>1.99</td>\n",
       "      <td>0</td>\n",
       "    </tr>\n",
       "    <tr>\n",
       "      <th>2022/07/08</th>\n",
       "      <td>132696576</td>\n",
       "      <td>82.24</td>\n",
       "      <td>161358585</td>\n",
       "      <td>82.24</td>\n",
       "      <td>-0.36</td>\n",
       "      <td>0.60</td>\n",
       "      <td>0</td>\n",
       "    </tr>\n",
       "  </tbody>\n",
       "</table>\n",
       "</div>"
      ],
      "text/plain": [
       "             외국인 보유수량  외국인 지분율   외국인 한도수량  외국인 한도소진율   등락률  코스피 등락률  변동성\n",
       "날짜                                                                      \n",
       "2022/07/04  132670075    82.22  161358585      82.22  0.71     0.00    0\n",
       "2022/07/05  132669123    82.22  161358585      82.22  0.53     1.65    1\n",
       "2022/07/06  132686778    82.23  161358585      82.23 -0.70    -2.18    1\n",
       "2022/07/07  132706043    82.24  161358585      82.24 -1.06     1.99    0\n",
       "2022/07/08  132696576    82.24  161358585      82.24 -0.36     0.60    0"
      ]
     },
     "execution_count": 160,
     "metadata": {},
     "output_type": "execute_result"
    }
   ],
   "source": [
    "sk_df.tail()"
   ]
  },
  {
   "cell_type": "code",
   "execution_count": 161,
   "id": "588e763e",
   "metadata": {
    "ExecuteTime": {
     "end_time": "2022-07-11T10:13:28.676689Z",
     "start_time": "2022-07-11T10:13:28.656744Z"
    }
   },
   "outputs": [],
   "source": [
    "sk_df.to_csv('./csv/2022_동양생명_코스피등락률.csv', encoding='CP949')"
   ]
  },
  {
   "cell_type": "code",
   "execution_count": null,
   "id": "fc2ab672",
   "metadata": {},
   "outputs": [],
   "source": []
  },
  {
   "cell_type": "code",
   "execution_count": null,
   "id": "7aa52fb9",
   "metadata": {},
   "outputs": [],
   "source": []
  },
  {
   "cell_type": "code",
   "execution_count": null,
   "id": "197ad966",
   "metadata": {},
   "outputs": [],
   "source": []
  },
  {
   "cell_type": "code",
   "execution_count": 105,
   "id": "a47d54a0",
   "metadata": {
    "ExecuteTime": {
     "end_time": "2022-07-11T06:58:16.969975Z",
     "start_time": "2022-07-11T06:58:16.958008Z"
    }
   },
   "outputs": [],
   "source": [
    "from sklearn.linear_model import LogisticRegression"
   ]
  },
  {
   "cell_type": "code",
   "execution_count": 106,
   "id": "1103a7aa",
   "metadata": {
    "ExecuteTime": {
     "end_time": "2022-07-11T06:58:18.275484Z",
     "start_time": "2022-07-11T06:58:18.258531Z"
    }
   },
   "outputs": [
    {
     "data": {
      "text/plain": [
       "외국인 보유수량     0\n",
       "외국인 지분율      0\n",
       "외국인 한도수량     0\n",
       "외국인 한도소진율    0\n",
       "등락률          0\n",
       "코스피 등락률      0\n",
       "변동성          0\n",
       "dtype: int64"
      ]
     },
     "execution_count": 106,
     "metadata": {},
     "output_type": "execute_result"
    }
   ],
   "source": [
    "sk_df.isna().sum()"
   ]
  },
  {
   "cell_type": "code",
   "execution_count": 107,
   "id": "d40d5809",
   "metadata": {
    "ExecuteTime": {
     "end_time": "2022-07-11T06:58:19.787442Z",
     "start_time": "2022-07-11T06:58:19.763505Z"
    }
   },
   "outputs": [],
   "source": [
    "features = sk_df[[\"등락률\", \"코스피 등락률\"]]\n",
    "label = sk_df[[\"변동성\"]]"
   ]
  },
  {
   "cell_type": "code",
   "execution_count": 71,
   "id": "43a97529",
   "metadata": {
    "ExecuteTime": {
     "end_time": "2022-07-11T06:16:13.828551Z",
     "start_time": "2022-07-11T06:16:13.806578Z"
    }
   },
   "outputs": [],
   "source": [
    "from sklearn.model_selection import train_test_split\n",
    "\n",
    "y_train = sk_df[]\n",
    "\n",
    "X_train, X_test, y_train, y_test = train_test_split(features, label, \n",
    "                                                   test_size = 0.2, random_state=11)"
   ]
  },
  {
   "cell_type": "code",
   "execution_count": 72,
   "id": "a52275c4",
   "metadata": {
    "ExecuteTime": {
     "end_time": "2022-07-11T06:16:16.480422Z",
     "start_time": "2022-07-11T06:16:16.448510Z"
    }
   },
   "outputs": [],
   "source": [
    "from sklearn.preprocessing import StandardScaler\n",
    "\n",
    "sscaler = StandardScaler()\n",
    "\n",
    "X_train = sscaler.fit_transform(X_train)\n",
    "X_test = sscaler.fit_transform(X_test)"
   ]
  },
  {
   "cell_type": "code",
   "execution_count": 73,
   "id": "8674612a",
   "metadata": {
    "ExecuteTime": {
     "end_time": "2022-07-11T06:16:18.246166Z",
     "start_time": "2022-07-11T06:16:18.210261Z"
    }
   },
   "outputs": [
    {
     "name": "stderr",
     "output_type": "stream",
     "text": [
      "C:\\Users\\wndgj\\AppData\\Local\\Programs\\Python\\Python310\\lib\\site-packages\\sklearn\\utils\\validation.py:1111: DataConversionWarning: A column-vector y was passed when a 1d array was expected. Please change the shape of y to (n_samples, ), for example using ravel().\n",
      "  y = column_or_1d(y, warn=True)\n"
     ]
    },
    {
     "data": {
      "text/html": [
       "<style>#sk-container-id-1 {color: black;background-color: white;}#sk-container-id-1 pre{padding: 0;}#sk-container-id-1 div.sk-toggleable {background-color: white;}#sk-container-id-1 label.sk-toggleable__label {cursor: pointer;display: block;width: 100%;margin-bottom: 0;padding: 0.3em;box-sizing: border-box;text-align: center;}#sk-container-id-1 label.sk-toggleable__label-arrow:before {content: \"▸\";float: left;margin-right: 0.25em;color: #696969;}#sk-container-id-1 label.sk-toggleable__label-arrow:hover:before {color: black;}#sk-container-id-1 div.sk-estimator:hover label.sk-toggleable__label-arrow:before {color: black;}#sk-container-id-1 div.sk-toggleable__content {max-height: 0;max-width: 0;overflow: hidden;text-align: left;background-color: #f0f8ff;}#sk-container-id-1 div.sk-toggleable__content pre {margin: 0.2em;color: black;border-radius: 0.25em;background-color: #f0f8ff;}#sk-container-id-1 input.sk-toggleable__control:checked~div.sk-toggleable__content {max-height: 200px;max-width: 100%;overflow: auto;}#sk-container-id-1 input.sk-toggleable__control:checked~label.sk-toggleable__label-arrow:before {content: \"▾\";}#sk-container-id-1 div.sk-estimator input.sk-toggleable__control:checked~label.sk-toggleable__label {background-color: #d4ebff;}#sk-container-id-1 div.sk-label input.sk-toggleable__control:checked~label.sk-toggleable__label {background-color: #d4ebff;}#sk-container-id-1 input.sk-hidden--visually {border: 0;clip: rect(1px 1px 1px 1px);clip: rect(1px, 1px, 1px, 1px);height: 1px;margin: -1px;overflow: hidden;padding: 0;position: absolute;width: 1px;}#sk-container-id-1 div.sk-estimator {font-family: monospace;background-color: #f0f8ff;border: 1px dotted black;border-radius: 0.25em;box-sizing: border-box;margin-bottom: 0.5em;}#sk-container-id-1 div.sk-estimator:hover {background-color: #d4ebff;}#sk-container-id-1 div.sk-parallel-item::after {content: \"\";width: 100%;border-bottom: 1px solid gray;flex-grow: 1;}#sk-container-id-1 div.sk-label:hover label.sk-toggleable__label {background-color: #d4ebff;}#sk-container-id-1 div.sk-serial::before {content: \"\";position: absolute;border-left: 1px solid gray;box-sizing: border-box;top: 0;bottom: 0;left: 50%;z-index: 0;}#sk-container-id-1 div.sk-serial {display: flex;flex-direction: column;align-items: center;background-color: white;padding-right: 0.2em;padding-left: 0.2em;position: relative;}#sk-container-id-1 div.sk-item {position: relative;z-index: 1;}#sk-container-id-1 div.sk-parallel {display: flex;align-items: stretch;justify-content: center;background-color: white;position: relative;}#sk-container-id-1 div.sk-item::before, #sk-container-id-1 div.sk-parallel-item::before {content: \"\";position: absolute;border-left: 1px solid gray;box-sizing: border-box;top: 0;bottom: 0;left: 50%;z-index: -1;}#sk-container-id-1 div.sk-parallel-item {display: flex;flex-direction: column;z-index: 1;position: relative;background-color: white;}#sk-container-id-1 div.sk-parallel-item:first-child::after {align-self: flex-end;width: 50%;}#sk-container-id-1 div.sk-parallel-item:last-child::after {align-self: flex-start;width: 50%;}#sk-container-id-1 div.sk-parallel-item:only-child::after {width: 0;}#sk-container-id-1 div.sk-dashed-wrapped {border: 1px dashed gray;margin: 0 0.4em 0.5em 0.4em;box-sizing: border-box;padding-bottom: 0.4em;background-color: white;}#sk-container-id-1 div.sk-label label {font-family: monospace;font-weight: bold;display: inline-block;line-height: 1.2em;}#sk-container-id-1 div.sk-label-container {text-align: center;}#sk-container-id-1 div.sk-container {/* jupyter's `normalize.less` sets `[hidden] { display: none; }` but bootstrap.min.css set `[hidden] { display: none !important; }` so we also need the `!important` here to be able to override the default hidden behavior on the sphinx rendered scikit-learn.org. See: https://github.com/scikit-learn/scikit-learn/issues/21755 */display: inline-block !important;position: relative;}#sk-container-id-1 div.sk-text-repr-fallback {display: none;}</style><div id=\"sk-container-id-1\" class=\"sk-top-container\"><div class=\"sk-text-repr-fallback\"><pre>LogisticRegression()</pre><b>In a Jupyter environment, please rerun this cell to show the HTML representation or trust the notebook. <br />On GitHub, the HTML representation is unable to render, please try loading this page with nbviewer.org.</b></div><div class=\"sk-container\" hidden><div class=\"sk-item\"><div class=\"sk-estimator sk-toggleable\"><input class=\"sk-toggleable__control sk-hidden--visually\" id=\"sk-estimator-id-1\" type=\"checkbox\" checked><label for=\"sk-estimator-id-1\" class=\"sk-toggleable__label sk-toggleable__label-arrow\">LogisticRegression</label><div class=\"sk-toggleable__content\"><pre>LogisticRegression()</pre></div></div></div></div></div>"
      ],
      "text/plain": [
       "LogisticRegression()"
      ]
     },
     "execution_count": 73,
     "metadata": {},
     "output_type": "execute_result"
    }
   ],
   "source": [
    "model = LogisticRegression()\n",
    "model.fit(X_train, y_train)"
   ]
  },
  {
   "cell_type": "code",
   "execution_count": 267,
   "id": "438534ed",
   "metadata": {
    "ExecuteTime": {
     "end_time": "2022-07-10T07:39:45.001558Z",
     "start_time": "2022-07-10T07:39:44.992069Z"
    }
   },
   "outputs": [
    {
     "data": {
      "text/plain": [
       "0.5612244897959183"
      ]
     },
     "execution_count": 267,
     "metadata": {},
     "output_type": "execute_result"
    }
   ],
   "source": [
    "model.score(X_train,y_train)"
   ]
  },
  {
   "cell_type": "code",
   "execution_count": 268,
   "id": "5064138c",
   "metadata": {
    "ExecuteTime": {
     "end_time": "2022-07-10T07:39:47.315811Z",
     "start_time": "2022-07-10T07:39:47.292869Z"
    }
   },
   "outputs": [
    {
     "data": {
      "text/plain": [
       "0.54"
      ]
     },
     "execution_count": 268,
     "metadata": {},
     "output_type": "execute_result"
    }
   ],
   "source": [
    "model.score(X_test, y_test)"
   ]
  },
  {
   "cell_type": "code",
   "execution_count": 269,
   "id": "105bc369",
   "metadata": {
    "ExecuteTime": {
     "end_time": "2022-07-10T07:39:50.259483Z",
     "start_time": "2022-07-10T07:39:50.245434Z"
    }
   },
   "outputs": [
    {
     "data": {
      "text/plain": [
       "array([[ 0.11257668, -0.26196398]])"
      ]
     },
     "execution_count": 269,
     "metadata": {},
     "output_type": "execute_result"
    }
   ],
   "source": [
    "model.coef_"
   ]
  },
  {
   "cell_type": "code",
   "execution_count": null,
   "id": "3821f42d",
   "metadata": {},
   "outputs": [],
   "source": []
  },
  {
   "cell_type": "code",
   "execution_count": 243,
   "id": "bc886fb8",
   "metadata": {
    "ExecuteTime": {
     "end_time": "2022-07-10T07:23:42.700392Z",
     "start_time": "2022-07-10T07:23:42.370722Z"
    },
    "collapsed": true
   },
   "outputs": [
    {
     "data": {
      "image/png": "[encoded data removed]",
      "text/plain": [
       "<Figure size 432x288 with 1 Axes>"
      ]
     },
     "metadata": {
      "needs_background": "light"
     },
     "output_type": "display_data"
    }
   ],
   "source": [
    "import matplotlib.pyplot as plt\n",
    "from matplotlib import font_manager, rc\n",
    "font_path = \"C:/Windows/Fonts/H2GTRM.TTF\"\n",
    "font = font_manager.FontProperties(fname= font_path).get_name()\n",
    "rc('font', family=font)\n",
    "\n",
    "X = sk_df[[\"외국인 보유수량\"]]\n",
    "y = sk_df[\"변동성\"]\n",
    "plt.plot(X, y, 'o')\n",
    "plt.show()"
   ]
  },
  {
   "cell_type": "code",
   "execution_count": null,
   "id": "ae8c0f26",
   "metadata": {},
   "outputs": [],
   "source": []
  }
 ],
 "metadata": {
  "kernelspec": {
   "display_name": "Python 3 (ipykernel)",
   "language": "python",
   "name": "python3"
  },
  "language_info": {
   "codemirror_mode": {
    "name": "ipython",
    "version": 3
   },
   "file_extension": ".py",
   "mimetype": "text/x-python",
   "name": "python",
   "nbconvert_exporter": "python",
   "pygments_lexer": "ipython3",
   "version": "3.10.1"
  },
  "toc": {
   "base_numbering": 1,
   "nav_menu": {},
   "number_sections": true,
   "sideBar": true,
   "skip_h1_title": false,
   "title_cell": "Table of Contents",
   "title_sidebar": "Contents",
   "toc_cell": false,
   "toc_position": {},
   "toc_section_display": true,
   "toc_window_display": false
  }
 },
 "nbformat": 4,
 "nbformat_minor": 5
}
