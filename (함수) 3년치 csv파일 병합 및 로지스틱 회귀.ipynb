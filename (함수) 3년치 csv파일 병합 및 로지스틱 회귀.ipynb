{
 "cells": [
  {
   "cell_type": "code",
   "execution_count": 24,
   "id": "b91dbc68",
   "metadata": {
    "ExecuteTime": {
     "end_time": "2022-07-14T03:54:53.907543Z",
     "start_time": "2022-07-14T03:54:53.806781Z"
    }
   },
   "outputs": [],
   "source": [
    "import pandas as pd\n",
    "from sklearn.linear_model import LogisticRegression\n",
    "from sklearn.model_selection import train_test_split\n",
    "from sklearn.preprocessing import StandardScaler\n",
    "from sklearn.metrics import roc_auc_score\n",
    "\n",
    "# 2019, 2020, 2021, 2022 기업과 코스피 등락률 csv 파일 병합 및 로지스틱 회귀 함수\n",
    "def for_read_csvs(name):\n",
    "    # 년도별 기업과 코스피 등락률 csv 파일 병합\n",
    "    df1 = pd.read_csv('./csv/2018_'+name+'_코스피등락률.csv', encoding='CP949')\n",
    "    df2 = pd.read_csv('./csv/2019_'+name+'_코스피등락률.csv', encoding='CP949')\n",
    "    df3 = pd.read_csv('./csv/2020_'+name+'_코스피등락률.csv', encoding='CP949')\n",
    "    df4 = pd.read_csv('./csv/2021_'+name+'_코스피등락률.csv', encoding='CP949')\n",
    "    \n",
    "    # 테스트 셋용 3년치 데이터 프레임 병합\n",
    "    df_3yrs = pd.concat([df1, df2, df3])\n",
    "    df_3yrs.reset_index(drop=True, inplace=True)\n",
    "    \n",
    "    # 데이터 셋 분리\n",
    "    X_train = df_3yrs[[\"기업 등락률\", \"코스피 등락률\"]]\n",
    "    X_test = df4[[\"기업 등락률\", \"코스피 등락률\"]]\n",
    "    y_train = df_3yrs[\"베타\"]\n",
    "    y_test = df4[\"베타\"]\n",
    "    \n",
    "    # Standard Scaling\n",
    "    sscaler = StandardScaler()\n",
    "\n",
    "    X_train = sscaler.fit_transform(X_train)\n",
    "    X_test = sscaler.fit_transform(X_test)\n",
    "    \n",
    "    # 로지스틱 회귀\n",
    "    model = LogisticRegression()\n",
    "    results = model.fit(X_train, y_train)\n",
    "    \n",
    "    # 모델의 예측 학습\n",
    "    model_pred = model.predict(X_test)\n",
    "\n",
    "    print(\"roc_auc: \", roc_auc_score(y_test, model_pred))\n",
    "    print(\"트레이닝 데이터 모델 정확도: \", model.score(X_train, y_train))\n",
    "    print(\"테스트 데이터 모델 정확도: \", model.score(X_test, y_test))"
   ]
  },
  {
   "cell_type": "code",
   "execution_count": 25,
   "id": "f9eeaa6f",
   "metadata": {
    "ExecuteTime": {
     "end_time": "2022-07-14T03:55:05.538715Z",
     "start_time": "2022-07-14T03:55:04.874542Z"
    }
   },
   "outputs": [
    {
     "ename": "ValueError",
     "evalue": "Unknown label type: 'continuous'",
     "output_type": "error",
     "traceback": [
      "\u001b[1;31m---------------------------------------------------------------------------\u001b[0m",
      "\u001b[1;31mValueError\u001b[0m                                Traceback (most recent call last)",
      "Input \u001b[1;32mIn [25]\u001b[0m, in \u001b[0;36m<cell line: 1>\u001b[1;34m()\u001b[0m\n\u001b[1;32m----> 1\u001b[0m \u001b[43mfor_read_csvs\u001b[49m\u001b[43m(\u001b[49m\u001b[38;5;124;43m\"\u001b[39;49m\u001b[38;5;124;43m동양생명\u001b[39;49m\u001b[38;5;124;43m\"\u001b[39;49m\u001b[43m)\u001b[49m\n",
      "Input \u001b[1;32mIn [24]\u001b[0m, in \u001b[0;36mfor_read_csvs\u001b[1;34m(name)\u001b[0m\n\u001b[0;32m     31\u001b[0m \u001b[38;5;66;03m# 로지스틱 회귀\u001b[39;00m\n\u001b[0;32m     32\u001b[0m model \u001b[38;5;241m=\u001b[39m LogisticRegression()\n\u001b[1;32m---> 33\u001b[0m results \u001b[38;5;241m=\u001b[39m \u001b[43mmodel\u001b[49m\u001b[38;5;241;43m.\u001b[39;49m\u001b[43mfit\u001b[49m\u001b[43m(\u001b[49m\u001b[43mX_train\u001b[49m\u001b[43m,\u001b[49m\u001b[43m \u001b[49m\u001b[43my_train\u001b[49m\u001b[43m)\u001b[49m\n\u001b[0;32m     35\u001b[0m \u001b[38;5;66;03m# 모델의 예측 학습\u001b[39;00m\n\u001b[0;32m     36\u001b[0m model_pred \u001b[38;5;241m=\u001b[39m model\u001b[38;5;241m.\u001b[39mpredict(X_test)\n",
      "File \u001b[1;32m~\\AppData\\Local\\Programs\\Python\\Python310\\lib\\site-packages\\sklearn\\linear_model\\_logistic.py:1146\u001b[0m, in \u001b[0;36mLogisticRegression.fit\u001b[1;34m(self, X, y, sample_weight)\u001b[0m\n\u001b[0;32m   1136\u001b[0m     _dtype \u001b[38;5;241m=\u001b[39m [np\u001b[38;5;241m.\u001b[39mfloat64, np\u001b[38;5;241m.\u001b[39mfloat32]\n\u001b[0;32m   1138\u001b[0m X, y \u001b[38;5;241m=\u001b[39m \u001b[38;5;28mself\u001b[39m\u001b[38;5;241m.\u001b[39m_validate_data(\n\u001b[0;32m   1139\u001b[0m     X,\n\u001b[0;32m   1140\u001b[0m     y,\n\u001b[1;32m   (...)\u001b[0m\n\u001b[0;32m   1144\u001b[0m     accept_large_sparse\u001b[38;5;241m=\u001b[39msolver \u001b[38;5;129;01mnot\u001b[39;00m \u001b[38;5;129;01min\u001b[39;00m [\u001b[38;5;124m\"\u001b[39m\u001b[38;5;124mliblinear\u001b[39m\u001b[38;5;124m\"\u001b[39m, \u001b[38;5;124m\"\u001b[39m\u001b[38;5;124msag\u001b[39m\u001b[38;5;124m\"\u001b[39m, \u001b[38;5;124m\"\u001b[39m\u001b[38;5;124msaga\u001b[39m\u001b[38;5;124m\"\u001b[39m],\n\u001b[0;32m   1145\u001b[0m )\n\u001b[1;32m-> 1146\u001b[0m \u001b[43mcheck_classification_targets\u001b[49m\u001b[43m(\u001b[49m\u001b[43my\u001b[49m\u001b[43m)\u001b[49m\n\u001b[0;32m   1147\u001b[0m \u001b[38;5;28mself\u001b[39m\u001b[38;5;241m.\u001b[39mclasses_ \u001b[38;5;241m=\u001b[39m np\u001b[38;5;241m.\u001b[39munique(y)\n\u001b[0;32m   1149\u001b[0m multi_class \u001b[38;5;241m=\u001b[39m _check_multi_class(\u001b[38;5;28mself\u001b[39m\u001b[38;5;241m.\u001b[39mmulti_class, solver, \u001b[38;5;28mlen\u001b[39m(\u001b[38;5;28mself\u001b[39m\u001b[38;5;241m.\u001b[39mclasses_))\n",
      "File \u001b[1;32m~\\AppData\\Local\\Programs\\Python\\Python310\\lib\\site-packages\\sklearn\\utils\\multiclass.py:200\u001b[0m, in \u001b[0;36mcheck_classification_targets\u001b[1;34m(y)\u001b[0m\n\u001b[0;32m    192\u001b[0m y_type \u001b[38;5;241m=\u001b[39m type_of_target(y, input_name\u001b[38;5;241m=\u001b[39m\u001b[38;5;124m\"\u001b[39m\u001b[38;5;124my\u001b[39m\u001b[38;5;124m\"\u001b[39m)\n\u001b[0;32m    193\u001b[0m \u001b[38;5;28;01mif\u001b[39;00m y_type \u001b[38;5;129;01mnot\u001b[39;00m \u001b[38;5;129;01min\u001b[39;00m [\n\u001b[0;32m    194\u001b[0m     \u001b[38;5;124m\"\u001b[39m\u001b[38;5;124mbinary\u001b[39m\u001b[38;5;124m\"\u001b[39m,\n\u001b[0;32m    195\u001b[0m     \u001b[38;5;124m\"\u001b[39m\u001b[38;5;124mmulticlass\u001b[39m\u001b[38;5;124m\"\u001b[39m,\n\u001b[1;32m   (...)\u001b[0m\n\u001b[0;32m    198\u001b[0m     \u001b[38;5;124m\"\u001b[39m\u001b[38;5;124mmultilabel-sequences\u001b[39m\u001b[38;5;124m\"\u001b[39m,\n\u001b[0;32m    199\u001b[0m ]:\n\u001b[1;32m--> 200\u001b[0m     \u001b[38;5;28;01mraise\u001b[39;00m \u001b[38;5;167;01mValueError\u001b[39;00m(\u001b[38;5;124m\"\u001b[39m\u001b[38;5;124mUnknown label type: \u001b[39m\u001b[38;5;132;01m%r\u001b[39;00m\u001b[38;5;124m\"\u001b[39m \u001b[38;5;241m%\u001b[39m y_type)\n",
      "\u001b[1;31mValueError\u001b[0m: Unknown label type: 'continuous'"
     ]
    }
   ],
   "source": [
    "for_read_csvs(\"동양생명\")"
   ]
  },
  {
   "cell_type": "code",
   "execution_count": 18,
   "id": "f19be42e",
   "metadata": {
    "ExecuteTime": {
     "end_time": "2022-07-13T00:06:20.416097Z",
     "start_time": "2022-07-13T00:06:20.276474Z"
    }
   },
   "outputs": [
    {
     "ename": "AttributeError",
     "evalue": "'LogisticRegression' object has no attribute 'coef_'",
     "output_type": "error",
     "traceback": [
      "\u001b[1;31m---------------------------------------------------------------------------\u001b[0m",
      "\u001b[1;31mAttributeError\u001b[0m                            Traceback (most recent call last)",
      "Input \u001b[1;32mIn [18]\u001b[0m, in \u001b[0;36m<cell line: 1>\u001b[1;34m()\u001b[0m\n\u001b[1;32m----> 1\u001b[0m \u001b[43mmodel\u001b[49m\u001b[38;5;241;43m.\u001b[39;49m\u001b[43mcoef_\u001b[49m\n",
      "\u001b[1;31mAttributeError\u001b[0m: 'LogisticRegression' object has no attribute 'coef_'"
     ]
    }
   ],
   "source": [
    "model.coef_"
   ]
  },
  {
   "cell_type": "code",
   "execution_count": null,
   "id": "14e1ef23",
   "metadata": {},
   "outputs": [],
   "source": [
    "from sklearn.model_selection import GridSearchCV\n",
    "\n",
    "# 주요 파라메터 (C)\n",
    "# C 값 (기본값 = 1)\n",
    "# C 값이 작으면 Penalty 강해짐 (단순 모델)\n",
    "# C 값이 크면 Penalty 약해짐 (정규화 없어짐)\n",
    "# 보통 로그스케일로 지정(10배씩) = 0.01, 0.1, 1, 10\n",
    "\n",
    "# penalty\n",
    "# L2: Ridge, 일반적으로 사용 (default)\n",
    "# L1: LASSO, 변수가 많아서 줄여야할 때 사용, 모델의 단순화 및 해석에 용이\n",
    "params={'penalty':['l2', 'l1'],\n",
    "       'C':[0.001, 0.01, 0.1, 1, 10, 100]}\n",
    "\n",
    "grid_clf = GridSearchCV(model, param_grid=params, scoring='accuracy', cv=5)\n",
    "\n",
    "grid_clf.fit(X_train, y_train)\n",
    "print('최적 하이퍼 파라미터:{0}, 최적 평균 정확도:{1:.3f}'.format(grid_clf.best_params_, \n",
    "                                                                    grid_clf.best_score_))"
   ]
  },
  {
   "cell_type": "code",
   "execution_count": null,
   "id": "30d7dd11",
   "metadata": {},
   "outputs": [],
   "source": [
    "from sklearn import metrics \n",
    "import matplotlib.pyplot as plt\n",
    "\n",
    "# TPR(재현율) = 민감도\n",
    "# TNR = 특이성 \n",
    "metrics.plot_roc_curve(grid_clf, X_test, y_test)\n",
    "\n",
    "plt.plot([0,1], [0,1], 'k--')\n",
    "plt.show()"
   ]
  },
  {
   "cell_type": "code",
   "execution_count": null,
   "id": "6cf07422",
   "metadata": {},
   "outputs": [],
   "source": [
    "from sklearn.metrics import precision_score, accuracy_score, recall_score\n",
    "\n",
    "dpredictions = grid_clf.predict(X_test)\n",
    "\n",
    "precision = precision_score(y_test, dpredictions)\n",
    "accuracy = accuracy_score(y_test, dpredictions)\n",
    "recall = recall_score(y_test, dpredictions)\n",
    "\n",
    "print('테스트 세트에서의 LogisticRegression 정밀도 : {0:.4f}'.format(precision))\n",
    "print('테스트 세트에서의 LogisticRegression 정확도 : {0:.4f}'.format(accuracy))\n",
    "print('테스트 세트에서의 LogisticRegression 재현율 : {0:.4f}'.format(recall))"
   ]
  }
 ],
 "metadata": {
  "kernelspec": {
   "display_name": "Python 3 (ipykernel)",
   "language": "python",
   "name": "python3"
  },
  "language_info": {
   "codemirror_mode": {
    "name": "ipython",
    "version": 3
   },
   "file_extension": ".py",
   "mimetype": "text/x-python",
   "name": "python",
   "nbconvert_exporter": "python",
   "pygments_lexer": "ipython3",
   "version": "3.10.1"
  },
  "toc": {
   "base_numbering": 1,
   "nav_menu": {},
   "number_sections": true,
   "sideBar": true,
   "skip_h1_title": false,
   "title_cell": "Table of Contents",
   "title_sidebar": "Contents",
   "toc_cell": false,
   "toc_position": {},
   "toc_section_display": true,
   "toc_window_display": false
  }
 },
 "nbformat": 4,
 "nbformat_minor": 5
}
