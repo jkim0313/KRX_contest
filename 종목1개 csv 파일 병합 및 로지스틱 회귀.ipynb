{
 "cells": [
  {
   "cell_type": "code",
   "execution_count": 106,
   "id": "8a377699",
   "metadata": {
    "ExecuteTime": {
     "end_time": "2022-07-11T10:13:58.026006Z",
     "start_time": "2022-07-11T10:13:57.803184Z"
    }
   },
   "outputs": [
    {
     "data": {
      "text/html": [
       "<div>\n",
       "<style scoped>\n",
       "    .dataframe tbody tr th:only-of-type {\n",
       "        vertical-align: middle;\n",
       "    }\n",
       "\n",
       "    .dataframe tbody tr th {\n",
       "        vertical-align: top;\n",
       "    }\n",
       "\n",
       "    .dataframe thead th {\n",
       "        text-align: right;\n",
       "    }\n",
       "</style>\n",
       "<table border=\"1\" class=\"dataframe\">\n",
       "  <thead>\n",
       "    <tr style=\"text-align: right;\">\n",
       "      <th></th>\n",
       "      <th>날짜</th>\n",
       "      <th>외국인 보유수량</th>\n",
       "      <th>외국인 지분율</th>\n",
       "      <th>외국인 한도수량</th>\n",
       "      <th>외국인 한도소진율</th>\n",
       "      <th>등락률</th>\n",
       "      <th>코스피 등락률</th>\n",
       "      <th>변동성</th>\n",
       "    </tr>\n",
       "  </thead>\n",
       "  <tbody>\n",
       "    <tr>\n",
       "      <th>241</th>\n",
       "      <td>2019/12/23</td>\n",
       "      <td>135259525</td>\n",
       "      <td>83.83</td>\n",
       "      <td>161358585</td>\n",
       "      <td>83.83</td>\n",
       "      <td>2.49</td>\n",
       "      <td>-0.02</td>\n",
       "      <td>0</td>\n",
       "    </tr>\n",
       "    <tr>\n",
       "      <th>242</th>\n",
       "      <td>2019/12/24</td>\n",
       "      <td>135264893</td>\n",
       "      <td>83.83</td>\n",
       "      <td>161358585</td>\n",
       "      <td>83.83</td>\n",
       "      <td>2.66</td>\n",
       "      <td>-0.62</td>\n",
       "      <td>0</td>\n",
       "    </tr>\n",
       "    <tr>\n",
       "      <th>243</th>\n",
       "      <td>2019/12/26</td>\n",
       "      <td>135250538</td>\n",
       "      <td>83.82</td>\n",
       "      <td>161358585</td>\n",
       "      <td>83.82</td>\n",
       "      <td>0.56</td>\n",
       "      <td>0.36</td>\n",
       "      <td>1</td>\n",
       "    </tr>\n",
       "    <tr>\n",
       "      <th>244</th>\n",
       "      <td>2019/12/27</td>\n",
       "      <td>135210237</td>\n",
       "      <td>83.79</td>\n",
       "      <td>161358585</td>\n",
       "      <td>83.79</td>\n",
       "      <td>-8.74</td>\n",
       "      <td>0.29</td>\n",
       "      <td>0</td>\n",
       "    </tr>\n",
       "    <tr>\n",
       "      <th>245</th>\n",
       "      <td>2019/12/30</td>\n",
       "      <td>135113161</td>\n",
       "      <td>83.73</td>\n",
       "      <td>161358585</td>\n",
       "      <td>83.73</td>\n",
       "      <td>-1.72</td>\n",
       "      <td>-0.30</td>\n",
       "      <td>1</td>\n",
       "    </tr>\n",
       "  </tbody>\n",
       "</table>\n",
       "</div>"
      ],
      "text/plain": [
       "             날짜   외국인 보유수량  외국인 지분율   외국인 한도수량  외국인 한도소진율   등락률  코스피 등락률  변동성\n",
       "241  2019/12/23  135259525    83.83  161358585      83.83  2.49    -0.02    0\n",
       "242  2019/12/24  135264893    83.83  161358585      83.83  2.66    -0.62    0\n",
       "243  2019/12/26  135250538    83.82  161358585      83.82  0.56     0.36    1\n",
       "244  2019/12/27  135210237    83.79  161358585      83.79 -8.74     0.29    0\n",
       "245  2019/12/30  135113161    83.73  161358585      83.73 -1.72    -0.30    1"
      ]
     },
     "execution_count": 106,
     "metadata": {},
     "output_type": "execute_result"
    }
   ],
   "source": [
    "import pandas as pd\n",
    "\n",
    "dy_2019_kospi = pd.read_csv('./csv/2019_동양생명_코스피등락률.csv', encoding='CP949')\n",
    "dy_2020_kospi = pd.read_csv('./csv/2020_동양생명_코스피등락률.csv', encoding='CP949')\n",
    "dy_2021_kospi = pd.read_csv('./csv/2021_동양생명_코스피등락률.csv', encoding='CP949')\n",
    "dy_2022_kospi = pd.read_csv('./csv/2022_동양생명_코스피등락률.csv', encoding='CP949')\n",
    "dy_2019_kospi.tail()"
   ]
  },
  {
   "cell_type": "code",
   "execution_count": 108,
   "id": "31e95c76",
   "metadata": {
    "ExecuteTime": {
     "end_time": "2022-07-11T10:14:04.870805Z",
     "start_time": "2022-07-11T10:14:04.847865Z"
    },
    "scrolled": true
   },
   "outputs": [
    {
     "data": {
      "text/html": [
       "<div>\n",
       "<style scoped>\n",
       "    .dataframe tbody tr th:only-of-type {\n",
       "        vertical-align: middle;\n",
       "    }\n",
       "\n",
       "    .dataframe tbody tr th {\n",
       "        vertical-align: top;\n",
       "    }\n",
       "\n",
       "    .dataframe thead th {\n",
       "        text-align: right;\n",
       "    }\n",
       "</style>\n",
       "<table border=\"1\" class=\"dataframe\">\n",
       "  <thead>\n",
       "    <tr style=\"text-align: right;\">\n",
       "      <th></th>\n",
       "      <th>날짜</th>\n",
       "      <th>외국인 보유수량</th>\n",
       "      <th>외국인 지분율</th>\n",
       "      <th>외국인 한도수량</th>\n",
       "      <th>외국인 한도소진율</th>\n",
       "      <th>등락률</th>\n",
       "      <th>코스피 등락률</th>\n",
       "      <th>변동성</th>\n",
       "    </tr>\n",
       "  </thead>\n",
       "  <tbody>\n",
       "    <tr>\n",
       "      <th>243</th>\n",
       "      <td>2020/12/23</td>\n",
       "      <td>135109625</td>\n",
       "      <td>83.73</td>\n",
       "      <td>161358585</td>\n",
       "      <td>83.73</td>\n",
       "      <td>-0.81</td>\n",
       "      <td>0.96</td>\n",
       "      <td>0</td>\n",
       "    </tr>\n",
       "    <tr>\n",
       "      <th>244</th>\n",
       "      <td>2020/12/24</td>\n",
       "      <td>135094332</td>\n",
       "      <td>83.72</td>\n",
       "      <td>161358585</td>\n",
       "      <td>83.72</td>\n",
       "      <td>1.22</td>\n",
       "      <td>1.70</td>\n",
       "      <td>1</td>\n",
       "    </tr>\n",
       "    <tr>\n",
       "      <th>245</th>\n",
       "      <td>2020/12/28</td>\n",
       "      <td>135144135</td>\n",
       "      <td>83.75</td>\n",
       "      <td>161358585</td>\n",
       "      <td>83.75</td>\n",
       "      <td>-0.40</td>\n",
       "      <td>0.06</td>\n",
       "      <td>0</td>\n",
       "    </tr>\n",
       "    <tr>\n",
       "      <th>246</th>\n",
       "      <td>2020/12/29</td>\n",
       "      <td>135132818</td>\n",
       "      <td>83.75</td>\n",
       "      <td>161358585</td>\n",
       "      <td>83.75</td>\n",
       "      <td>-5.12</td>\n",
       "      <td>0.42</td>\n",
       "      <td>0</td>\n",
       "    </tr>\n",
       "    <tr>\n",
       "      <th>247</th>\n",
       "      <td>2020/12/30</td>\n",
       "      <td>135078636</td>\n",
       "      <td>83.71</td>\n",
       "      <td>161358585</td>\n",
       "      <td>83.71</td>\n",
       "      <td>0.00</td>\n",
       "      <td>1.88</td>\n",
       "      <td>0</td>\n",
       "    </tr>\n",
       "  </tbody>\n",
       "</table>\n",
       "</div>"
      ],
      "text/plain": [
       "             날짜   외국인 보유수량  외국인 지분율   외국인 한도수량  외국인 한도소진율   등락률  코스피 등락률  변동성\n",
       "243  2020/12/23  135109625    83.73  161358585      83.73 -0.81     0.96    0\n",
       "244  2020/12/24  135094332    83.72  161358585      83.72  1.22     1.70    1\n",
       "245  2020/12/28  135144135    83.75  161358585      83.75 -0.40     0.06    0\n",
       "246  2020/12/29  135132818    83.75  161358585      83.75 -5.12     0.42    0\n",
       "247  2020/12/30  135078636    83.71  161358585      83.71  0.00     1.88    0"
      ]
     },
     "execution_count": 108,
     "metadata": {},
     "output_type": "execute_result"
    }
   ],
   "source": [
    "dy_2020_kospi.tail()"
   ]
  },
  {
   "cell_type": "code",
   "execution_count": 79,
   "id": "4cf0fb63",
   "metadata": {
    "ExecuteTime": {
     "end_time": "2022-07-11T07:00:11.092688Z",
     "start_time": "2022-07-11T07:00:11.054790Z"
    }
   },
   "outputs": [
    {
     "data": {
      "text/html": [
       "<div>\n",
       "<style scoped>\n",
       "    .dataframe tbody tr th:only-of-type {\n",
       "        vertical-align: middle;\n",
       "    }\n",
       "\n",
       "    .dataframe tbody tr th {\n",
       "        vertical-align: top;\n",
       "    }\n",
       "\n",
       "    .dataframe thead th {\n",
       "        text-align: right;\n",
       "    }\n",
       "</style>\n",
       "<table border=\"1\" class=\"dataframe\">\n",
       "  <thead>\n",
       "    <tr style=\"text-align: right;\">\n",
       "      <th></th>\n",
       "      <th>날짜</th>\n",
       "      <th>외국인 보유수량</th>\n",
       "      <th>외국인 지분율</th>\n",
       "      <th>외국인 한도수량</th>\n",
       "      <th>외국인 한도소진율</th>\n",
       "      <th>등락률</th>\n",
       "      <th>코스피 등락률</th>\n",
       "      <th>변동성</th>\n",
       "    </tr>\n",
       "  </thead>\n",
       "  <tbody>\n",
       "    <tr>\n",
       "      <th>0</th>\n",
       "      <td>2022/01/03</td>\n",
       "      <td>97515444</td>\n",
       "      <td>44.56</td>\n",
       "      <td>107228241</td>\n",
       "      <td>90.94</td>\n",
       "      <td>-1.21</td>\n",
       "      <td>0.33</td>\n",
       "      <td>0</td>\n",
       "    </tr>\n",
       "    <tr>\n",
       "      <th>1</th>\n",
       "      <td>2022/01/04</td>\n",
       "      <td>97607907</td>\n",
       "      <td>44.60</td>\n",
       "      <td>107228241</td>\n",
       "      <td>91.03</td>\n",
       "      <td>0.00</td>\n",
       "      <td>-0.03</td>\n",
       "      <td>0</td>\n",
       "    </tr>\n",
       "    <tr>\n",
       "      <th>2</th>\n",
       "      <td>2022/01/05</td>\n",
       "      <td>97836628</td>\n",
       "      <td>44.71</td>\n",
       "      <td>107228241</td>\n",
       "      <td>91.24</td>\n",
       "      <td>1.92</td>\n",
       "      <td>-1.27</td>\n",
       "      <td>0</td>\n",
       "    </tr>\n",
       "    <tr>\n",
       "      <th>3</th>\n",
       "      <td>2022/01/06</td>\n",
       "      <td>97999559</td>\n",
       "      <td>44.78</td>\n",
       "      <td>107228241</td>\n",
       "      <td>91.39</td>\n",
       "      <td>-0.69</td>\n",
       "      <td>-1.07</td>\n",
       "      <td>1</td>\n",
       "    </tr>\n",
       "    <tr>\n",
       "      <th>4</th>\n",
       "      <td>2022/01/07</td>\n",
       "      <td>98210629</td>\n",
       "      <td>44.88</td>\n",
       "      <td>107228241</td>\n",
       "      <td>91.59</td>\n",
       "      <td>-2.59</td>\n",
       "      <td>1.20</td>\n",
       "      <td>0</td>\n",
       "    </tr>\n",
       "  </tbody>\n",
       "</table>\n",
       "</div>"
      ],
      "text/plain": [
       "           날짜  외국인 보유수량  외국인 지분율   외국인 한도수량  외국인 한도소진율   등락률  코스피 등락률  변동성\n",
       "0  2022/01/03  97515444    44.56  107228241      90.94 -1.21     0.33    0\n",
       "1  2022/01/04  97607907    44.60  107228241      91.03  0.00    -0.03    0\n",
       "2  2022/01/05  97836628    44.71  107228241      91.24  1.92    -1.27    0\n",
       "3  2022/01/06  97999559    44.78  107228241      91.39 -0.69    -1.07    1\n",
       "4  2022/01/07  98210629    44.88  107228241      91.59 -2.59     1.20    0"
      ]
     },
     "execution_count": 79,
     "metadata": {},
     "output_type": "execute_result"
    }
   ],
   "source": [
    "skt_2022_kospi.head()"
   ]
  },
  {
   "cell_type": "code",
   "execution_count": 109,
   "id": "ffc0bb87",
   "metadata": {
    "ExecuteTime": {
     "end_time": "2022-07-11T10:14:22.586034Z",
     "start_time": "2022-07-11T10:14:22.541121Z"
    }
   },
   "outputs": [
    {
     "data": {
      "text/html": [
       "<div>\n",
       "<style scoped>\n",
       "    .dataframe tbody tr th:only-of-type {\n",
       "        vertical-align: middle;\n",
       "    }\n",
       "\n",
       "    .dataframe tbody tr th {\n",
       "        vertical-align: top;\n",
       "    }\n",
       "\n",
       "    .dataframe thead th {\n",
       "        text-align: right;\n",
       "    }\n",
       "</style>\n",
       "<table border=\"1\" class=\"dataframe\">\n",
       "  <thead>\n",
       "    <tr style=\"text-align: right;\">\n",
       "      <th></th>\n",
       "      <th>날짜</th>\n",
       "      <th>외국인 보유수량</th>\n",
       "      <th>외국인 지분율</th>\n",
       "      <th>외국인 한도수량</th>\n",
       "      <th>외국인 한도소진율</th>\n",
       "      <th>등락률</th>\n",
       "      <th>코스피 등락률</th>\n",
       "      <th>변동성</th>\n",
       "    </tr>\n",
       "  </thead>\n",
       "  <tbody>\n",
       "    <tr>\n",
       "      <th>0</th>\n",
       "      <td>2019/01/02</td>\n",
       "      <td>136950344</td>\n",
       "      <td>84.87</td>\n",
       "      <td>161358585</td>\n",
       "      <td>84.87</td>\n",
       "      <td>-1.99</td>\n",
       "      <td>-1.52</td>\n",
       "      <td>1</td>\n",
       "    </tr>\n",
       "    <tr>\n",
       "      <th>1</th>\n",
       "      <td>2019/01/03</td>\n",
       "      <td>137075082</td>\n",
       "      <td>84.95</td>\n",
       "      <td>161358585</td>\n",
       "      <td>84.95</td>\n",
       "      <td>0.43</td>\n",
       "      <td>-0.81</td>\n",
       "      <td>0</td>\n",
       "    </tr>\n",
       "    <tr>\n",
       "      <th>2</th>\n",
       "      <td>2019/01/04</td>\n",
       "      <td>137137241</td>\n",
       "      <td>84.99</td>\n",
       "      <td>161358585</td>\n",
       "      <td>84.99</td>\n",
       "      <td>-1.17</td>\n",
       "      <td>0.83</td>\n",
       "      <td>0</td>\n",
       "    </tr>\n",
       "    <tr>\n",
       "      <th>3</th>\n",
       "      <td>2019/01/07</td>\n",
       "      <td>137151294</td>\n",
       "      <td>85.00</td>\n",
       "      <td>161358585</td>\n",
       "      <td>85.00</td>\n",
       "      <td>2.59</td>\n",
       "      <td>1.34</td>\n",
       "      <td>1</td>\n",
       "    </tr>\n",
       "    <tr>\n",
       "      <th>4</th>\n",
       "      <td>2019/01/08</td>\n",
       "      <td>137206211</td>\n",
       "      <td>85.03</td>\n",
       "      <td>161358585</td>\n",
       "      <td>85.03</td>\n",
       "      <td>-0.63</td>\n",
       "      <td>-0.58</td>\n",
       "      <td>1</td>\n",
       "    </tr>\n",
       "    <tr>\n",
       "      <th>...</th>\n",
       "      <td>...</td>\n",
       "      <td>...</td>\n",
       "      <td>...</td>\n",
       "      <td>...</td>\n",
       "      <td>...</td>\n",
       "      <td>...</td>\n",
       "      <td>...</td>\n",
       "      <td>...</td>\n",
       "    </tr>\n",
       "    <tr>\n",
       "      <th>489</th>\n",
       "      <td>2020/12/23</td>\n",
       "      <td>135109625</td>\n",
       "      <td>83.73</td>\n",
       "      <td>161358585</td>\n",
       "      <td>83.73</td>\n",
       "      <td>-0.81</td>\n",
       "      <td>0.96</td>\n",
       "      <td>0</td>\n",
       "    </tr>\n",
       "    <tr>\n",
       "      <th>490</th>\n",
       "      <td>2020/12/24</td>\n",
       "      <td>135094332</td>\n",
       "      <td>83.72</td>\n",
       "      <td>161358585</td>\n",
       "      <td>83.72</td>\n",
       "      <td>1.22</td>\n",
       "      <td>1.70</td>\n",
       "      <td>1</td>\n",
       "    </tr>\n",
       "    <tr>\n",
       "      <th>491</th>\n",
       "      <td>2020/12/28</td>\n",
       "      <td>135144135</td>\n",
       "      <td>83.75</td>\n",
       "      <td>161358585</td>\n",
       "      <td>83.75</td>\n",
       "      <td>-0.40</td>\n",
       "      <td>0.06</td>\n",
       "      <td>0</td>\n",
       "    </tr>\n",
       "    <tr>\n",
       "      <th>492</th>\n",
       "      <td>2020/12/29</td>\n",
       "      <td>135132818</td>\n",
       "      <td>83.75</td>\n",
       "      <td>161358585</td>\n",
       "      <td>83.75</td>\n",
       "      <td>-5.12</td>\n",
       "      <td>0.42</td>\n",
       "      <td>0</td>\n",
       "    </tr>\n",
       "    <tr>\n",
       "      <th>493</th>\n",
       "      <td>2020/12/30</td>\n",
       "      <td>135078636</td>\n",
       "      <td>83.71</td>\n",
       "      <td>161358585</td>\n",
       "      <td>83.71</td>\n",
       "      <td>0.00</td>\n",
       "      <td>1.88</td>\n",
       "      <td>0</td>\n",
       "    </tr>\n",
       "  </tbody>\n",
       "</table>\n",
       "<p>494 rows × 8 columns</p>\n",
       "</div>"
      ],
      "text/plain": [
       "             날짜   외국인 보유수량  외국인 지분율   외국인 한도수량  외국인 한도소진율   등락률  코스피 등락률  변동성\n",
       "0    2019/01/02  136950344    84.87  161358585      84.87 -1.99    -1.52    1\n",
       "1    2019/01/03  137075082    84.95  161358585      84.95  0.43    -0.81    0\n",
       "2    2019/01/04  137137241    84.99  161358585      84.99 -1.17     0.83    0\n",
       "3    2019/01/07  137151294    85.00  161358585      85.00  2.59     1.34    1\n",
       "4    2019/01/08  137206211    85.03  161358585      85.03 -0.63    -0.58    1\n",
       "..          ...        ...      ...        ...        ...   ...      ...  ...\n",
       "489  2020/12/23  135109625    83.73  161358585      83.73 -0.81     0.96    0\n",
       "490  2020/12/24  135094332    83.72  161358585      83.72  1.22     1.70    1\n",
       "491  2020/12/28  135144135    83.75  161358585      83.75 -0.40     0.06    0\n",
       "492  2020/12/29  135132818    83.75  161358585      83.75 -5.12     0.42    0\n",
       "493  2020/12/30  135078636    83.71  161358585      83.71  0.00     1.88    0\n",
       "\n",
       "[494 rows x 8 columns]"
      ]
     },
     "execution_count": 109,
     "metadata": {},
     "output_type": "execute_result"
    }
   ],
   "source": [
    "dy_1920_kospi = pd.concat([dy_2019_kospi, dy_2020_kospi])\n",
    "dy_1920_kospi.reset_index(drop=True, inplace=True)\n",
    "\n",
    "dy_1920_kospi"
   ]
  },
  {
   "cell_type": "code",
   "execution_count": 110,
   "id": "faf28ba3",
   "metadata": {
    "ExecuteTime": {
     "end_time": "2022-07-11T10:14:34.291912Z",
     "start_time": "2022-07-11T10:14:34.253017Z"
    },
    "scrolled": true
   },
   "outputs": [
    {
     "data": {
      "text/html": [
       "<div>\n",
       "<style scoped>\n",
       "    .dataframe tbody tr th:only-of-type {\n",
       "        vertical-align: middle;\n",
       "    }\n",
       "\n",
       "    .dataframe tbody tr th {\n",
       "        vertical-align: top;\n",
       "    }\n",
       "\n",
       "    .dataframe thead th {\n",
       "        text-align: right;\n",
       "    }\n",
       "</style>\n",
       "<table border=\"1\" class=\"dataframe\">\n",
       "  <thead>\n",
       "    <tr style=\"text-align: right;\">\n",
       "      <th></th>\n",
       "      <th>날짜</th>\n",
       "      <th>외국인 보유수량</th>\n",
       "      <th>외국인 지분율</th>\n",
       "      <th>외국인 한도수량</th>\n",
       "      <th>외국인 한도소진율</th>\n",
       "      <th>등락률</th>\n",
       "      <th>코스피 등락률</th>\n",
       "      <th>변동성</th>\n",
       "    </tr>\n",
       "  </thead>\n",
       "  <tbody>\n",
       "    <tr>\n",
       "      <th>0</th>\n",
       "      <td>2019/01/02</td>\n",
       "      <td>136950344</td>\n",
       "      <td>84.87</td>\n",
       "      <td>161358585</td>\n",
       "      <td>84.87</td>\n",
       "      <td>-1.99</td>\n",
       "      <td>-1.52</td>\n",
       "      <td>1</td>\n",
       "    </tr>\n",
       "    <tr>\n",
       "      <th>1</th>\n",
       "      <td>2019/01/03</td>\n",
       "      <td>137075082</td>\n",
       "      <td>84.95</td>\n",
       "      <td>161358585</td>\n",
       "      <td>84.95</td>\n",
       "      <td>0.43</td>\n",
       "      <td>-0.81</td>\n",
       "      <td>0</td>\n",
       "    </tr>\n",
       "    <tr>\n",
       "      <th>2</th>\n",
       "      <td>2019/01/04</td>\n",
       "      <td>137137241</td>\n",
       "      <td>84.99</td>\n",
       "      <td>161358585</td>\n",
       "      <td>84.99</td>\n",
       "      <td>-1.17</td>\n",
       "      <td>0.83</td>\n",
       "      <td>0</td>\n",
       "    </tr>\n",
       "    <tr>\n",
       "      <th>3</th>\n",
       "      <td>2019/01/07</td>\n",
       "      <td>137151294</td>\n",
       "      <td>85.00</td>\n",
       "      <td>161358585</td>\n",
       "      <td>85.00</td>\n",
       "      <td>2.59</td>\n",
       "      <td>1.34</td>\n",
       "      <td>1</td>\n",
       "    </tr>\n",
       "    <tr>\n",
       "      <th>4</th>\n",
       "      <td>2019/01/08</td>\n",
       "      <td>137206211</td>\n",
       "      <td>85.03</td>\n",
       "      <td>161358585</td>\n",
       "      <td>85.03</td>\n",
       "      <td>-0.63</td>\n",
       "      <td>-0.58</td>\n",
       "      <td>1</td>\n",
       "    </tr>\n",
       "    <tr>\n",
       "      <th>...</th>\n",
       "      <td>...</td>\n",
       "      <td>...</td>\n",
       "      <td>...</td>\n",
       "      <td>...</td>\n",
       "      <td>...</td>\n",
       "      <td>...</td>\n",
       "      <td>...</td>\n",
       "      <td>...</td>\n",
       "    </tr>\n",
       "    <tr>\n",
       "      <th>737</th>\n",
       "      <td>2021/12/24</td>\n",
       "      <td>132994634</td>\n",
       "      <td>82.42</td>\n",
       "      <td>161358585</td>\n",
       "      <td>82.42</td>\n",
       "      <td>0.29</td>\n",
       "      <td>0.48</td>\n",
       "      <td>1</td>\n",
       "    </tr>\n",
       "    <tr>\n",
       "      <th>738</th>\n",
       "      <td>2021/12/27</td>\n",
       "      <td>133000798</td>\n",
       "      <td>82.43</td>\n",
       "      <td>161358585</td>\n",
       "      <td>82.43</td>\n",
       "      <td>0.87</td>\n",
       "      <td>-0.43</td>\n",
       "      <td>0</td>\n",
       "    </tr>\n",
       "    <tr>\n",
       "      <th>739</th>\n",
       "      <td>2021/12/28</td>\n",
       "      <td>133005327</td>\n",
       "      <td>82.43</td>\n",
       "      <td>161358585</td>\n",
       "      <td>82.43</td>\n",
       "      <td>0.72</td>\n",
       "      <td>0.69</td>\n",
       "      <td>1</td>\n",
       "    </tr>\n",
       "    <tr>\n",
       "      <th>740</th>\n",
       "      <td>2021/12/29</td>\n",
       "      <td>133065368</td>\n",
       "      <td>82.47</td>\n",
       "      <td>161358585</td>\n",
       "      <td>82.47</td>\n",
       "      <td>-3.87</td>\n",
       "      <td>-0.89</td>\n",
       "      <td>1</td>\n",
       "    </tr>\n",
       "    <tr>\n",
       "      <th>741</th>\n",
       "      <td>2021/12/30</td>\n",
       "      <td>133088589</td>\n",
       "      <td>82.48</td>\n",
       "      <td>161358585</td>\n",
       "      <td>82.48</td>\n",
       "      <td>-1.64</td>\n",
       "      <td>-0.52</td>\n",
       "      <td>1</td>\n",
       "    </tr>\n",
       "  </tbody>\n",
       "</table>\n",
       "<p>742 rows × 8 columns</p>\n",
       "</div>"
      ],
      "text/plain": [
       "             날짜   외국인 보유수량  외국인 지분율   외국인 한도수량  외국인 한도소진율   등락률  코스피 등락률  변동성\n",
       "0    2019/01/02  136950344    84.87  161358585      84.87 -1.99    -1.52    1\n",
       "1    2019/01/03  137075082    84.95  161358585      84.95  0.43    -0.81    0\n",
       "2    2019/01/04  137137241    84.99  161358585      84.99 -1.17     0.83    0\n",
       "3    2019/01/07  137151294    85.00  161358585      85.00  2.59     1.34    1\n",
       "4    2019/01/08  137206211    85.03  161358585      85.03 -0.63    -0.58    1\n",
       "..          ...        ...      ...        ...        ...   ...      ...  ...\n",
       "737  2021/12/24  132994634    82.42  161358585      82.42  0.29     0.48    1\n",
       "738  2021/12/27  133000798    82.43  161358585      82.43  0.87    -0.43    0\n",
       "739  2021/12/28  133005327    82.43  161358585      82.43  0.72     0.69    1\n",
       "740  2021/12/29  133065368    82.47  161358585      82.47 -3.87    -0.89    1\n",
       "741  2021/12/30  133088589    82.48  161358585      82.48 -1.64    -0.52    1\n",
       "\n",
       "[742 rows x 8 columns]"
      ]
     },
     "execution_count": 110,
     "metadata": {},
     "output_type": "execute_result"
    }
   ],
   "source": [
    "dy_192021_kospi = pd.concat([dy_1920_kospi, dy_2021_kospi])\n",
    "dy_192021_kospi.reset_index(drop=True, inplace=True)\n",
    "\n",
    "dy_192021_kospi"
   ]
  },
  {
   "cell_type": "code",
   "execution_count": 111,
   "id": "95f145f3",
   "metadata": {
    "ExecuteTime": {
     "end_time": "2022-07-11T10:14:41.301098Z",
     "start_time": "2022-07-11T10:14:41.253228Z"
    }
   },
   "outputs": [
    {
     "data": {
      "text/html": [
       "<div>\n",
       "<style scoped>\n",
       "    .dataframe tbody tr th:only-of-type {\n",
       "        vertical-align: middle;\n",
       "    }\n",
       "\n",
       "    .dataframe tbody tr th {\n",
       "        vertical-align: top;\n",
       "    }\n",
       "\n",
       "    .dataframe thead th {\n",
       "        text-align: right;\n",
       "    }\n",
       "</style>\n",
       "<table border=\"1\" class=\"dataframe\">\n",
       "  <thead>\n",
       "    <tr style=\"text-align: right;\">\n",
       "      <th></th>\n",
       "      <th>날짜</th>\n",
       "      <th>외국인 보유수량</th>\n",
       "      <th>외국인 지분율</th>\n",
       "      <th>외국인 한도수량</th>\n",
       "      <th>외국인 한도소진율</th>\n",
       "      <th>등락률</th>\n",
       "      <th>코스피 등락률</th>\n",
       "      <th>변동성</th>\n",
       "    </tr>\n",
       "  </thead>\n",
       "  <tbody>\n",
       "    <tr>\n",
       "      <th>0</th>\n",
       "      <td>2019/01/02</td>\n",
       "      <td>136950344</td>\n",
       "      <td>84.87</td>\n",
       "      <td>161358585</td>\n",
       "      <td>84.87</td>\n",
       "      <td>-1.99</td>\n",
       "      <td>-1.52</td>\n",
       "      <td>1</td>\n",
       "    </tr>\n",
       "    <tr>\n",
       "      <th>1</th>\n",
       "      <td>2019/01/03</td>\n",
       "      <td>137075082</td>\n",
       "      <td>84.95</td>\n",
       "      <td>161358585</td>\n",
       "      <td>84.95</td>\n",
       "      <td>0.43</td>\n",
       "      <td>-0.81</td>\n",
       "      <td>0</td>\n",
       "    </tr>\n",
       "    <tr>\n",
       "      <th>2</th>\n",
       "      <td>2019/01/04</td>\n",
       "      <td>137137241</td>\n",
       "      <td>84.99</td>\n",
       "      <td>161358585</td>\n",
       "      <td>84.99</td>\n",
       "      <td>-1.17</td>\n",
       "      <td>0.83</td>\n",
       "      <td>0</td>\n",
       "    </tr>\n",
       "    <tr>\n",
       "      <th>3</th>\n",
       "      <td>2019/01/07</td>\n",
       "      <td>137151294</td>\n",
       "      <td>85.00</td>\n",
       "      <td>161358585</td>\n",
       "      <td>85.00</td>\n",
       "      <td>2.59</td>\n",
       "      <td>1.34</td>\n",
       "      <td>1</td>\n",
       "    </tr>\n",
       "    <tr>\n",
       "      <th>4</th>\n",
       "      <td>2019/01/08</td>\n",
       "      <td>137206211</td>\n",
       "      <td>85.03</td>\n",
       "      <td>161358585</td>\n",
       "      <td>85.03</td>\n",
       "      <td>-0.63</td>\n",
       "      <td>-0.58</td>\n",
       "      <td>1</td>\n",
       "    </tr>\n",
       "    <tr>\n",
       "      <th>...</th>\n",
       "      <td>...</td>\n",
       "      <td>...</td>\n",
       "      <td>...</td>\n",
       "      <td>...</td>\n",
       "      <td>...</td>\n",
       "      <td>...</td>\n",
       "      <td>...</td>\n",
       "      <td>...</td>\n",
       "    </tr>\n",
       "    <tr>\n",
       "      <th>864</th>\n",
       "      <td>2022/07/04</td>\n",
       "      <td>132670075</td>\n",
       "      <td>82.22</td>\n",
       "      <td>161358585</td>\n",
       "      <td>82.22</td>\n",
       "      <td>0.71</td>\n",
       "      <td>0.00</td>\n",
       "      <td>0</td>\n",
       "    </tr>\n",
       "    <tr>\n",
       "      <th>865</th>\n",
       "      <td>2022/07/05</td>\n",
       "      <td>132669123</td>\n",
       "      <td>82.22</td>\n",
       "      <td>161358585</td>\n",
       "      <td>82.22</td>\n",
       "      <td>0.53</td>\n",
       "      <td>1.65</td>\n",
       "      <td>1</td>\n",
       "    </tr>\n",
       "    <tr>\n",
       "      <th>866</th>\n",
       "      <td>2022/07/06</td>\n",
       "      <td>132686778</td>\n",
       "      <td>82.23</td>\n",
       "      <td>161358585</td>\n",
       "      <td>82.23</td>\n",
       "      <td>-0.70</td>\n",
       "      <td>-2.18</td>\n",
       "      <td>1</td>\n",
       "    </tr>\n",
       "    <tr>\n",
       "      <th>867</th>\n",
       "      <td>2022/07/07</td>\n",
       "      <td>132706043</td>\n",
       "      <td>82.24</td>\n",
       "      <td>161358585</td>\n",
       "      <td>82.24</td>\n",
       "      <td>-1.06</td>\n",
       "      <td>1.99</td>\n",
       "      <td>0</td>\n",
       "    </tr>\n",
       "    <tr>\n",
       "      <th>868</th>\n",
       "      <td>2022/07/08</td>\n",
       "      <td>132696576</td>\n",
       "      <td>82.24</td>\n",
       "      <td>161358585</td>\n",
       "      <td>82.24</td>\n",
       "      <td>-0.36</td>\n",
       "      <td>0.60</td>\n",
       "      <td>0</td>\n",
       "    </tr>\n",
       "  </tbody>\n",
       "</table>\n",
       "<p>869 rows × 8 columns</p>\n",
       "</div>"
      ],
      "text/plain": [
       "             날짜   외국인 보유수량  외국인 지분율   외국인 한도수량  외국인 한도소진율   등락률  코스피 등락률  변동성\n",
       "0    2019/01/02  136950344    84.87  161358585      84.87 -1.99    -1.52    1\n",
       "1    2019/01/03  137075082    84.95  161358585      84.95  0.43    -0.81    0\n",
       "2    2019/01/04  137137241    84.99  161358585      84.99 -1.17     0.83    0\n",
       "3    2019/01/07  137151294    85.00  161358585      85.00  2.59     1.34    1\n",
       "4    2019/01/08  137206211    85.03  161358585      85.03 -0.63    -0.58    1\n",
       "..          ...        ...      ...        ...        ...   ...      ...  ...\n",
       "864  2022/07/04  132670075    82.22  161358585      82.22  0.71     0.00    0\n",
       "865  2022/07/05  132669123    82.22  161358585      82.22  0.53     1.65    1\n",
       "866  2022/07/06  132686778    82.23  161358585      82.23 -0.70    -2.18    1\n",
       "867  2022/07/07  132706043    82.24  161358585      82.24 -1.06     1.99    0\n",
       "868  2022/07/08  132696576    82.24  161358585      82.24 -0.36     0.60    0\n",
       "\n",
       "[869 rows x 8 columns]"
      ]
     },
     "execution_count": 111,
     "metadata": {},
     "output_type": "execute_result"
    }
   ],
   "source": [
    "dy_19202122_kospi = pd.concat([dy_192021_kospi, dy_2022_kospi])\n",
    "dy_19202122_kospi.reset_index(drop=True, inplace=True)\n",
    "\n",
    "dy_19202122_kospi"
   ]
  },
  {
   "cell_type": "code",
   "execution_count": 112,
   "id": "20b8ca60",
   "metadata": {
    "ExecuteTime": {
     "end_time": "2022-07-11T10:14:44.122573Z",
     "start_time": "2022-07-11T10:14:44.115594Z"
    }
   },
   "outputs": [],
   "source": [
    "from sklearn.linear_model import LogisticRegression"
   ]
  },
  {
   "cell_type": "code",
   "execution_count": 113,
   "id": "72644988",
   "metadata": {
    "ExecuteTime": {
     "end_time": "2022-07-11T10:14:44.439727Z",
     "start_time": "2022-07-11T10:14:44.406816Z"
    }
   },
   "outputs": [
    {
     "data": {
      "text/plain": [
       "날짜           0\n",
       "외국인 보유수량     0\n",
       "외국인 지분율      0\n",
       "외국인 한도수량     0\n",
       "외국인 한도소진율    0\n",
       "등락률          0\n",
       "코스피 등락률      0\n",
       "변동성          0\n",
       "dtype: int64"
      ]
     },
     "execution_count": 113,
     "metadata": {},
     "output_type": "execute_result"
    }
   ],
   "source": [
    "skt_19202122_kospi.isna().sum()"
   ]
  },
  {
   "cell_type": "code",
   "execution_count": 43,
   "id": "0a15d22e",
   "metadata": {
    "ExecuteTime": {
     "end_time": "2022-07-11T02:24:34.519101Z",
     "start_time": "2022-07-11T02:24:34.500148Z"
    }
   },
   "outputs": [],
   "source": [
    "features = skt_19202122_kospi[[\"등락률\", \"코스피 등락률\"]]\n",
    "label = skt_19202122_kospi[[\"변동성\"]]"
   ]
  },
  {
   "cell_type": "code",
   "execution_count": 114,
   "id": "59685b1d",
   "metadata": {
    "ExecuteTime": {
     "end_time": "2022-07-11T10:14:54.426510Z",
     "start_time": "2022-07-11T10:14:54.397586Z"
    }
   },
   "outputs": [],
   "source": [
    "from sklearn.model_selection import train_test_split\n",
    "\n",
    "X_train = dy_192021_kospi[[\"등락률\", \"코스피 등락률\"]]\n",
    "X_test = dy_2022_kospi[[\"등락률\", \"코스피 등락률\"]]\n",
    "y_train = dy_192021_kospi[\"변동성\"]\n",
    "y_test = dy_2022_kospi[\"변동성\"]\n",
    "\n",
    "# X_train, X_test, y_train, y_test = train_test_split(features, label,\n",
    "#                                                    test_size = 0.2, random_state=11)"
   ]
  },
  {
   "cell_type": "code",
   "execution_count": 115,
   "id": "e8b036ee",
   "metadata": {
    "ExecuteTime": {
     "end_time": "2022-07-11T10:14:56.375337Z",
     "start_time": "2022-07-11T10:14:56.351398Z"
    }
   },
   "outputs": [],
   "source": [
    "from sklearn.preprocessing import StandardScaler\n",
    "\n",
    "# 서로 다른 변수의 값 범위를 일정한 수준으로 맞추기 위해\n",
    "# 평균이 0, 분산 1로 데이터 분포도 변환\n",
    "sscaler = StandardScaler()\n",
    "\n",
    "X_train = sscaler.fit_transform(X_train)\n",
    "X_test = sscaler.fit_transform(X_test)"
   ]
  },
  {
   "cell_type": "code",
   "execution_count": 116,
   "id": "d1562b97",
   "metadata": {
    "ExecuteTime": {
     "end_time": "2022-07-11T10:14:57.168220Z",
     "start_time": "2022-07-11T10:14:57.142288Z"
    }
   },
   "outputs": [
    {
     "data": {
      "text/plain": [
       "0      1\n",
       "1      0\n",
       "2      0\n",
       "3      1\n",
       "4      1\n",
       "      ..\n",
       "122    0\n",
       "123    1\n",
       "124    1\n",
       "125    0\n",
       "126    0\n",
       "Name: 변동성, Length: 127, dtype: int64"
      ]
     },
     "execution_count": 116,
     "metadata": {},
     "output_type": "execute_result"
    }
   ],
   "source": [
    "y_test"
   ]
  },
  {
   "cell_type": "code",
   "execution_count": 117,
   "id": "203d8149",
   "metadata": {
    "ExecuteTime": {
     "end_time": "2022-07-11T10:14:59.041223Z",
     "start_time": "2022-07-11T10:14:59.003328Z"
    }
   },
   "outputs": [
    {
     "data": {
      "text/html": [
       "<style>#sk-container-id-5 {color: black;background-color: white;}#sk-container-id-5 pre{padding: 0;}#sk-container-id-5 div.sk-toggleable {background-color: white;}#sk-container-id-5 label.sk-toggleable__label {cursor: pointer;display: block;width: 100%;margin-bottom: 0;padding: 0.3em;box-sizing: border-box;text-align: center;}#sk-container-id-5 label.sk-toggleable__label-arrow:before {content: \"▸\";float: left;margin-right: 0.25em;color: #696969;}#sk-container-id-5 label.sk-toggleable__label-arrow:hover:before {color: black;}#sk-container-id-5 div.sk-estimator:hover label.sk-toggleable__label-arrow:before {color: black;}#sk-container-id-5 div.sk-toggleable__content {max-height: 0;max-width: 0;overflow: hidden;text-align: left;background-color: #f0f8ff;}#sk-container-id-5 div.sk-toggleable__content pre {margin: 0.2em;color: black;border-radius: 0.25em;background-color: #f0f8ff;}#sk-container-id-5 input.sk-toggleable__control:checked~div.sk-toggleable__content {max-height: 200px;max-width: 100%;overflow: auto;}#sk-container-id-5 input.sk-toggleable__control:checked~label.sk-toggleable__label-arrow:before {content: \"▾\";}#sk-container-id-5 div.sk-estimator input.sk-toggleable__control:checked~label.sk-toggleable__label {background-color: #d4ebff;}#sk-container-id-5 div.sk-label input.sk-toggleable__control:checked~label.sk-toggleable__label {background-color: #d4ebff;}#sk-container-id-5 input.sk-hidden--visually {border: 0;clip: rect(1px 1px 1px 1px);clip: rect(1px, 1px, 1px, 1px);height: 1px;margin: -1px;overflow: hidden;padding: 0;position: absolute;width: 1px;}#sk-container-id-5 div.sk-estimator {font-family: monospace;background-color: #f0f8ff;border: 1px dotted black;border-radius: 0.25em;box-sizing: border-box;margin-bottom: 0.5em;}#sk-container-id-5 div.sk-estimator:hover {background-color: #d4ebff;}#sk-container-id-5 div.sk-parallel-item::after {content: \"\";width: 100%;border-bottom: 1px solid gray;flex-grow: 1;}#sk-container-id-5 div.sk-label:hover label.sk-toggleable__label {background-color: #d4ebff;}#sk-container-id-5 div.sk-serial::before {content: \"\";position: absolute;border-left: 1px solid gray;box-sizing: border-box;top: 0;bottom: 0;left: 50%;z-index: 0;}#sk-container-id-5 div.sk-serial {display: flex;flex-direction: column;align-items: center;background-color: white;padding-right: 0.2em;padding-left: 0.2em;position: relative;}#sk-container-id-5 div.sk-item {position: relative;z-index: 1;}#sk-container-id-5 div.sk-parallel {display: flex;align-items: stretch;justify-content: center;background-color: white;position: relative;}#sk-container-id-5 div.sk-item::before, #sk-container-id-5 div.sk-parallel-item::before {content: \"\";position: absolute;border-left: 1px solid gray;box-sizing: border-box;top: 0;bottom: 0;left: 50%;z-index: -1;}#sk-container-id-5 div.sk-parallel-item {display: flex;flex-direction: column;z-index: 1;position: relative;background-color: white;}#sk-container-id-5 div.sk-parallel-item:first-child::after {align-self: flex-end;width: 50%;}#sk-container-id-5 div.sk-parallel-item:last-child::after {align-self: flex-start;width: 50%;}#sk-container-id-5 div.sk-parallel-item:only-child::after {width: 0;}#sk-container-id-5 div.sk-dashed-wrapped {border: 1px dashed gray;margin: 0 0.4em 0.5em 0.4em;box-sizing: border-box;padding-bottom: 0.4em;background-color: white;}#sk-container-id-5 div.sk-label label {font-family: monospace;font-weight: bold;display: inline-block;line-height: 1.2em;}#sk-container-id-5 div.sk-label-container {text-align: center;}#sk-container-id-5 div.sk-container {/* jupyter's `normalize.less` sets `[hidden] { display: none; }` but bootstrap.min.css set `[hidden] { display: none !important; }` so we also need the `!important` here to be able to override the default hidden behavior on the sphinx rendered scikit-learn.org. See: https://github.com/scikit-learn/scikit-learn/issues/21755 */display: inline-block !important;position: relative;}#sk-container-id-5 div.sk-text-repr-fallback {display: none;}</style><div id=\"sk-container-id-5\" class=\"sk-top-container\"><div class=\"sk-text-repr-fallback\"><pre>LogisticRegression()</pre><b>In a Jupyter environment, please rerun this cell to show the HTML representation or trust the notebook. <br />On GitHub, the HTML representation is unable to render, please try loading this page with nbviewer.org.</b></div><div class=\"sk-container\" hidden><div class=\"sk-item\"><div class=\"sk-estimator sk-toggleable\"><input class=\"sk-toggleable__control sk-hidden--visually\" id=\"sk-estimator-id-5\" type=\"checkbox\" checked><label for=\"sk-estimator-id-5\" class=\"sk-toggleable__label sk-toggleable__label-arrow\">LogisticRegression</label><div class=\"sk-toggleable__content\"><pre>LogisticRegression()</pre></div></div></div></div></div>"
      ],
      "text/plain": [
       "LogisticRegression()"
      ]
     },
     "execution_count": 117,
     "metadata": {},
     "output_type": "execute_result"
    }
   ],
   "source": [
    "model = LogisticRegression()\n",
    "results = model.fit(X_train, y_train)\n",
    "results"
   ]
  },
  {
   "cell_type": "code",
   "execution_count": 118,
   "id": "1716b117",
   "metadata": {
    "ExecuteTime": {
     "end_time": "2022-07-11T10:14:59.516967Z",
     "start_time": "2022-07-11T10:14:59.506986Z"
    }
   },
   "outputs": [
    {
     "data": {
      "text/plain": [
       "array([1, 1, 1, 1, 1, 1, 1, 1, 1, 1, 1, 1, 1, 1, 1, 1, 1, 1, 1, 0, 1, 1,\n",
       "       1, 1, 1, 1, 1, 1, 1, 1, 1, 1, 1, 1, 1, 1, 1, 1, 1, 1, 1, 1, 1, 0,\n",
       "       1, 1, 1, 1, 1, 1, 1, 1, 1, 1, 1, 1, 1, 1, 1, 1, 1, 1, 1, 1, 1, 1,\n",
       "       1, 1, 1, 1, 1, 1, 1, 1, 1, 1, 1, 1, 1, 1, 1, 1, 1, 1, 1, 1, 1, 1,\n",
       "       1, 1, 1, 1, 1, 1, 1, 1, 1, 1, 1, 1, 1, 1, 1, 1, 1, 1, 1, 1, 1, 1,\n",
       "       1, 1, 1, 1, 1, 1, 1, 1, 1, 1, 1, 1, 1, 1, 1, 1, 1], dtype=int64)"
      ]
     },
     "execution_count": 118,
     "metadata": {},
     "output_type": "execute_result"
    }
   ],
   "source": [
    "model_pred = model.predict(X_test)\n",
    "model_pred"
   ]
  },
  {
   "cell_type": "code",
   "execution_count": 119,
   "id": "759747b1",
   "metadata": {
    "ExecuteTime": {
     "end_time": "2022-07-11T10:15:01.181519Z",
     "start_time": "2022-07-11T10:15:01.160573Z"
    }
   },
   "outputs": [
    {
     "name": "stdout",
     "output_type": "stream",
     "text": [
      "roc_auc:  0.48717948717948717\n"
     ]
    }
   ],
   "source": [
    "from sklearn.metrics import roc_auc_score\n",
    "\n",
    "print(\"roc_auc: \", roc_auc_score(y_test, model_pred))"
   ]
  },
  {
   "cell_type": "code",
   "execution_count": 120,
   "id": "89406196",
   "metadata": {
    "ExecuteTime": {
     "end_time": "2022-07-11T10:15:02.909087Z",
     "start_time": "2022-07-11T10:15:02.885153Z"
    }
   },
   "outputs": [
    {
     "data": {
      "text/plain": [
       "0.5592991913746631"
      ]
     },
     "execution_count": 120,
     "metadata": {},
     "output_type": "execute_result"
    }
   ],
   "source": [
    "model.score(X_train, y_train)"
   ]
  },
  {
   "cell_type": "code",
   "execution_count": 121,
   "id": "d1a14911",
   "metadata": {
    "ExecuteTime": {
     "end_time": "2022-07-11T10:15:03.765807Z",
     "start_time": "2022-07-11T10:15:03.752837Z"
    }
   },
   "outputs": [
    {
     "data": {
      "text/plain": [
       "0.5984251968503937"
      ]
     },
     "execution_count": 121,
     "metadata": {},
     "output_type": "execute_result"
    }
   ],
   "source": [
    "model.score(X_test, y_test)"
   ]
  },
  {
   "cell_type": "code",
   "execution_count": 122,
   "id": "ae97651c",
   "metadata": {
    "ExecuteTime": {
     "end_time": "2022-07-11T10:15:06.192333Z",
     "start_time": "2022-07-11T10:15:06.169393Z"
    }
   },
   "outputs": [
    {
     "data": {
      "text/plain": [
       "array([[ 0.01682935, -0.13966503]])"
      ]
     },
     "execution_count": 122,
     "metadata": {},
     "output_type": "execute_result"
    }
   ],
   "source": [
    "model.coef_"
   ]
  },
  {
   "cell_type": "code",
   "execution_count": 123,
   "id": "129cb395",
   "metadata": {
    "ExecuteTime": {
     "end_time": "2022-07-11T10:15:09.196322Z",
     "start_time": "2022-07-11T10:15:08.930034Z"
    },
    "scrolled": true
   },
   "outputs": [
    {
     "name": "stdout",
     "output_type": "stream",
     "text": [
      "최적 하이퍼 파라미터:{'C': 0.001, 'penalty': 'l2'}, 최적 평균 정확도:0.569\n"
     ]
    },
    {
     "name": "stderr",
     "output_type": "stream",
     "text": [
      "C:\\Users\\wndgj\\AppData\\Local\\Programs\\Python\\Python310\\lib\\site-packages\\sklearn\\model_selection\\_validation.py:378: FitFailedWarning: \n",
      "30 fits failed out of a total of 60.\n",
      "The score on these train-test partitions for these parameters will be set to nan.\n",
      "If these failures are not expected, you can try to debug them by setting error_score='raise'.\n",
      "\n",
      "Below are more details about the failures:\n",
      "--------------------------------------------------------------------------------\n",
      "30 fits failed with the following error:\n",
      "Traceback (most recent call last):\n",
      "  File \"C:\\Users\\wndgj\\AppData\\Local\\Programs\\Python\\Python310\\lib\\site-packages\\sklearn\\model_selection\\_validation.py\", line 686, in _fit_and_score\n",
      "    estimator.fit(X_train, y_train, **fit_params)\n",
      "  File \"C:\\Users\\wndgj\\AppData\\Local\\Programs\\Python\\Python310\\lib\\site-packages\\sklearn\\linear_model\\_logistic.py\", line 1091, in fit\n",
      "    solver = _check_solver(self.solver, self.penalty, self.dual)\n",
      "  File \"C:\\Users\\wndgj\\AppData\\Local\\Programs\\Python\\Python310\\lib\\site-packages\\sklearn\\linear_model\\_logistic.py\", line 61, in _check_solver\n",
      "    raise ValueError(\n",
      "ValueError: Solver lbfgs supports only 'l2' or 'none' penalties, got l1 penalty.\n",
      "\n",
      "  warnings.warn(some_fits_failed_message, FitFailedWarning)\n",
      "C:\\Users\\wndgj\\AppData\\Local\\Programs\\Python\\Python310\\lib\\site-packages\\sklearn\\model_selection\\_search.py:953: UserWarning: One or more of the test scores are non-finite: [0.56872846        nan 0.56062035        nan 0.54980954        nan\n",
      " 0.54575549        nan 0.54575549        nan 0.54575549        nan]\n",
      "  warnings.warn(\n"
     ]
    }
   ],
   "source": [
    "from sklearn.model_selection import GridSearchCV\n",
    "\n",
    "# 주요 파라메터 (C)\n",
    "# C 값 (기본값 = 1)\n",
    "# C 값이 작으면 Penalty 강해짐 (단순 모델)\n",
    "# C 값이 크면 Penalty 약해짐 (정규화 없어짐)\n",
    "# 보통 로그스케일로 지정(10배씩) = 0.01, 0.1, 1, 10\n",
    "\n",
    "# penalty\n",
    "# L2: Ridge, 일반적으로 사용 (default)\n",
    "# L1: LASSO, 변수가 많아서 줄여야할 때 사용, 모델의 단순화 및 해석에 용이\n",
    "params={'penalty':['l2', 'l1'],\n",
    "       'C':[0.001, 0.01, 0.1, 1, 10, 100]}\n",
    "\n",
    "grid_clf = GridSearchCV(model, param_grid=params, scoring='accuracy', cv=5)\n",
    "\n",
    "grid_clf.fit(X_train, y_train)\n",
    "print('최적 하이퍼 파라미터:{0}, 최적 평균 정확도:{1:.3f}'.format(grid_clf.best_params_, \n",
    "                                                                    grid_clf.best_score_))"
   ]
  },
  {
   "cell_type": "code",
   "execution_count": 124,
   "id": "05363cdd",
   "metadata": {
    "ExecuteTime": {
     "end_time": "2022-07-11T10:15:10.067000Z",
     "start_time": "2022-07-11T10:15:09.790736Z"
    }
   },
   "outputs": [
    {
     "name": "stderr",
     "output_type": "stream",
     "text": [
      "C:\\Users\\wndgj\\AppData\\Local\\Programs\\Python\\Python310\\lib\\site-packages\\sklearn\\utils\\deprecation.py:87: FutureWarning: Function plot_roc_curve is deprecated; Function :func:`plot_roc_curve` is deprecated in 1.0 and will be removed in 1.2. Use one of the class methods: :meth:`sklearn.metric.RocCurveDisplay.from_predictions` or :meth:`sklearn.metric.RocCurveDisplay.from_estimator`.\n",
      "  warnings.warn(msg, category=FutureWarning)\n"
     ]
    },
    {
     "data": {
      "image/png": "[encoded data removed]",
      "text/plain": [
       "<Figure size 432x288 with 1 Axes>"
      ]
     },
     "metadata": {
      "needs_background": "light"
     },
     "output_type": "display_data"
    }
   ],
   "source": [
    "from sklearn import metrics \n",
    "import matplotlib.pyplot as plt\n",
    "\n",
    "# TPR(재현율) = 민감도\n",
    "# TNR = 특이성 \n",
    "metrics.plot_roc_curve(grid_clf, X_test, y_test)\n",
    "\n",
    "plt.plot([0,1], [0,1], 'k--')\n",
    "plt.show()"
   ]
  },
  {
   "cell_type": "markdown",
   "id": "c87c380e",
   "metadata": {},
   "source": [
    "#### fit(), transform() 사용시 주의사항\n",
    "* Scaler 객체를 이용해 학습 데이터 세트로 fit()과 transform()을 적용하면 테스트 데이터 세트로는 다시 fit()을 수행하지 않고 학습 데이터 세트로 fit()을 수행한 결과를 이용해 transform()변환을 적용해야 한다.\n",
    "* 테스트 데이터로 다시 새로운 스케일링 기준 정보를 만들게 되면 학습 데이터와 테스트 데이터의 스케일링 기준 정보가 서로 달라지기 때문에 올바른 예측 결과를 도출하지 못할 수 있다."
   ]
  },
  {
   "cell_type": "code",
   "execution_count": 125,
   "id": "1ba553a1",
   "metadata": {
    "ExecuteTime": {
     "end_time": "2022-07-11T10:15:16.852108Z",
     "start_time": "2022-07-11T10:15:16.826177Z"
    }
   },
   "outputs": [
    {
     "name": "stdout",
     "output_type": "stream",
     "text": [
      "테스트 세트에서의 LogisticRegression 정밀도 : 0.6142\n",
      "테스트 세트에서의 LogisticRegression 정확도 : 0.6142\n",
      "테스트 세트에서의 LogisticRegression 재현율 : 1.0000\n"
     ]
    }
   ],
   "source": [
    "from sklearn.metrics import precision_score, accuracy_score, recall_score\n",
    "\n",
    "dpredictions = grid_clf.predict(X_test)\n",
    "\n",
    "precision = precision_score(y_test, dpredictions)\n",
    "accuracy = accuracy_score(y_test, dpredictions)\n",
    "recall = recall_score(y_test, dpredictions)\n",
    "\n",
    "print('테스트 세트에서의 LogisticRegression 정밀도 : {0:.4f}'.format(precision))\n",
    "print('테스트 세트에서의 LogisticRegression 정확도 : {0:.4f}'.format(accuracy))\n",
    "print('테스트 세트에서의 LogisticRegression 재현율 : {0:.4f}'.format(recall))"
   ]
  },
  {
   "cell_type": "code",
   "execution_count": null,
   "id": "4ce71e0b",
   "metadata": {},
   "outputs": [],
   "source": []
  }
 ],
 "metadata": {
  "kernelspec": {
   "display_name": "Python 3 (ipykernel)",
   "language": "python",
   "name": "python3"
  },
  "language_info": {
   "codemirror_mode": {
    "name": "ipython",
    "version": 3
   },
   "file_extension": ".py",
   "mimetype": "text/x-python",
   "name": "python",
   "nbconvert_exporter": "python",
   "pygments_lexer": "ipython3",
   "version": "3.10.1"
  },
  "toc": {
   "base_numbering": 1,
   "nav_menu": {},
   "number_sections": true,
   "sideBar": true,
   "skip_h1_title": false,
   "title_cell": "Table of Contents",
   "title_sidebar": "Contents",
   "toc_cell": false,
   "toc_position": {},
   "toc_section_display": true,
   "toc_window_display": false
  }
 },
 "nbformat": 4,
 "nbformat_minor": 5
}
