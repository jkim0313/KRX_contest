{
 "cells": [
  {
   "cell_type": "code",
   "execution_count": 5,
   "id": "58f1e038",
   "metadata": {
    "ExecuteTime": {
     "end_time": "2022-07-15T00:49:38.956325Z",
     "start_time": "2022-07-15T00:49:38.930431Z"
    }
   },
   "outputs": [],
   "source": [
    "import os\n",
    "import pandas as pd\n",
    "\n",
    "high_share = pd.read_csv('./csv/2022_foreigner/data_1902_20220713.csv', encoding='CP949')\n",
    "high_share = high_share[high_share[\"외국인 지분율\"] >= 5]\n",
    "high_share.sort_values(by='외국인 지분율', ascending=False)\n",
    "high_share_list = high_share[\"종목명\"].tolist()"
   ]
  },
  {
   "cell_type": "code",
   "execution_count": 19,
   "id": "9470d548",
   "metadata": {
    "ExecuteTime": {
     "end_time": "2022-07-15T00:49:39.593671Z",
     "start_time": "2022-07-15T00:49:39.581684Z"
    }
   },
   "outputs": [
    {
     "data": {
      "text/plain": [
       "429"
      ]
     },
     "execution_count": 19,
     "metadata": {},
     "output_type": "execute_result"
    }
   ],
   "source": [
    "len(high_share_list)"
   ]
  },
  {
   "cell_type": "code",
   "execution_count": null,
   "id": "d27b2bdc",
   "metadata": {
    "ExecuteTime": {
     "end_time": "2022-07-15T07:19:08.196369Z",
     "start_time": "2022-07-15T07:19:08.128261Z"
    }
   },
   "outputs": [],
   "source": [
    "drop_list = [\"메리츠화재\",\"한화손해보험\",\"롯데손해보험\"\n",
    ",\"흥국화재\",\"흥국화재우\",\"흥국화재2우B\",\"삼성화재\"\n",
    ",\"삼성화재우\",\"현대해상\",\"코리안리\",\"DB손해보험\"\n",
    ",\"삼성생명\",\"동양생명\",\"미래에셋생명\",\"한화생명\",\"제주은행\"\n",
    ",\"기업은행\",\"카카오뱅크\",\"유진투자증권\",\"부국증권\"\n",
    ",\"부국증권우\",\"상상인증권\",\"현대차증권\",\"SK증권\",\"SK증권우\"\n",
    ",\"신영증권\",\"신영증권우\",\"한양증권\",\"한양증권우\"\n",
    ",\"유화증권\",\"유화증권우\",\"유안타증권\",\"유안타증권우\"\n",
    ",\"한화투자증권\",\"한화투자증권우\",\"대신증권\",\"대신증권우\"\n",
    ",\"대신증권2우B\",\"NH투자증권\",\"NH투자증권우\",\"미래에셋증권\"\n",
    ",\"미래에셋증권우\",\"미래에셋증권2우B\",\"메리츠증권\"\n",
    ",\"삼성증권\",\"DB금융투자\",\"다올투자증권\",\"교보증권\",\"키움증권\"\n",
    ",\"BNK금융지주\", \"DGB금융지주\", \"메리츠금융지주\", \"하나금융지주\"\n",
    ",\"한국금융지주\",\"한국금융지주우\",\"KB금융\",\"메리츠종금증권\"\n",
    ",\"KTB투자증권\",\"JB금융지주\",\"우리금융지주\",\"유진투자증권\"\n",
    ",\"부국증권\",\"부국증권우\",\"상상인증권\",\"현대차증권\"]\n",
    "\n",
    "high_foreign = [x for x in high_share_list if x not in drop_list]\n",
    "high_foreign"
   ]
  },
  {
   "cell_type": "code",
   "execution_count": 20,
   "id": "ed5e0ae3",
   "metadata": {
    "ExecuteTime": {
     "end_time": "2022-07-15T07:19:11.605990Z",
     "start_time": "2022-07-15T07:19:11.582217Z"
    }
   },
   "outputs": [
    {
     "data": {
      "text/plain": [
       "390"
      ]
     },
     "execution_count": 20,
     "metadata": {},
     "output_type": "execute_result"
    }
   ],
   "source": [
    "len(high_foreign)"
   ]
  },
  {
   "cell_type": "code",
   "execution_count": 34,
   "id": "5cca6e1b",
   "metadata": {
    "ExecuteTime": {
     "end_time": "2022-07-15T08:38:28.086812Z",
     "start_time": "2022-07-15T08:25:09.761550Z"
    }
   },
   "outputs": [],
   "source": [
    "path = \"./csv/유가증권/일중 시세정보(1분)/2020/\"\n",
    "\n",
    "file_list = []\n",
    "\n",
    "for filename in os.listdir(path):\n",
    "    if filename.endswith('.csv'):\n",
    "        file_list.append(filename)\n",
    "        \n",
    "file_list.sort()\n",
    "full_df = pd.DataFrame()\n",
    "\n",
    "for file in file_list:\n",
    "    temp_df = pd.read_csv(path+file, encoding='CP949')\n",
    "#     temp_df = temp_df[[\"거래일자\", \"거래시각\", \"종목코드\", \"종목명\",\n",
    "#                        \"시가\", \"고가\" , \"저가\", \"종가\"]]\n",
    "    full_df = pd.concat([full_df, temp_df])\n",
    "for name in drop_list:\n",
    "    full_df.drop(total_df[total_df[\"종목명\"]==name].index, inplace=True)\n",
    "\n",
    "full_df.drop([\"매수최우선호가가격\",\"매도최우선호가가격\",\"매수최우선호가잔량\",\n",
    "              \"매도최우선호가잔량\",\"최우선매수매도호가중간값\",\"전량가중평균지정가\",\n",
    "              \"IOC취소주문량\",\"FOK주문취소량\",\"주문빈도기준취소율\",\"주문량기준취소율\",\n",
    "              \"종목별거래횟수기준매수매도불균형\",\"종목별거래량기준매수매도불균형\",\n",
    "              \"주문횟수기준주문불균형\",\"주문량기준주문불균형\",\"평균호가스프레드\",\n",
    "              \"평균비율스프레드\",\"평균유효스프레드\",\"평균실현스프레드\",\"HS역선택비용\",\n",
    "              \"주문수량기준깊이\",\"주문건수기준깊이\"], axis=1, inplace=True)\n",
    "\n",
    "full_df.reset_index(drop=True, inplace=True)\n",
    "full_df.to_csv('./csv/2020 일중 시세정보 통합.csv', encoding='CP949')"
   ]
  },
  {
   "cell_type": "code",
   "execution_count": 21,
   "id": "ad4b1067",
   "metadata": {
    "ExecuteTime": {
     "end_time": "2022-07-15T12:30:22.064650Z",
     "start_time": "2022-07-15T12:27:36.706160Z"
    },
    "scrolled": true
   },
   "outputs": [],
   "source": [
    "total_df = pd.read_csv('./csv/2020 일중 시세정보 통합.csv', encoding='CP949')\n",
    "\n",
    "for name in drop_list:\n",
    "    total_df.drop(total_df[total_df[\"종목명\"]==name].index, inplace=True)\n",
    "total_df.drop(total_df[total_df[\"거래시각\"] < 900].index, inplace=True)\n",
    "total_df.drop(total_df[total_df[\"거래시각\"] > 1530].index, inplace=True)\n",
    "total_df = total_df.dropna()\n",
    "# total_df\n",
    "total_df.to_csv('./csv/2020 일중 시세정보 통합_수정.csv', encoding='CP949')"
   ]
  },
  {
   "cell_type": "code",
   "execution_count": null,
   "id": "ee3d7daf",
   "metadata": {},
   "outputs": [],
   "source": []
  }
 ],
 "metadata": {
  "kernelspec": {
   "display_name": "Python 3.10.5 64-bit",
   "language": "python",
   "name": "python3"
  },
  "language_info": {
   "codemirror_mode": {
    "name": "ipython",
    "version": 3
   },
   "file_extension": ".py",
   "mimetype": "text/x-python",
   "name": "python",
   "nbconvert_exporter": "python",
   "pygments_lexer": "ipython3",
   "version": "3.10.5"
  },
  "toc": {
   "base_numbering": 1,
   "nav_menu": {},
   "number_sections": true,
   "sideBar": true,
   "skip_h1_title": false,
   "title_cell": "Table of Contents",
   "title_sidebar": "Contents",
   "toc_cell": false,
   "toc_position": {},
   "toc_section_display": true,
   "toc_window_display": false
  },
  "vscode": {
   "interpreter": {
    "hash": "fb4569285eef3a3450cb62085a5b1e0da4bce0af555edc33dcf29baf3acc1368"
   }
  }
 },
 "nbformat": 4,
 "nbformat_minor": 5
}
