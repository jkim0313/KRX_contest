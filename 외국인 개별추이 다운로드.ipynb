{
 "cells": [
  {
   "cell_type": "code",
   "execution_count": 1,
   "id": "6cb5ee71",
   "metadata": {
    "ExecuteTime": {
     "end_time": "2022-07-08T04:06:22.776190Z",
     "start_time": "2022-07-08T04:06:01.833893Z"
    },
    "code_folding": [
     0
    ],
    "collapsed": true
   },
   "outputs": [
    {
     "name": "stdout",
     "output_type": "stream",
     "text": [
      "Collecting selenium\n",
      "  Downloading selenium-4.3.0-py3-none-any.whl (981 kB)\n",
      "Collecting trio~=0.17\n",
      "  Downloading trio-0.21.0-py3-none-any.whl (358 kB)\n",
      "Requirement already satisfied: urllib3[secure,socks]~=1.26 in c:\\users\\wndgj\\appdata\\local\\programs\\python\\python310\\lib\\site-packages (from selenium) (1.26.9)\n",
      "Collecting trio-websocket~=0.9\n",
      "  Downloading trio_websocket-0.9.2-py3-none-any.whl (16 kB)\n",
      "Requirement already satisfied: idna in c:\\users\\wndgj\\appdata\\local\\programs\\python\\python310\\lib\\site-packages (from trio~=0.17->selenium) (3.3)\n",
      "Collecting outcome\n",
      "  Downloading outcome-1.2.0-py2.py3-none-any.whl (9.7 kB)\n",
      "Requirement already satisfied: attrs>=19.2.0 in c:\\users\\wndgj\\appdata\\local\\programs\\python\\python310\\lib\\site-packages (from trio~=0.17->selenium) (21.4.0)\n",
      "Collecting sniffio\n",
      "  Downloading sniffio-1.2.0-py3-none-any.whl (10 kB)\n",
      "Collecting async-generator>=1.9\n",
      "  Downloading async_generator-1.10-py3-none-any.whl (18 kB)\n",
      "Requirement already satisfied: cffi>=1.14 in c:\\users\\wndgj\\appdata\\local\\programs\\python\\python310\\lib\\site-packages (from trio~=0.17->selenium) (1.15.0)\n",
      "Collecting sortedcontainers\n",
      "  Downloading sortedcontainers-2.4.0-py2.py3-none-any.whl (29 kB)\n",
      "Requirement already satisfied: pycparser in c:\\users\\wndgj\\appdata\\local\\programs\\python\\python310\\lib\\site-packages (from cffi>=1.14->trio~=0.17->selenium) (2.21)\n",
      "Collecting wsproto>=0.14\n",
      "  Downloading wsproto-1.1.0-py3-none-any.whl (24 kB)\n",
      "Requirement already satisfied: certifi in c:\\users\\wndgj\\appdata\\local\\programs\\python\\python310\\lib\\site-packages (from urllib3[secure,socks]~=1.26->selenium) (2022.5.18.1)\n",
      "Collecting pyOpenSSL>=0.14\n",
      "  Downloading pyOpenSSL-22.0.0-py2.py3-none-any.whl (55 kB)\n",
      "Collecting cryptography>=1.3.4\n",
      "  Downloading cryptography-37.0.4-cp36-abi3-win_amd64.whl (2.4 MB)\n",
      "Collecting PySocks!=1.5.7,<2.0,>=1.5.6\n",
      "  Downloading PySocks-1.7.1-py3-none-any.whl (16 kB)\n",
      "Collecting h11<1,>=0.9.0\n",
      "  Downloading h11-0.13.0-py3-none-any.whl (58 kB)\n",
      "Installing collected packages: sortedcontainers, sniffio, outcome, h11, cryptography, async-generator, wsproto, trio, PySocks, pyOpenSSL, trio-websocket, selenium\n",
      "Successfully installed PySocks-1.7.1 async-generator-1.10 cryptography-37.0.4 h11-0.13.0 outcome-1.2.0 pyOpenSSL-22.0.0 selenium-4.3.0 sniffio-1.2.0 sortedcontainers-2.4.0 trio-0.21.0 trio-websocket-0.9.2 wsproto-1.1.0\n",
      "Note: you may need to restart the kernel to use updated packages.\n"
     ]
    },
    {
     "name": "stderr",
     "output_type": "stream",
     "text": [
      "WARNING: You are using pip version 21.2.4; however, version 22.1.2 is available.\n",
      "You should consider upgrading via the 'C:\\Users\\wndgj\\AppData\\Local\\Programs\\Python\\Python310\\python.exe -m pip install --upgrade pip' command.\n"
     ]
    }
   ],
   "source": [
    "# 크롤링을 위해 selenium 설치\n",
    "# pip install selenium"
   ]
  },
  {
   "cell_type": "markdown",
   "id": "d7b6e4bb",
   "metadata": {},
   "source": [
    "### KRX 외국인 보유량 하루치 다운로드"
   ]
  },
  {
   "cell_type": "code",
   "execution_count": 291,
   "id": "5439c3b5",
   "metadata": {
    "ExecuteTime": {
     "end_time": "2022-07-09T05:32:40.720738Z",
     "start_time": "2022-07-09T05:32:20.911896Z"
    },
    "code_folding": [
     0
    ],
    "collapsed": true
   },
   "outputs": [
    {
     "name": "stderr",
     "output_type": "stream",
     "text": [
      "C:\\Users\\wndgj\\AppData\\Local\\Temp\\ipykernel_20460\\1990557579.py:10: DeprecationWarning: executable_path has been deprecated, please pass in a Service object\n",
      "  driver = webdriver.Chrome('./chromedriver.exe')\n"
     ]
    },
    {
     "ename": "WebDriverException",
     "evalue": "Message: chrome not reachable\n  (Session info: chrome=103.0.5060.66)\nStacktrace:\nBacktrace:\n\tOrdinal0 [0x00556463+2188387]\n\tOrdinal0 [0x004EE461+1762401]\n\tOrdinal0 [0x00403C40+801856]\n\tOrdinal0 [0x003F8932+756018]\n\tOrdinal0 [0x003F9168+758120]\n\tOrdinal0 [0x003FAA22+764450]\n\tOrdinal0 [0x003F4379+738169]\n\tOrdinal0 [0x004050D0+807120]\n\tOrdinal0 [0x0045C402+1164290]\n\tOrdinal0 [0x0044C5F6+1099254]\n\tOrdinal0 [0x00426BE0+945120]\n\tOrdinal0 [0x00427AD6+948950]\n\tGetHandleVerifier [0x007F71F2+2712546]\n\tGetHandleVerifier [0x007E886D+2652765]\n\tGetHandleVerifier [0x005E002A+520730]\n\tGetHandleVerifier [0x005DEE06+516086]\n\tOrdinal0 [0x004F468B+1787531]\n\tOrdinal0 [0x004F8E88+1805960]\n\tOrdinal0 [0x004F8F75+1806197]\n\tOrdinal0 [0x00501DF1+1842673]\n\tBaseThreadInitThunk [0x75B4FA29+25]\n\tRtlGetAppContainerNamedObjectPath [0x77687A9E+286]\n\tRtlGetAppContainerNamedObjectPath [0x77687A6E+238]\n",
     "output_type": "error",
     "traceback": [
      "\u001b[1;31m---------------------------------------------------------------------------\u001b[0m",
      "\u001b[1;31mWebDriverException\u001b[0m                        Traceback (most recent call last)",
      "Input \u001b[1;32mIn [291]\u001b[0m, in \u001b[0;36m<cell line: 57>\u001b[1;34m()\u001b[0m\n\u001b[0;32m     54\u001b[0m time\u001b[38;5;241m.\u001b[39msleep(\u001b[38;5;241m1\u001b[39m)\n\u001b[0;32m     56\u001b[0m \u001b[38;5;66;03m# csv 다운로드 버튼 XPath\u001b[39;00m\n\u001b[1;32m---> 57\u001b[0m csvBtn \u001b[38;5;241m=\u001b[39m \u001b[43mWebDriverWait\u001b[49m\u001b[43m(\u001b[49m\u001b[43mdriver\u001b[49m\u001b[43m,\u001b[49m\u001b[43m \u001b[49m\u001b[38;5;241;43m10\u001b[39;49m\u001b[43m)\u001b[49m\u001b[38;5;241;43m.\u001b[39;49m\u001b[43muntil\u001b[49m\u001b[43m(\u001b[49m\n\u001b[0;32m     58\u001b[0m \u001b[43m                \u001b[49m\u001b[43mEC\u001b[49m\u001b[38;5;241;43m.\u001b[39;49m\u001b[43melement_to_be_clickable\u001b[49m\u001b[43m(\u001b[49m\u001b[43m(\u001b[49m\u001b[43mBy\u001b[49m\u001b[38;5;241;43m.\u001b[39;49m\u001b[43mLINK_TEXT\u001b[49m\u001b[43m,\u001b[49m\u001b[43m \u001b[49m\n\u001b[0;32m     59\u001b[0m \u001b[43m                                           \u001b[49m\u001b[38;5;124;43m\"\u001b[39;49m\u001b[38;5;124;43mCSV\u001b[39;49m\u001b[38;5;124;43m\"\u001b[39;49m\u001b[43m)\u001b[49m\u001b[43m)\u001b[49m\u001b[43m)\u001b[49m\n\u001b[0;32m     60\u001b[0m csvBtn\u001b[38;5;241m.\u001b[39mclick()\n",
      "File \u001b[1;32m~\\AppData\\Local\\Programs\\Python\\Python310\\lib\\site-packages\\selenium\\webdriver\\support\\wait.py:81\u001b[0m, in \u001b[0;36mWebDriverWait.until\u001b[1;34m(self, method, message)\u001b[0m\n\u001b[0;32m     79\u001b[0m \u001b[38;5;28;01mwhile\u001b[39;00m \u001b[38;5;28;01mTrue\u001b[39;00m:\n\u001b[0;32m     80\u001b[0m     \u001b[38;5;28;01mtry\u001b[39;00m:\n\u001b[1;32m---> 81\u001b[0m         value \u001b[38;5;241m=\u001b[39m \u001b[43mmethod\u001b[49m\u001b[43m(\u001b[49m\u001b[38;5;28;43mself\u001b[39;49m\u001b[38;5;241;43m.\u001b[39;49m\u001b[43m_driver\u001b[49m\u001b[43m)\u001b[49m\n\u001b[0;32m     82\u001b[0m         \u001b[38;5;28;01mif\u001b[39;00m value:\n\u001b[0;32m     83\u001b[0m             \u001b[38;5;28;01mreturn\u001b[39;00m value\n",
      "File \u001b[1;32m~\\AppData\\Local\\Programs\\Python\\Python310\\lib\\site-packages\\selenium\\webdriver\\support\\expected_conditions.py:312\u001b[0m, in \u001b[0;36melement_to_be_clickable.<locals>._predicate\u001b[1;34m(driver)\u001b[0m\n\u001b[0;32m    310\u001b[0m target \u001b[38;5;241m=\u001b[39m mark\n\u001b[0;32m    311\u001b[0m \u001b[38;5;28;01mif\u001b[39;00m \u001b[38;5;129;01mnot\u001b[39;00m \u001b[38;5;28misinstance\u001b[39m(target, WebElement):  \u001b[38;5;66;03m# if given locator instead of WebElement\u001b[39;00m\n\u001b[1;32m--> 312\u001b[0m     target \u001b[38;5;241m=\u001b[39m \u001b[43mdriver\u001b[49m\u001b[38;5;241;43m.\u001b[39;49m\u001b[43mfind_element\u001b[49m\u001b[43m(\u001b[49m\u001b[38;5;241;43m*\u001b[39;49m\u001b[43mtarget\u001b[49m\u001b[43m)\u001b[49m  \u001b[38;5;66;03m# grab element at locator\u001b[39;00m\n\u001b[0;32m    313\u001b[0m target \u001b[38;5;241m=\u001b[39m visibility_of(target)(driver)\n\u001b[0;32m    314\u001b[0m \u001b[38;5;28;01mif\u001b[39;00m target \u001b[38;5;129;01mand\u001b[39;00m target\u001b[38;5;241m.\u001b[39mis_enabled():\n",
      "File \u001b[1;32m~\\AppData\\Local\\Programs\\Python\\Python310\\lib\\site-packages\\selenium\\webdriver\\remote\\webdriver.py:857\u001b[0m, in \u001b[0;36mWebDriver.find_element\u001b[1;34m(self, by, value)\u001b[0m\n\u001b[0;32m    854\u001b[0m     by \u001b[38;5;241m=\u001b[39m By\u001b[38;5;241m.\u001b[39mCSS_SELECTOR\n\u001b[0;32m    855\u001b[0m     value \u001b[38;5;241m=\u001b[39m \u001b[38;5;124m'\u001b[39m\u001b[38;5;124m[name=\u001b[39m\u001b[38;5;124m\"\u001b[39m\u001b[38;5;132;01m%s\u001b[39;00m\u001b[38;5;124m\"\u001b[39m\u001b[38;5;124m]\u001b[39m\u001b[38;5;124m'\u001b[39m \u001b[38;5;241m%\u001b[39m value\n\u001b[1;32m--> 857\u001b[0m \u001b[38;5;28;01mreturn\u001b[39;00m \u001b[38;5;28;43mself\u001b[39;49m\u001b[38;5;241;43m.\u001b[39;49m\u001b[43mexecute\u001b[49m\u001b[43m(\u001b[49m\u001b[43mCommand\u001b[49m\u001b[38;5;241;43m.\u001b[39;49m\u001b[43mFIND_ELEMENT\u001b[49m\u001b[43m,\u001b[49m\u001b[43m \u001b[49m\u001b[43m{\u001b[49m\n\u001b[0;32m    858\u001b[0m \u001b[43m    \u001b[49m\u001b[38;5;124;43m'\u001b[39;49m\u001b[38;5;124;43musing\u001b[39;49m\u001b[38;5;124;43m'\u001b[39;49m\u001b[43m:\u001b[49m\u001b[43m \u001b[49m\u001b[43mby\u001b[49m\u001b[43m,\u001b[49m\n\u001b[0;32m    859\u001b[0m \u001b[43m    \u001b[49m\u001b[38;5;124;43m'\u001b[39;49m\u001b[38;5;124;43mvalue\u001b[39;49m\u001b[38;5;124;43m'\u001b[39;49m\u001b[43m:\u001b[49m\u001b[43m \u001b[49m\u001b[43mvalue\u001b[49m\u001b[43m}\u001b[49m\u001b[43m)\u001b[49m[\u001b[38;5;124m'\u001b[39m\u001b[38;5;124mvalue\u001b[39m\u001b[38;5;124m'\u001b[39m]\n",
      "File \u001b[1;32m~\\AppData\\Local\\Programs\\Python\\Python310\\lib\\site-packages\\selenium\\webdriver\\remote\\webdriver.py:435\u001b[0m, in \u001b[0;36mWebDriver.execute\u001b[1;34m(self, driver_command, params)\u001b[0m\n\u001b[0;32m    433\u001b[0m response \u001b[38;5;241m=\u001b[39m \u001b[38;5;28mself\u001b[39m\u001b[38;5;241m.\u001b[39mcommand_executor\u001b[38;5;241m.\u001b[39mexecute(driver_command, params)\n\u001b[0;32m    434\u001b[0m \u001b[38;5;28;01mif\u001b[39;00m response:\n\u001b[1;32m--> 435\u001b[0m     \u001b[38;5;28;43mself\u001b[39;49m\u001b[38;5;241;43m.\u001b[39;49m\u001b[43merror_handler\u001b[49m\u001b[38;5;241;43m.\u001b[39;49m\u001b[43mcheck_response\u001b[49m\u001b[43m(\u001b[49m\u001b[43mresponse\u001b[49m\u001b[43m)\u001b[49m\n\u001b[0;32m    436\u001b[0m     response[\u001b[38;5;124m'\u001b[39m\u001b[38;5;124mvalue\u001b[39m\u001b[38;5;124m'\u001b[39m] \u001b[38;5;241m=\u001b[39m \u001b[38;5;28mself\u001b[39m\u001b[38;5;241m.\u001b[39m_unwrap_value(\n\u001b[0;32m    437\u001b[0m         response\u001b[38;5;241m.\u001b[39mget(\u001b[38;5;124m'\u001b[39m\u001b[38;5;124mvalue\u001b[39m\u001b[38;5;124m'\u001b[39m, \u001b[38;5;28;01mNone\u001b[39;00m))\n\u001b[0;32m    438\u001b[0m     \u001b[38;5;28;01mreturn\u001b[39;00m response\n",
      "File \u001b[1;32m~\\AppData\\Local\\Programs\\Python\\Python310\\lib\\site-packages\\selenium\\webdriver\\remote\\errorhandler.py:247\u001b[0m, in \u001b[0;36mErrorHandler.check_response\u001b[1;34m(self, response)\u001b[0m\n\u001b[0;32m    245\u001b[0m         alert_text \u001b[38;5;241m=\u001b[39m value[\u001b[38;5;124m'\u001b[39m\u001b[38;5;124malert\u001b[39m\u001b[38;5;124m'\u001b[39m]\u001b[38;5;241m.\u001b[39mget(\u001b[38;5;124m'\u001b[39m\u001b[38;5;124mtext\u001b[39m\u001b[38;5;124m'\u001b[39m)\n\u001b[0;32m    246\u001b[0m     \u001b[38;5;28;01mraise\u001b[39;00m exception_class(message, screen, stacktrace, alert_text)  \u001b[38;5;66;03m# type: ignore[call-arg]  # mypy is not smart enough here\u001b[39;00m\n\u001b[1;32m--> 247\u001b[0m \u001b[38;5;28;01mraise\u001b[39;00m exception_class(message, screen, stacktrace)\n",
      "\u001b[1;31mWebDriverException\u001b[0m: Message: chrome not reachable\n  (Session info: chrome=103.0.5060.66)\nStacktrace:\nBacktrace:\n\tOrdinal0 [0x00556463+2188387]\n\tOrdinal0 [0x004EE461+1762401]\n\tOrdinal0 [0x00403C40+801856]\n\tOrdinal0 [0x003F8932+756018]\n\tOrdinal0 [0x003F9168+758120]\n\tOrdinal0 [0x003FAA22+764450]\n\tOrdinal0 [0x003F4379+738169]\n\tOrdinal0 [0x004050D0+807120]\n\tOrdinal0 [0x0045C402+1164290]\n\tOrdinal0 [0x0044C5F6+1099254]\n\tOrdinal0 [0x00426BE0+945120]\n\tOrdinal0 [0x00427AD6+948950]\n\tGetHandleVerifier [0x007F71F2+2712546]\n\tGetHandleVerifier [0x007E886D+2652765]\n\tGetHandleVerifier [0x005E002A+520730]\n\tGetHandleVerifier [0x005DEE06+516086]\n\tOrdinal0 [0x004F468B+1787531]\n\tOrdinal0 [0x004F8E88+1805960]\n\tOrdinal0 [0x004F8F75+1806197]\n\tOrdinal0 [0x00501DF1+1842673]\n\tBaseThreadInitThunk [0x75B4FA29+25]\n\tRtlGetAppContainerNamedObjectPath [0x77687A9E+286]\n\tRtlGetAppContainerNamedObjectPath [0x77687A6E+238]\n"
     ]
    }
   ],
   "source": [
    "# 구글 크롬 사용을 위해 webdriver 따로 다운로드 후 불러오기\n",
    "from selenium import webdriver\n",
    "from selenium.webdriver.common.by import By\n",
    "from selenium.webdriver.common.keys import Keys\n",
    "from selenium.webdriver.support.ui import WebDriverWait\n",
    "from selenium.webdriver.support import expected_conditions as EC\n",
    "import time\n",
    "\n",
    "# chromedirver 불러오기\n",
    "driver = webdriver.Chrome('./chromedriver.exe')\n",
    "driver.maximize_window()\n",
    "time.sleep(1)\n",
    "\n",
    "# krx 링크 열기\n",
    "krxStatUrl = \"http://data.krx.co.kr/contents/MDC/MDI/mdiLoader/index.cmd?menuId=MDC0201\"\n",
    "driver.get(krxStatUrl)\n",
    "\n",
    "# XPath를 사용한 좌측 탭의 \"기본통계\" - \"주식\" - \"세부안내\" - \"외국인보유량\" 클릭\n",
    "ForeHold = driver.find_element(By.XPATH, \n",
    "                               \".//*[@id='jsMdiMenu']/div[4]/ul/li[1]/ul/li[2]/div/div[1]/ul/li[2]/ul/li[5]/ul/li[4]/a\")\n",
    "# \"외국인보유량\" 클릭\n",
    "driver.execute_script(\"arguments[0].click();\", ForeHold)\n",
    "\n",
    "# \"외국인보유량\" 클릭 후 radio 버튼이 생성될 때까지 기다린다.\n",
    "KOSPIRad = WebDriverWait(driver, 10).until(\n",
    "                EC.element_to_be_clickable((By.ID, \"mktId_0_1\")))\n",
    "\n",
    "# # XPath를 사용한 KOSPI radio 버튼 클릭\n",
    "driver.execute_script(\"arguments[0].click();\", KOSPIRad)\n",
    "\n",
    "# 조회일자 id\n",
    "# DateSearch = driver.find_element(By.ID, \"trdDd\")\n",
    "DateSearch = WebDriverWait(driver, 10).until(\n",
    "                EC.element_to_be_clickable((By.ID, \n",
    "                                            \"trdDd\")))\n",
    "DateSearch.click()\n",
    "DateSearch.send_keys(Keys.CONTROL + \"a\")\n",
    "DateSearch.send_keys(Keys.BACKSPACE)\n",
    "DateSearch.send_keys(\"20190102\")\n",
    "\n",
    "# \"조회\" 버튼 XPath\n",
    "SearchBtn = driver.find_element(By.XPATH,\n",
    "                                \".//*[@id='jsSearchButton']\")\n",
    "SearchBtn.click()\n",
    "\n",
    "time.sleep(1)\n",
    "\n",
    "# 다운로드 버튼 클래스명\n",
    "downloadBtn = WebDriverWait(driver, 10).until(\n",
    "                EC.element_to_be_clickable((By.CLASS_NAME, \n",
    "                                           \"CI-MDI-UNIT-DOWNLOAD\")))\n",
    "downloadBtn.click()\n",
    "\n",
    "# csv 다운로드 버튼 XPath\n",
    "csvBtn = WebDriverWait(driver, 10).until(\n",
    "                EC.element_to_be_clickable((By.LINK_TEXT, \n",
    "                                           \"CSV\")))\n",
    "csvBtn.click()\n"
   ]
  },
  {
   "cell_type": "code",
   "execution_count": 2,
   "id": "63a7e414",
   "metadata": {
    "ExecuteTime": {
     "end_time": "2022-07-15T09:00:11.871636Z",
     "start_time": "2022-07-15T09:00:10.251475Z"
    }
   },
   "outputs": [
    {
     "name": "stdout",
     "output_type": "stream",
     "text": [
      "      일자 및 요일    요일구분   비고\n",
      "0  2019-01-01  화요일      신정\n",
      "1  2019-02-04  월요일      설날\n",
      "2  2019-02-05  화요일      설날\n",
      "3  2019-02-06  수요일      설날\n",
      "4  2019-03-01  금요일     삼일절\n",
      "      일자 및 요일    요일구분          비고\n",
      "0  2020-01-01  수요일             신정\n",
      "1  2020-01-24  금요일             설날\n",
      "2  2020-01-27  월요일       설날(대체휴일)\n",
      "3  2020-04-15  수요일     21대 국회의원선거\n",
      "4  2020-04-30  목요일          석가탄신일\n",
      "      일자 및 요일    요일구분    비고\n",
      "0  2021-01-01  금요일       신정\n",
      "1  2021-02-11  목요일       설날\n",
      "2  2021-02-12  금요일       설날\n",
      "3  2021-03-01  월요일      삼일절\n",
      "4  2021-05-05  수요일     어린이날\n"
     ]
    }
   ],
   "source": [
    "import pandas as pd\n",
    "\n",
    "# 휴장일 엑셀 파일 로드\n",
    "hdays_2018 = pd.read_excel('./excel/2018_hdays.xls')\n",
    "hdays_2019 = pd.read_excel('./excel/2019_hdays.xls')\n",
    "hdays_2020 = pd.read_excel('./excel/2020_hdays.xls')\n",
    "hdays_2021 = pd.read_excel('./excel/2021_hdays.xls')\n",
    "hdays_2022 = pd.read_excel('./excel/2022_hdays.xls')\n",
    "\n",
    "print(hdays_2019.head())\n",
    "print(hdays_2020.head())\n",
    "print(hdays_2021.head())"
   ]
  },
  {
   "cell_type": "code",
   "execution_count": 3,
   "id": "10ba72ce",
   "metadata": {
    "ExecuteTime": {
     "end_time": "2022-07-15T09:00:11.901437Z",
     "start_time": "2022-07-15T09:00:11.878617Z"
    }
   },
   "outputs": [],
   "source": [
    "# krx 휴장일 병합\n",
    "hdays_df_list = [hdays_2018, hdays_2019, hdays_2020, hdays_2021, hdays_2022]\n",
    "hdays_df = pd.concat(hdays_df_list)\n",
    "\n",
    "# hdays_df = hdays_2022\n",
    "\n",
    "hdays_df.reset_index(drop=True, inplace=True)"
   ]
  },
  {
   "cell_type": "code",
   "execution_count": 4,
   "id": "78b80662",
   "metadata": {
    "ExecuteTime": {
     "end_time": "2022-07-15T09:00:11.949177Z",
     "start_time": "2022-07-15T09:00:11.905430Z"
    }
   },
   "outputs": [
    {
     "data": {
      "text/html": [
       "<div>\n",
       "<style scoped>\n",
       "    .dataframe tbody tr th:only-of-type {\n",
       "        vertical-align: middle;\n",
       "    }\n",
       "\n",
       "    .dataframe tbody tr th {\n",
       "        vertical-align: top;\n",
       "    }\n",
       "\n",
       "    .dataframe thead th {\n",
       "        text-align: right;\n",
       "    }\n",
       "</style>\n",
       "<table border=\"1\" class=\"dataframe\">\n",
       "  <thead>\n",
       "    <tr style=\"text-align: right;\">\n",
       "      <th></th>\n",
       "      <th>일자 및 요일</th>\n",
       "      <th>요일구분</th>\n",
       "      <th>비고</th>\n",
       "    </tr>\n",
       "  </thead>\n",
       "  <tbody>\n",
       "    <tr>\n",
       "      <th>0</th>\n",
       "      <td>2018-01-01</td>\n",
       "      <td>월요일</td>\n",
       "      <td>신정</td>\n",
       "    </tr>\n",
       "    <tr>\n",
       "      <th>1</th>\n",
       "      <td>2018-02-15</td>\n",
       "      <td>목요일</td>\n",
       "      <td>설날</td>\n",
       "    </tr>\n",
       "    <tr>\n",
       "      <th>2</th>\n",
       "      <td>2018-02-16</td>\n",
       "      <td>금요일</td>\n",
       "      <td>설날</td>\n",
       "    </tr>\n",
       "    <tr>\n",
       "      <th>3</th>\n",
       "      <td>2018-03-01</td>\n",
       "      <td>목요일</td>\n",
       "      <td>삼일절</td>\n",
       "    </tr>\n",
       "    <tr>\n",
       "      <th>4</th>\n",
       "      <td>2018-05-01</td>\n",
       "      <td>화요일</td>\n",
       "      <td>근로자의날</td>\n",
       "    </tr>\n",
       "    <tr>\n",
       "      <th>...</th>\n",
       "      <td>...</td>\n",
       "      <td>...</td>\n",
       "      <td>...</td>\n",
       "    </tr>\n",
       "    <tr>\n",
       "      <th>68</th>\n",
       "      <td>2022-09-09</td>\n",
       "      <td>금요일</td>\n",
       "      <td>추석</td>\n",
       "    </tr>\n",
       "    <tr>\n",
       "      <th>69</th>\n",
       "      <td>2022-09-12</td>\n",
       "      <td>월요일</td>\n",
       "      <td>추석(대체휴일)</td>\n",
       "    </tr>\n",
       "    <tr>\n",
       "      <th>70</th>\n",
       "      <td>2022-10-03</td>\n",
       "      <td>월요일</td>\n",
       "      <td>개천절</td>\n",
       "    </tr>\n",
       "    <tr>\n",
       "      <th>71</th>\n",
       "      <td>2022-10-10</td>\n",
       "      <td>월요일</td>\n",
       "      <td>한글날(대체휴일)</td>\n",
       "    </tr>\n",
       "    <tr>\n",
       "      <th>72</th>\n",
       "      <td>2022-12-30</td>\n",
       "      <td>금요일</td>\n",
       "      <td>연말휴장일</td>\n",
       "    </tr>\n",
       "  </tbody>\n",
       "</table>\n",
       "<p>73 rows × 3 columns</p>\n",
       "</div>"
      ],
      "text/plain": [
       "       일자 및 요일    요일구분         비고\n",
       "0   2018-01-01  월요일            신정\n",
       "1   2018-02-15  목요일            설날\n",
       "2   2018-02-16  금요일            설날\n",
       "3   2018-03-01  목요일           삼일절\n",
       "4   2018-05-01  화요일         근로자의날\n",
       "..         ...     ...        ...\n",
       "68  2022-09-09  금요일            추석\n",
       "69  2022-09-12  월요일      추석(대체휴일)\n",
       "70  2022-10-03  월요일           개천절\n",
       "71  2022-10-10  월요일     한글날(대체휴일)\n",
       "72  2022-12-30  금요일         연말휴장일\n",
       "\n",
       "[73 rows x 3 columns]"
      ]
     },
     "execution_count": 4,
     "metadata": {},
     "output_type": "execute_result"
    }
   ],
   "source": [
    "hdays_df"
   ]
  },
  {
   "cell_type": "code",
   "execution_count": 5,
   "id": "f7db97ca",
   "metadata": {
    "ExecuteTime": {
     "end_time": "2022-07-15T09:00:11.966132Z",
     "start_time": "2022-07-15T09:00:11.954164Z"
    },
    "scrolled": true
   },
   "outputs": [],
   "source": [
    "# 불필요 컬럼 제거\n",
    "hdays_df.drop(columns=[\"요일구분\", \"비고\"], inplace=True)"
   ]
  },
  {
   "cell_type": "code",
   "execution_count": 6,
   "id": "60bffde2",
   "metadata": {
    "ExecuteTime": {
     "end_time": "2022-07-15T09:00:12.795854Z",
     "start_time": "2022-07-15T09:00:12.776872Z"
    }
   },
   "outputs": [
    {
     "data": {
      "text/html": [
       "<div>\n",
       "<style scoped>\n",
       "    .dataframe tbody tr th:only-of-type {\n",
       "        vertical-align: middle;\n",
       "    }\n",
       "\n",
       "    .dataframe tbody tr th {\n",
       "        vertical-align: top;\n",
       "    }\n",
       "\n",
       "    .dataframe thead th {\n",
       "        text-align: right;\n",
       "    }\n",
       "</style>\n",
       "<table border=\"1\" class=\"dataframe\">\n",
       "  <thead>\n",
       "    <tr style=\"text-align: right;\">\n",
       "      <th></th>\n",
       "      <th>일자 및 요일</th>\n",
       "    </tr>\n",
       "  </thead>\n",
       "  <tbody>\n",
       "    <tr>\n",
       "      <th>0</th>\n",
       "      <td>2018-01-01</td>\n",
       "    </tr>\n",
       "    <tr>\n",
       "      <th>1</th>\n",
       "      <td>2018-02-15</td>\n",
       "    </tr>\n",
       "    <tr>\n",
       "      <th>2</th>\n",
       "      <td>2018-02-16</td>\n",
       "    </tr>\n",
       "    <tr>\n",
       "      <th>3</th>\n",
       "      <td>2018-03-01</td>\n",
       "    </tr>\n",
       "    <tr>\n",
       "      <th>4</th>\n",
       "      <td>2018-05-01</td>\n",
       "    </tr>\n",
       "  </tbody>\n",
       "</table>\n",
       "</div>"
      ],
      "text/plain": [
       "      일자 및 요일\n",
       "0  2018-01-01\n",
       "1  2018-02-15\n",
       "2  2018-02-16\n",
       "3  2018-03-01\n",
       "4  2018-05-01"
      ]
     },
     "execution_count": 6,
     "metadata": {},
     "output_type": "execute_result"
    }
   ],
   "source": [
    "hdays_df.head()"
   ]
  },
  {
   "cell_type": "code",
   "execution_count": 7,
   "id": "aa93807d",
   "metadata": {
    "ExecuteTime": {
     "end_time": "2022-07-15T09:00:13.692291Z",
     "start_time": "2022-07-15T09:00:13.674305Z"
    }
   },
   "outputs": [],
   "source": [
    "# 불필요 문자 제거\n",
    "hdays_df[\"일자 및 요일\"] = hdays_df[\"일자 및 요일\"].str.replace(\"-\",\"\")\n",
    "# int로 데이터타입 변환\n",
    "hdays_df[\"일자 및 요일\"] = hdays_df[\"일자 및 요일\"].astype(int)"
   ]
  },
  {
   "cell_type": "code",
   "execution_count": 8,
   "id": "44fc46f5",
   "metadata": {
    "ExecuteTime": {
     "end_time": "2022-07-15T09:00:14.740665Z",
     "start_time": "2022-07-15T09:00:14.721714Z"
    }
   },
   "outputs": [
    {
     "data": {
      "text/plain": [
       "0     20180101\n",
       "1     20180215\n",
       "2     20180216\n",
       "3     20180301\n",
       "4     20180501\n",
       "        ...   \n",
       "68    20220909\n",
       "69    20220912\n",
       "70    20221003\n",
       "71    20221010\n",
       "72    20221230\n",
       "Name: 일자 및 요일, Length: 73, dtype: int32"
      ]
     },
     "execution_count": 8,
     "metadata": {},
     "output_type": "execute_result"
    }
   ],
   "source": [
    "hdays_df[\"일자 및 요일\"]"
   ]
  },
  {
   "cell_type": "code",
   "execution_count": 9,
   "id": "42cebd11",
   "metadata": {
    "ExecuteTime": {
     "end_time": "2022-07-15T09:00:16.530276Z",
     "start_time": "2022-07-15T09:00:16.498362Z"
    }
   },
   "outputs": [
    {
     "name": "stdout",
     "output_type": "stream",
     "text": [
      "<class 'pandas.core.frame.DataFrame'>\n",
      "RangeIndex: 73 entries, 0 to 72\n",
      "Data columns (total 1 columns):\n",
      " #   Column   Non-Null Count  Dtype\n",
      "---  ------   --------------  -----\n",
      " 0   일자 및 요일  73 non-null     int32\n",
      "dtypes: int32(1)\n",
      "memory usage: 420.0 bytes\n"
     ]
    }
   ],
   "source": [
    "hdays_df.info()"
   ]
  },
  {
   "cell_type": "code",
   "execution_count": 10,
   "id": "08aa23fd",
   "metadata": {
    "ExecuteTime": {
     "end_time": "2022-07-15T09:00:18.146563Z",
     "start_time": "2022-07-15T09:00:18.131601Z"
    }
   },
   "outputs": [],
   "source": [
    "# 휴장일 리스트 생성\n",
    "hdays_list = hdays_df[\"일자 및 요일\"].values.tolist()"
   ]
  },
  {
   "cell_type": "code",
   "execution_count": 11,
   "id": "30c8ff2d",
   "metadata": {
    "ExecuteTime": {
     "end_time": "2022-07-15T09:00:18.537032Z",
     "start_time": "2022-07-15T09:00:18.524067Z"
    }
   },
   "outputs": [
    {
     "data": {
      "text/plain": [
       "73"
      ]
     },
     "execution_count": 11,
     "metadata": {},
     "output_type": "execute_result"
    }
   ],
   "source": [
    "len(hdays_list)"
   ]
  },
  {
   "cell_type": "code",
   "execution_count": 18,
   "id": "c123a578",
   "metadata": {
    "ExecuteTime": {
     "end_time": "2022-07-15T11:35:57.775082Z",
     "start_time": "2022-07-15T11:35:57.747159Z"
    }
   },
   "outputs": [
    {
     "name": "stdout",
     "output_type": "stream",
     "text": [
      "20200331\n"
     ]
    }
   ],
   "source": [
    "# YYYY-MM-DD부터 YYYY-MM-DD 까지 영업일 리스트 생성\n",
    "bdays = pd.date_range('2020-01-01', '2020-03-31', freq='B')\n",
    "\n",
    "# 빈 데이터 프레임 생성\n",
    "df = pd.DataFrame()\n",
    "# 영업일 컬럼 생성\n",
    "df['bdays'] = bdays\n",
    "df['bdays'] = df['bdays'].dt.strftime('%Y%m%d') \n",
    "df['bdays'] = df['bdays'].astype(int)\n",
    "# 업일 컬럼값을 리스트로 생성\n",
    "bdays_list = df['bdays'].tolist()\n",
    "print(bdays_list[-1])\n"
   ]
  },
  {
   "cell_type": "code",
   "execution_count": 53,
   "id": "84a4c214",
   "metadata": {
    "ExecuteTime": {
     "end_time": "2022-07-15T16:06:55.502361Z",
     "start_time": "2022-07-15T16:06:55.354023Z"
    }
   },
   "outputs": [
    {
     "data": {
      "text/plain": [
       "['삼성전자',\n",
       " 'SK하이닉스',\n",
       " '삼성바이오로직스',\n",
       " '삼성전자우',\n",
       " '현대차',\n",
       " '삼성SDI',\n",
       " 'LG화학',\n",
       " '카카오',\n",
       " '셀트리온',\n",
       " '삼성물산',\n",
       " '현대모비스',\n",
       " '신한지주',\n",
       " 'SK이노베이션',\n",
       " 'SK',\n",
       " 'LG전자',\n",
       " 'LG',\n",
       " 'SK텔레콤',\n",
       " 'LG생활건강',\n",
       " '삼성전기',\n",
       " '삼성에스디에스',\n",
       " 'S-Oil',\n",
       " 'KT',\n",
       " '대한항공',\n",
       " '고려아연',\n",
       " '포스코케미칼',\n",
       " 'LG이노텍',\n",
       " '엔씨소프트',\n",
       " '아모레퍼시픽',\n",
       " '현대글로비스',\n",
       " 'CJ제일제당',\n",
       " '넷마블',\n",
       " '롯데케미칼',\n",
       " '한국조선해양',\n",
       " 'LG디스플레이',\n",
       " '한온시스템',\n",
       " '강원랜드',\n",
       " 'LG유플러스',\n",
       " 'SKC',\n",
       " '한국항공우주',\n",
       " '맥쿼리인프라',\n",
       " '삼성중공업',\n",
       " '오리온',\n",
       " '유한양행',\n",
       " '현대제철',\n",
       " '현대건설',\n",
       " '한국타이어앤테크놀로지',\n",
       " '한진칼',\n",
       " '한미약품',\n",
       " '삼성엔지니어링',\n",
       " 'GS',\n",
       " '금호석유',\n",
       " '삼성카드',\n",
       " '롯데지주',\n",
       " '현대오토에버',\n",
       " '현대차2우B',\n",
       " 'BGF리테일',\n",
       " '현대미포조선',\n",
       " '일진머티리얼즈',\n",
       " '한국가스공사',\n",
       " '아모레G',\n",
       " '두산밥캣',\n",
       " '이마트',\n",
       " '팬오션',\n",
       " '한미사이언스',\n",
       " '호텔신라',\n",
       " 'CJ대한통운',\n",
       " '롯데쇼핑',\n",
       " '제일기획',\n",
       " 'GS리테일',\n",
       " '동서',\n",
       " '한전기술',\n",
       " '만도',\n",
       " '한솔케미칼',\n",
       " '에스원',\n",
       " 'GS건설',\n",
       " 'KCC',\n",
       " '한화시스템',\n",
       " 'CJ',\n",
       " '포스코인터내셔널',\n",
       " '한화에어로스페이스',\n",
       " '현대차우',\n",
       " '녹십자',\n",
       " '대우건설',\n",
       " '현대로템',\n",
       " '대우조선해양',\n",
       " '대웅제약',\n",
       " '신세계',\n",
       " '하이트진로',\n",
       " '대한전선',\n",
       " '씨에스윈드',\n",
       " 'DB하이텍',\n",
       " 'LG화학우',\n",
       " '두산퓨얼셀',\n",
       " 'SK케미칼',\n",
       " '한화',\n",
       " '농심',\n",
       " 'LS',\n",
       " '한전KPS',\n",
       " '영원무역',\n",
       " '오뚜기',\n",
       " '대웅',\n",
       " '롯데정밀화학',\n",
       " '현대위아',\n",
       " '롯데칠성',\n",
       " '코스모신소재',\n",
       " 'LIG넥스원',\n",
       " '동원시스템즈',\n",
       " '효성',\n",
       " '후성',\n",
       " '현대백화점',\n",
       " '에스엘',\n",
       " '신풍제약',\n",
       " '효성첨단소재',\n",
       " '코오롱인더',\n",
       " '한미반도체',\n",
       " '한샘',\n",
       " '효성티앤씨',\n",
       " '일동제약',\n",
       " '대성홀딩스',\n",
       " '롯데리츠',\n",
       " '서울가스',\n",
       " '진원생명과학',\n",
       " '아이에스동서',\n",
       " '동국제강',\n",
       " 'NHN',\n",
       " '종근당',\n",
       " '아시아나항공',\n",
       " '현대엘리베이',\n",
       " '두산',\n",
       " 'SK네트웍스',\n",
       " '더존비즈온',\n",
       " '신세계인터내셔날',\n",
       " '해성디에스',\n",
       " '미원에스씨',\n",
       " '태광산업',\n",
       " '녹십자홀딩스',\n",
       " 'SK가스',\n",
       " '금호타이어',\n",
       " '오리온홀딩스',\n",
       " '영풍',\n",
       " '한올바이오파마',\n",
       " '한일시멘트',\n",
       " '이노션',\n",
       " '미원상사',\n",
       " '한국콜마',\n",
       " '덴티움',\n",
       " 'CJ CGV',\n",
       " '유니드',\n",
       " '현대일렉트릭',\n",
       " '삼양식품',\n",
       " '다우기술',\n",
       " '하나투어',\n",
       " '우리종금',\n",
       " 'SBS',\n",
       " '대한유화',\n",
       " '동원산업',\n",
       " '롯데관광개발',\n",
       " '지누스',\n",
       " '코스맥스',\n",
       " 'LG전자우',\n",
       " '현대건설기계',\n",
       " '대상',\n",
       " '파미셀',\n",
       " '삼천리',\n",
       " '롯데제과',\n",
       " '제주항공',\n",
       " '더블유게임즈',\n",
       " '현대그린푸드',\n",
       " '대한해운',\n",
       " '진에어',\n",
       " 'HDC현대산업개발',\n",
       " '한섬',\n",
       " '세방전지',\n",
       " '동아쏘시오홀딩스',\n",
       " 'LG생활건강우',\n",
       " '부광약품',\n",
       " 'SPC삼립',\n",
       " '풍산',\n",
       " '영진약품',\n",
       " '화승엔터프라이즈',\n",
       " '영원무역홀딩스',\n",
       " 'SK디스커버리',\n",
       " '쿠쿠홈시스',\n",
       " '한세실업',\n",
       " '드림텍',\n",
       " '삼양홀딩스',\n",
       " '현대홈쇼핑',\n",
       " '동원F&B',\n",
       " '신한알파리츠',\n",
       " '넥센타이어',\n",
       " '한국단자',\n",
       " 'NICE',\n",
       " '경동나비엔',\n",
       " '세아제강지주',\n",
       " 'JW중외제약',\n",
       " '쿠쿠홀딩스',\n",
       " '한국카본',\n",
       " '효성화학',\n",
       " '동아에스티',\n",
       " '자화전자',\n",
       " 'SK디앤디',\n",
       " '율촌화학',\n",
       " '아모레퍼시픽우',\n",
       " '이연제약',\n",
       " '효성중공업',\n",
       " '코스모화학',\n",
       " '흥아해운',\n",
       " '송원산업',\n",
       " '풀무원',\n",
       " '삼성SDI우',\n",
       " '스카이라이프',\n",
       " '코리아써키트',\n",
       " '일양약품',\n",
       " '빙그레',\n",
       " '남해화학',\n",
       " '고려제강',\n",
       " '이수페타시스',\n",
       " '삼화콘덴서',\n",
       " '세아제강',\n",
       " '국도화학',\n",
       " '한국자산신탁',\n",
       " '맵스리얼티1',\n",
       " '쌍용차',\n",
       " '대원제약',\n",
       " '한진',\n",
       " '한일현대시멘트',\n",
       " '삼양사',\n",
       " '동일산업',\n",
       " '이수화학',\n",
       " '롯데정보통신',\n",
       " 'DI동일',\n",
       " '락앤락',\n",
       " '유나이티드제약',\n",
       " '신성통상',\n",
       " '아세아시멘트',\n",
       " '코오롱플라스틱',\n",
       " '한국토지신탁',\n",
       " '롯데하이마트',\n",
       " '세아홀딩스',\n",
       " 'BGF',\n",
       " 'HDC',\n",
       " '한라홀딩스',\n",
       " 'HSD엔진',\n",
       " '롯데푸드',\n",
       " '코오롱글로벌',\n",
       " '애경산업',\n",
       " 'YG PLUS',\n",
       " 'KEC',\n",
       " '서흥',\n",
       " '퍼시스',\n",
       " '케이씨텍',\n",
       " '일동홀딩스',\n",
       " '대한제강',\n",
       " '삼부토건',\n",
       " '신성이엔지']"
      ]
     },
     "execution_count": 53,
     "metadata": {},
     "output_type": "execute_result"
    }
   ],
   "source": [
    "comp_name = pd.read_excel('./csv/2022년 기준 코스피 상위종목_금융업제외.xlsx')\n",
    "comp_name_list = comp_name[\"종목명\"].values.tolist()\n",
    "comp_name_list"
   ]
  },
  {
   "cell_type": "code",
   "execution_count": 54,
   "id": "a8b51daa",
   "metadata": {
    "ExecuteTime": {
     "end_time": "2022-07-15T16:06:56.967974Z",
     "start_time": "2022-07-15T16:06:56.949744Z"
    }
   },
   "outputs": [
    {
     "data": {
      "text/plain": [
       "255"
      ]
     },
     "execution_count": 54,
     "metadata": {},
     "output_type": "execute_result"
    }
   ],
   "source": [
    "len(comp_name_list)"
   ]
  },
  {
   "cell_type": "markdown",
   "id": "915ad7fe",
   "metadata": {},
   "source": [
    "### 특정 기간별 외국인 보유량 다운로드"
   ]
  },
  {
   "cell_type": "code",
   "execution_count": 56,
   "id": "4b949bcc",
   "metadata": {
    "ExecuteTime": {
     "end_time": "2022-07-15T17:35:08.975366Z",
     "start_time": "2022-07-15T16:46:07.082242Z"
    },
    "scrolled": false
   },
   "outputs": [
    {
     "name": "stderr",
     "output_type": "stream",
     "text": [
      "C:\\Users\\wndgj\\AppData\\Local\\Temp\\ipykernel_12984\\1380950931.py:10: DeprecationWarning: executable_path has been deprecated, please pass in a Service object\n",
      "  driver = webdriver.Chrome('./chromedriver.exe')\n"
     ]
    }
   ],
   "source": [
    "# 구글 크롬 사용을 위해 webdriver 따로 다운로드 후 불러오기\n",
    "from selenium import webdriver\n",
    "from selenium.webdriver.common.by import By\n",
    "from selenium.webdriver.common.keys import Keys\n",
    "from selenium.webdriver.support.ui import WebDriverWait\n",
    "from selenium.webdriver.support import expected_conditions as EC\n",
    "import time\n",
    "\n",
    "# chromedirver 불러오기\n",
    "driver = webdriver.Chrome('./chromedriver.exe')\n",
    "driver.maximize_window()\n",
    "time.sleep(1)\n",
    "\n",
    "# krx 링크 열기\n",
    "krxStatUrl = \"http://data.krx.co.kr/contents/MDC/MDI/mdiLoader/index.cmd?menuId=MDC0201\"\n",
    "driver.get(krxStatUrl)\n",
    "\n",
    "# XPath를 사용한 좌측 탭의 \"기본통계\" - \"주식\" - \"세부안내\" - \"외국인보유량\" 클릭\n",
    "ForeHold = driver.find_element(By.XPATH, \n",
    "                               \"//*[@id='jsMdiMenu']/div[4]/ul/li[1]/ul/li[2]/div/div[1]/ul/li[2]/ul/li[5]/ul/li[4]/a\")\n",
    "# \"외국인보유량\" 클릭\n",
    "driver.execute_script(\"arguments[0].click();\", ForeHold)\n",
    "\n",
    "# \"개별추이\"\n",
    "Indiv = WebDriverWait(driver, 10).until(\n",
    "                EC.element_to_be_clickable((By.XPATH,\n",
    "                                            \"//*[@id='searchType_0_1']\")))\n",
    "\n",
    "# # XPath를 사용한 개별추이 버튼 클릭\n",
    "driver.execute_script(\"arguments[0].click();\", Indiv)\n",
    "\n",
    "time.sleep(1)\n",
    "\n",
    "# 모든 날짜에서 휴장일과 주말을 뺀 개장일 리스트\n",
    "odays = [x for x in bdays_list if x not in hdays_list]\n",
    "\n",
    "DateSearch_start = WebDriverWait(driver, 10).until(\n",
    "                EC.element_to_be_clickable((By.XPATH,\n",
    "                                            \"//*[@id='startCalender']\")))\n",
    "DateSearch_start.click()\n",
    "DateSearch_start.send_keys(Keys.CONTROL + \"a\")\n",
    "DateSearch_start.send_keys(Keys.BACKSPACE)\n",
    "DateSearch_start.send_keys(odays[0])\n",
    "\n",
    "DateSearch_end = WebDriverWait(driver, 10).until(\n",
    "                EC.element_to_be_clickable((By.XPATH,\n",
    "                                            \"//*[@id='endCalendar']\")))\n",
    "DateSearch_end.click()\n",
    "DateSearch_end.send_keys(Keys.CONTROL + \"a\")\n",
    "DateSearch_end.send_keys(Keys.BACKSPACE)\n",
    "DateSearch_end.send_keys(odays[-1]) \n",
    "\n",
    "for comp in comp_name_list:\n",
    "    mag_button = WebDriverWait(driver, 10).until(\n",
    "                    EC.element_to_be_clickable((By.XPATH,\n",
    "                                               \"//*[@id='btnisuCd_finder_stkisu0_0']\")))\n",
    "    \n",
    "    mag_button.click()\n",
    "    \n",
    "    time.sleep(1)\n",
    "    \n",
    "    comp_input = WebDriverWait(driver, 10).until(\n",
    "                    EC.presence_of_element_located((By.XPATH,\n",
    "                                           \"//*[@id='searchText__finder_stkisu0_0']\")))\n",
    "    comp_input.click()\n",
    "    comp_input.send_keys(comp)\n",
    "    \n",
    "    time.sleep(1)\n",
    "    \n",
    "    comp_search = WebDriverWait(driver, 10).until(\n",
    "                    EC.presence_of_element_located((By.XPATH,\n",
    "                                                \"//*[@id='searchBtn__finder_stkisu0_0']\")))\n",
    "    comp_search.click()\n",
    "    \n",
    "    time.sleep(2)\n",
    "    \n",
    "    first_opt = WebDriverWait(driver, 10).until(\n",
    "                    EC.presence_of_element_located((By.XPATH,\n",
    "                                                   \"//*[@id='jsGrid__finder_stkisu0_0']/tbody/tr[1]/td[2]\")))\n",
    "    first_opt.click()\n",
    "    \n",
    "    time.sleep(1)\n",
    "   \n",
    "    \n",
    "    # \"조회\" 버튼 XPath\n",
    "    SearchBtn = driver.find_element(By.XPATH,\n",
    "                        \"//*[@id='jsSearchButton']\")\n",
    "    SearchBtn.click()\n",
    "    \n",
    "    time.sleep(1)\n",
    "\n",
    "    # 다운로드 버튼 class\n",
    "    downloadBtn = WebDriverWait(driver, 10).until(\n",
    "                    EC.element_to_be_clickable((By.CLASS_NAME, \n",
    "                                               \"CI-MDI-UNIT-DOWNLOAD\")))\n",
    "    downloadBtn.click()\n",
    "\n",
    "    # csv 다운로드 버튼 XPath\n",
    "    csvBtn = WebDriverWait(driver, 10).until(\n",
    "                    EC.element_to_be_clickable((By.LINK_TEXT, \n",
    "                                               \"CSV\")))\n",
    "    csvBtn.click()"
   ]
  },
  {
   "cell_type": "code",
   "execution_count": 77,
   "id": "84aca987",
   "metadata": {
    "ExecuteTime": {
     "end_time": "2022-07-13T09:18:44.633447Z",
     "start_time": "2022-07-13T09:18:44.624471Z"
    }
   },
   "outputs": [
    {
     "data": {
      "text/plain": [
       "[20220701]"
      ]
     },
     "execution_count": 77,
     "metadata": {},
     "output_type": "execute_result"
    }
   ],
   "source": [
    "odays"
   ]
  },
  {
   "cell_type": "code",
   "execution_count": null,
   "id": "82be86f4",
   "metadata": {},
   "outputs": [],
   "source": []
  }
 ],
 "metadata": {
  "kernelspec": {
   "display_name": "Python 3 (ipykernel)",
   "language": "python",
   "name": "python3"
  },
  "language_info": {
   "codemirror_mode": {
    "name": "ipython",
    "version": 3
   },
   "file_extension": ".py",
   "mimetype": "text/x-python",
   "name": "python",
   "nbconvert_exporter": "python",
   "pygments_lexer": "ipython3",
   "version": "3.10.1"
  },
  "toc": {
   "base_numbering": 1,
   "nav_menu": {},
   "number_sections": true,
   "sideBar": true,
   "skip_h1_title": false,
   "title_cell": "Table of Contents",
   "title_sidebar": "Contents",
   "toc_cell": false,
   "toc_position": {},
   "toc_section_display": true,
   "toc_window_display": false
  }
 },
 "nbformat": 4,
 "nbformat_minor": 5
}
